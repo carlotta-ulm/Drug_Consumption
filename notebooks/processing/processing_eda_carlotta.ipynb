{
 "cells": [
  {
   "cell_type": "markdown",
   "metadata": {},
   "source": [
    "# Processing data for EDA"
   ]
  },
  {
   "cell_type": "code",
   "execution_count": 483,
   "metadata": {},
   "outputs": [],
   "source": [
    "import numpy as np\n",
    "import pandas as pd\n",
    "\n",
    "# Import visualisation libraries\n",
    "import seaborn as sns\n",
    "import matplotlib.pyplot as plt\n",
    "import plotly.express as px\n",
    "\n",
    "\n",
    "# Pretty display for notebooks\n",
    "%matplotlib inline\n",
    "\n",
    "pd.set_option(\"display.max_columns\", None)"
   ]
  },
  {
   "cell_type": "code",
   "execution_count": 484,
   "metadata": {},
   "outputs": [],
   "source": [
    "df = pd.read_excel(\"../../data/raw/drug_consumption.xls\")"
   ]
  },
  {
   "cell_type": "markdown",
   "metadata": {},
   "source": [
    "### Convert Drug values into interger"
   ]
  },
  {
   "cell_type": "code",
   "execution_count": 485,
   "metadata": {},
   "outputs": [],
   "source": [
    "drugs = df.columns[13:]\n",
    "for drug in drugs: \n",
    "    df[drug] = df[drug].str.replace('CL', '').astype('int')"
   ]
  },
  {
   "cell_type": "markdown",
   "metadata": {},
   "source": [
    "### Change column values for better understanding"
   ]
  },
  {
   "cell_type": "code",
   "execution_count": 486,
   "metadata": {},
   "outputs": [],
   "source": [
    "def gender(gend):\n",
    "    if gend == 0.48246:\n",
    "        return \"0\"\n",
    "    else:\n",
    "        return \"1\"\n",
    "\n",
    "df['Gender'] = df['Gender'].apply(gender)"
   ]
  },
  {
   "cell_type": "code",
   "execution_count": 487,
   "metadata": {},
   "outputs": [],
   "source": [
    "def age(a):\n",
    "    if a == -0.95197:\n",
    "        return '18-24'\n",
    "    elif a == -0.07854:\n",
    "        return '25-34'\n",
    "    elif a == 0.49788:\n",
    "        return '35-44'\n",
    "    elif a == 1.09449:\n",
    "        return '45-54'\n",
    "    elif a == 1.82213:\n",
    "        return '55-64'\n",
    "    else:\n",
    "        return '65+'\n",
    "    \n",
    "df['Age'] = df['Age'].apply(age)"
   ]
  },
  {
   "cell_type": "code",
   "execution_count": 488,
   "metadata": {},
   "outputs": [],
   "source": [
    "def education(e):\n",
    "    if e == -2.43591:\n",
    "        return 'before_16'\n",
    "    elif e == -1.73790:\n",
    "        return 'at_16'\n",
    "    elif e == -1.43719:\n",
    "        return 'at_17'\n",
    "    elif e == -1.22751:\n",
    "        return 'at_18'\n",
    "    elif e == -0.61113:\n",
    "        return 'some_college'\n",
    "    elif e == -0.05921:\n",
    "        return 'diploma'\n",
    "    elif e == 0.45468:\n",
    "        return 'university_degree'\n",
    "    elif e == 1.16365:\n",
    "        return 'masters_degree'\n",
    "    else:\n",
    "        return 'doctorate_degree'\n",
    "    \n",
    "df['Education'] = df['Education'].apply(education)"
   ]
  },
  {
   "cell_type": "code",
   "execution_count": 489,
   "metadata": {},
   "outputs": [],
   "source": [
    "def country(c):\n",
    "    if c == -0.09765:\n",
    "        return 'australia'\n",
    "    elif c == 0.24923:\n",
    "        return 'canada'\n",
    "    elif c == -0.46841:\n",
    "        return 'new_zealand'\n",
    "    elif c == -0.28519:\n",
    "        return 'other'\n",
    "    elif c == 0.21128:\n",
    "        return 'republic_of_ireland'\n",
    "    elif c == 0.96082:\n",
    "        return 'uk'\n",
    "    elif c == -0.57009:\n",
    "        return 'usa'\n",
    "\n",
    "    \n",
    "df['Country'] = df['Country'].apply(country)"
   ]
  },
  {
   "cell_type": "code",
   "execution_count": 490,
   "metadata": {},
   "outputs": [],
   "source": [
    "def ethnicity_transform(e):\n",
    "    if e==-0.50212:\n",
    "        return \"asian\"\n",
    "    elif e==-1.10702:\n",
    "        return \"black\"\n",
    "    elif e==1.90725:\n",
    "        return \"black-asian\"\n",
    "    elif e==0.12600:\n",
    "        return \"white-asian\"\n",
    "    elif e==-0.22166:\n",
    "        return \"white-black\"\n",
    "    elif e==0.11440:\n",
    "        return \"other\"\n",
    "    elif e==-0.31685:\n",
    "        return \"white\"\n",
    "    \n",
    "df.Ethnicity = df.Ethnicity.apply(ethnicity_transform)"
   ]
  },
  {
   "cell_type": "markdown",
   "metadata": {},
   "source": [
    "### Identify Over-claimer\n",
    "Semer is a fictious drug to identify overclaimer. "
   ]
  },
  {
   "cell_type": "code",
   "execution_count": 491,
   "metadata": {},
   "outputs": [],
   "source": [
    "df.query('Semer == 0', inplace = True)"
   ]
  },
  {
   "cell_type": "markdown",
   "metadata": {},
   "source": [
    "### Create bins for Drugs"
   ]
  },
  {
   "cell_type": "code",
   "execution_count": 492,
   "metadata": {},
   "outputs": [],
   "source": [
    "drugs = df.columns[13:]\n",
    "drugs_bin = [drug + '_bin' for drug in drugs]\n",
    "def users(u):\n",
    "    if u == 0 or u == 1:\n",
    "        return 0\n",
    "    else:\n",
    "        return 1\n",
    "    "
   ]
  },
  {
   "cell_type": "code",
   "execution_count": 493,
   "metadata": {},
   "outputs": [],
   "source": [
    "for i in range(len(drugs)):\n",
    "    df[drugs_bin[i]] = df[drugs[i]].apply(users)"
   ]
  },
  {
   "cell_type": "markdown",
   "metadata": {},
   "source": [
    "### Delete Columns\n",
    "* The rows with overclaimer are going to be deleted (only 8)\n",
    "+ The row ID is not necessary"
   ]
  },
  {
   "cell_type": "code",
   "execution_count": 494,
   "metadata": {},
   "outputs": [],
   "source": [
    "df.drop('ID', axis=1, inplace=True)"
   ]
  },
  {
   "cell_type": "code",
   "execution_count": 495,
   "metadata": {},
   "outputs": [],
   "source": [
    "df.drop('Semer', axis=1, inplace=True)\n",
    "df.drop('Semer_bin', axis=1, inplace=True)"
   ]
  },
  {
   "cell_type": "markdown",
   "metadata": {},
   "source": [
    "### Save csv for EDA"
   ]
  },
  {
   "cell_type": "code",
   "execution_count": 500,
   "metadata": {},
   "outputs": [],
   "source": [
    "data_eda = df.iloc[:, :48].to_csv('../../data/processed/data_eda.csv', index=False)"
   ]
  },
  {
   "cell_type": "code",
   "execution_count": 339,
   "metadata": {},
   "outputs": [],
   "source": []
  },
  {
   "cell_type": "code",
   "execution_count": null,
   "metadata": {},
   "outputs": [],
   "source": []
  }
 ],
 "metadata": {
  "kernelspec": {
   "display_name": "Python [conda env:nf] *",
   "language": "python",
   "name": "conda-env-nf-py"
  },
  "language_info": {
   "codemirror_mode": {
    "name": "ipython",
    "version": 3
   },
   "file_extension": ".py",
   "mimetype": "text/x-python",
   "name": "python",
   "nbconvert_exporter": "python",
   "pygments_lexer": "ipython3",
   "version": "3.6.10"
  }
 },
 "nbformat": 4,
 "nbformat_minor": 4
}
