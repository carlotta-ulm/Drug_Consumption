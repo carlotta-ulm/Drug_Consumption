{
 "cells": [
  {
   "cell_type": "markdown",
   "metadata": {},
   "source": [
    "# Modelling 'Junkie' Drugs"
   ]
  },
  {
   "cell_type": "code",
   "execution_count": 40,
   "metadata": {},
   "outputs": [],
   "source": [
    "import numpy as np\n",
    "import pandas as pd\n",
    "\n",
    "import seaborn as sns\n",
    "import matplotlib.pyplot as plt\n",
    "\n",
    "from sklearn.metrics import f1_score\n",
    "from sklearn.metrics import precision_score\n",
    "from sklearn.metrics import recall_score\n",
    "\n",
    "from sklearn.model_selection import cross_val_predict, cross_val_score, cross_validate\n",
    "from sklearn.metrics import classification_report \n",
    "from sklearn.metrics import confusion_matrix\n",
    "\n",
    "from sklearn.model_selection import GridSearchCV\n",
    "\n",
    "pd.set_option(\"display.max_columns\", None)"
   ]
  },
  {
   "cell_type": "code",
   "execution_count": 27,
   "metadata": {},
   "outputs": [],
   "source": [
    "data = pd.read_excel(\"../../data/raw/drug_consumption.xls\")"
   ]
  },
  {
   "cell_type": "markdown",
   "metadata": {},
   "source": [
    "## Process Data\n",
    "* Change the prefix in the values of the Drug columns and convert them into interger\n",
    "* Drop the rows that contain the fictiuos drug (Semer)\n",
    "* Drop unnecessary columns (ID and Semer)"
   ]
  },
  {
   "cell_type": "code",
   "execution_count": 28,
   "metadata": {},
   "outputs": [],
   "source": [
    "drugs = data.columns[13:]\n",
    "for drug in drugs: \n",
    "    data[drug] = data[drug].str.replace('CL', '').astype('int')\n",
    "    \n",
    "data.query('Semer == 0', inplace = True)\n",
    "\n",
    "data.drop('ID', axis=1, inplace=True)\n",
    "data.drop('Semer', axis=1, inplace=True)"
   ]
  },
  {
   "cell_type": "markdown",
   "metadata": {},
   "source": [
    "## Categorize 'Junkie' Drugs\n",
    "* Categorization is based on the corretaion between the drugs as well as in compliance with information relevant to the business case \n",
    "* In this case the threshold, as of when somebody is classified as a 'user' is if the individual used this drug more recently than in the last decade\n",
    "* A new colums is created which contains the combination of the categorized drugs"
   ]
  },
  {
   "cell_type": "code",
   "execution_count": 29,
   "metadata": {},
   "outputs": [
    {
     "data": {
      "text/plain": [
       "0    1025\n",
       "1     852\n",
       "Name: illegal_drugs_2, dtype: int64"
      ]
     },
     "execution_count": 29,
     "metadata": {},
     "output_type": "execute_result"
    }
   ],
   "source": [
    "illegal_drugs2 = ['Meth', 'Benzos', 'Heroin', 'Crack']\n",
    "\n",
    "for drug in illegal_drugs2:\n",
    "    data[drug+'_bin'] = [1 if d > 1 else 0 for d in data[drug].values]\n",
    "\n",
    "data['illegal_drugs_2'] = data['Meth_bin'] + data['Benzos_bin'] + data['Heroin_bin'] + data['Crack_bin']\n",
    "\n",
    "data['illegal_drugs_2'] = [1 if ill > 0 else 0 for ill in data.illegal_drugs_2.values]\n",
    "\n",
    "data.illegal_drugs_2.value_counts()"
   ]
  },
  {
   "cell_type": "markdown",
   "metadata": {},
   "source": [
    "## Train Test Split"
   ]
  },
  {
   "cell_type": "code",
   "execution_count": 30,
   "metadata": {},
   "outputs": [],
   "source": [
    "from sklearn.model_selection import train_test_split\n",
    "\n",
    "df, df_test = train_test_split(data, test_size=0.33, random_state=1, stratify=data['illegal_drugs_2'])"
   ]
  },
  {
   "cell_type": "markdown",
   "metadata": {},
   "source": [
    "## Define X and Y"
   ]
  },
  {
   "cell_type": "code",
   "execution_count": 31,
   "metadata": {},
   "outputs": [],
   "source": [
    "X = df.iloc[:,:12]\n",
    "y = df['illegal_drugs_2']\n",
    "features = list(X.columns)"
   ]
  },
  {
   "cell_type": "markdown",
   "metadata": {},
   "source": [
    "Ratio of user and non-user:"
   ]
  },
  {
   "cell_type": "code",
   "execution_count": 32,
   "metadata": {},
   "outputs": [
    {
     "data": {
      "text/plain": [
       "0    0.545744\n",
       "1    0.454256\n",
       "Name: illegal_drugs_2, dtype: float64"
      ]
     },
     "execution_count": 32,
     "metadata": {},
     "output_type": "execute_result"
    }
   ],
   "source": [
    "df.illegal_drugs_2.value_counts()/df.shape[0]"
   ]
  },
  {
   "cell_type": "markdown",
   "metadata": {},
   "source": [
    "## Create Baseline Model - Bayes\n",
    "To be able to compare the progress of other models. <br>\n",
    "Here a simple Naive Bayes Model was choosen as the baseline model\n"
   ]
  },
  {
   "cell_type": "code",
   "execution_count": 33,
   "metadata": {},
   "outputs": [
    {
     "name": "stdout",
     "output_type": "stream",
     "text": [
      "              precision    recall  f1-score   support\n",
      "\n",
      "           0       0.73      0.74      0.73       686\n",
      "           1       0.68      0.67      0.68       571\n",
      "\n",
      "    accuracy                           0.71      1257\n",
      "   macro avg       0.71      0.71      0.71      1257\n",
      "weighted avg       0.71      0.71      0.71      1257\n",
      "\n"
     ]
    },
    {
     "data": {
      "image/png": "[encoded data removed]",
      "text/plain": [
       "<Figure size 432x288 with 2 Axes>"
      ]
     },
     "metadata": {
      "needs_background": "light"
     },
     "output_type": "display_data"
    }
   ],
   "source": [
    "from sklearn.naive_bayes import GaussianNB\n",
    "\n",
    "gnb = GaussianNB()\n",
    "y_pred = cross_val_predict(gnb, X, y, cv=5)\n",
    "cm = confusion_matrix(y, y_pred)\n",
    "print(classification_report(y, y_pred))\n",
    "sns.heatmap(cm, annot=True, \n",
    "            cmap='Blues', fmt='.0f');"
   ]
  },
  {
   "cell_type": "markdown",
   "metadata": {},
   "source": [
    "## SMOTE\n",
    "To be able to handel imbalanced data the data was oversampled with SMOTE."
   ]
  },
  {
   "cell_type": "code",
   "execution_count": 53,
   "metadata": {},
   "outputs": [],
   "source": [
    "from imblearn.over_sampling import SMOTE\n",
    "oversample = SMOTE()\n",
    "X_smote, y_smote = oversample.fit_resample(X, y)"
   ]
  },
  {
   "cell_type": "markdown",
   "metadata": {},
   "source": [
    "# Models\n",
    "First some 'simpler' models were trained. \n",
    "* Decision Tree\n",
    "* Random Forest\n",
    "* SVM"
   ]
  },
  {
   "cell_type": "markdown",
   "metadata": {},
   "source": [
    "### Decision Tree"
   ]
  },
  {
   "cell_type": "code",
   "execution_count": 35,
   "metadata": {},
   "outputs": [
    {
     "name": "stdout",
     "output_type": "stream",
     "text": [
      "              precision    recall  f1-score   support\n",
      "\n",
      "           0       0.70      0.68      0.69       686\n",
      "           1       0.69      0.71      0.70       686\n",
      "\n",
      "    accuracy                           0.70      1372\n",
      "   macro avg       0.70      0.70      0.70      1372\n",
      "weighted avg       0.70      0.70      0.70      1372\n",
      "\n"
     ]
    },
    {
     "data": {
      "image/png": "[encoded data removed]",
      "text/plain": [
       "<Figure size 432x288 with 2 Axes>"
      ]
     },
     "metadata": {
      "needs_background": "light"
     },
     "output_type": "display_data"
    }
   ],
   "source": [
    "from sklearn.tree import DecisionTreeClassifier\n",
    "\n",
    "dtree = DecisionTreeClassifier(max_depth=5)\n",
    "\n",
    "y_pred = cross_val_predict(dtree, X_smote, y_smote, cv=5)\n",
    "cm = confusion_matrix(y_smote, y_pred)\n",
    "print(classification_report(y_smote, y_pred))\n",
    "sns.heatmap(cm, annot=True, \n",
    "            cmap='Blues', fmt='.0f');"
   ]
  },
  {
   "cell_type": "markdown",
   "metadata": {},
   "source": [
    "### Random Forest"
   ]
  },
  {
   "cell_type": "code",
   "execution_count": 36,
   "metadata": {},
   "outputs": [
    {
     "name": "stdout",
     "output_type": "stream",
     "text": [
      "              precision    recall  f1-score   support\n",
      "\n",
      "           0       0.73      0.73      0.73       686\n",
      "           1       0.73      0.74      0.73       686\n",
      "\n",
      "    accuracy                           0.73      1372\n",
      "   macro avg       0.73      0.73      0.73      1372\n",
      "weighted avg       0.73      0.73      0.73      1372\n",
      "\n",
      "[[501 185]\n",
      " [181 505]]\n"
     ]
    }
   ],
   "source": [
    "from sklearn.ensemble import RandomForestClassifier\n",
    "\n",
    "rnc = RandomForestClassifier(random_state=10)\n",
    "\n",
    "y_pred = cross_val_predict(rnc, X_smote, y_smote, cv=5)\n",
    "rnc.fit(X_smote,y_smote) \n",
    "cm = confusion_matrix(y_smote, y_pred)\n",
    "print(classification_report(y_smote, y_pred))\n",
    "sns.heatmap(cm, annot=True, \n",
    "            cmap='Blues', fmt='.0f');"
   ]
  },
  {
   "cell_type": "markdown",
   "metadata": {},
   "source": [
    "### SVM"
   ]
  },
  {
   "cell_type": "code",
   "execution_count": 37,
   "metadata": {},
   "outputs": [
    {
     "name": "stdout",
     "output_type": "stream",
     "text": [
      "              precision    recall  f1-score   support\n",
      "\n",
      "           0       0.73      0.70      0.71       686\n",
      "           1       0.71      0.74      0.73       686\n",
      "\n",
      "    accuracy                           0.72      1372\n",
      "   macro avg       0.72      0.72      0.72      1372\n",
      "weighted avg       0.72      0.72      0.72      1372\n",
      "\n",
      "[[480 206]\n",
      " [177 509]]\n"
     ]
    }
   ],
   "source": [
    "from sklearn import svm\n",
    "\n",
    "svm = svm.SVC(kernel='rbf')\n",
    "\n",
    "y_pred = cross_val_predict(svm, X_smote, y_smote, cv=5)\n",
    "cm = confusion_matrix(y_smote, y_pred)\n",
    "print(classification_report(y_smote, y_pred))\n",
    "sns.heatmap(cm, annot=True, \n",
    "            cmap='Blues', fmt='.0f');"
   ]
  },
  {
   "cell_type": "markdown",
   "metadata": {},
   "source": [
    "# Ensemble Methods\n",
    "* Adaboost\n",
    "* XGboost"
   ]
  },
  {
   "cell_type": "markdown",
   "metadata": {},
   "source": [
    "### Adaboost"
   ]
  },
  {
   "cell_type": "code",
   "execution_count": 38,
   "metadata": {},
   "outputs": [
    {
     "name": "stdout",
     "output_type": "stream",
     "text": [
      "              precision    recall  f1-score   support\n",
      "\n",
      "           0       0.68      0.73      0.70       686\n",
      "           1       0.71      0.66      0.68       686\n",
      "\n",
      "    accuracy                           0.69      1372\n",
      "   macro avg       0.70      0.69      0.69      1372\n",
      "weighted avg       0.70      0.69      0.69      1372\n",
      "\n",
      "[[498 188]\n",
      " [231 455]]\n"
     ]
    }
   ],
   "source": [
    "from sklearn.ensemble import AdaBoostClassifier\n",
    "\n",
    "ada = AdaBoostClassifier(random_state = 101)\n",
    "\n",
    "y_pred = cross_val_predict(ada, X_smote, y_smote, cv=5)\n",
    "ada.fit(X_smote,y_smote) \n",
    "cm = confusion_matrix(y_smote, y_pred)\n",
    "print(classification_report(y_smote, y_pred))\n",
    "sns.heatmap(cm, annot=True, \n",
    "            cmap='Blues', fmt='.0f');"
   ]
  },
  {
   "cell_type": "markdown",
   "metadata": {},
   "source": [
    "### XGboost"
   ]
  },
  {
   "cell_type": "code",
   "execution_count": 39,
   "metadata": {},
   "outputs": [
    {
     "name": "stdout",
     "output_type": "stream",
     "text": [
      "              precision    recall  f1-score   support\n",
      "\n",
      "           0       0.70      0.72      0.71       686\n",
      "           1       0.71      0.69      0.70       686\n",
      "\n",
      "    accuracy                           0.71      1372\n",
      "   macro avg       0.71      0.71      0.71      1372\n",
      "weighted avg       0.71      0.71      0.71      1372\n",
      "\n",
      "[[494 192]\n",
      " [212 474]]\n"
     ]
    }
   ],
   "source": [
    "from xgboost import XGBClassifier\n",
    "\n",
    "xgb = XGBClassifier()\n",
    "\n",
    "y_pred = cross_val_predict(xgb, X_smote, y_smote, cv=5)\n",
    "xgb.fit(X_smote,y_smote) \n",
    "cm = confusion_matrix(y_smote, y_pred)\n",
    "print(classification_report(y_smote, y_pred))\n",
    "sns.heatmap(cm, annot=True, \n",
    "            cmap='Blues', fmt='.0f');"
   ]
  },
  {
   "cell_type": "markdown",
   "metadata": {},
   "source": [
    "# Hyperparemeter tuning\n",
    "--> GridSearch \n",
    "* Random Forest\n",
    "* ensemble Methods\n",
    "* SVM"
   ]
  },
  {
   "cell_type": "markdown",
   "metadata": {},
   "source": [
    "### GridSearch Adaboost"
   ]
  },
  {
   "cell_type": "code",
   "execution_count": 41,
   "metadata": {},
   "outputs": [
    {
     "name": "stdout",
     "output_type": "stream",
     "text": [
      "Best score:\n",
      "0.71\n",
      "Best parameters:\n",
      "{'learning_rate': 0.1, 'n_estimators': 120}\n",
      "              precision    recall  f1-score   support\n",
      "\n",
      "           0       0.73      0.75      0.74       686\n",
      "           1       0.74      0.72      0.73       686\n",
      "\n",
      "    accuracy                           0.73      1372\n",
      "   macro avg       0.74      0.73      0.73      1372\n",
      "weighted avg       0.74      0.73      0.73      1372\n",
      "\n"
     ]
    }
   ],
   "source": [
    "from sklearn.metrics import fbeta_score, make_scorer\n",
    "\n",
    "ada = AdaBoostClassifier()\n",
    "\n",
    "parameters = {'n_estimators':[50, 120],                \n",
    "              'learning_rate':[0.1, 0.5, 1.]                            \n",
    "             } \n",
    "\n",
    "\n",
    "scorer = {'ftwo_scorer':make_scorer(fbeta_score, beta=1000, average='weighted'), 'prec':'precision', 'rec':'recall', 'f1':'f1'}\n",
    "\n",
    "grid_ada = GridSearchCV(ada, parameters, scoring =scorer, refit='f1') \n",
    "\n",
    "grid_ada.fit(X_smote,y_smote) \n",
    "best_ada = grid_ada.best_estimator_ \n",
    "y_pred = best_ada.predict(X_smote)\n",
    "\n",
    "\n",
    "print('Best score:\\n{:.2f}'.format(grid_ada.best_score_))\n",
    "print(\"Best parameters:\\n{}\".format(grid_ada.best_params_))\n",
    "\n",
    "df_ada = pd.DataFrame(grid_ada.cv_results_ )\n",
    "print(classification_report(y_smote, y_pred))"
   ]
  },
  {
   "cell_type": "markdown",
   "metadata": {},
   "source": [
    "### GridSearch XGboost"
   ]
  },
  {
   "cell_type": "code",
   "execution_count": 42,
   "metadata": {},
   "outputs": [
    {
     "name": "stderr",
     "output_type": "stream",
     "text": [
      "/Users/carlottaulm/opt/anaconda3/envs/nf/lib/python3.6/site-packages/sklearn/utils/validation.py:70: FutureWarning: Pass scoring={'ftwo_scorer': make_scorer(fbeta_score, beta=1000, average=weighted), 'prec': 'precision', 'rec': 'recall', 'f1': 'f1'} as keyword args. From version 0.25 passing these as positional arguments will result in an error\n",
      "  FutureWarning)\n"
     ]
    },
    {
     "name": "stdout",
     "output_type": "stream",
     "text": [
      "Best score:\n",
      "0.72\n",
      "Best parameters:\n",
      "{'colsample_bytree': 1.0, 'gamma': 2, 'max_depth': 5, 'min_child_weight': 10, 'subsample': 0.6}\n",
      "              precision    recall  f1-score   support\n",
      "\n",
      "           0       0.83      0.80      0.82       686\n",
      "           1       0.81      0.83      0.82       686\n",
      "\n",
      "    accuracy                           0.82      1372\n",
      "   macro avg       0.82      0.82      0.82      1372\n",
      "weighted avg       0.82      0.82      0.82      1372\n",
      "\n"
     ]
    }
   ],
   "source": [
    "xgb = XGBClassifier()\n",
    "\n",
    "parameters = {\n",
    "        'min_child_weight': [1, 5, 10],\n",
    "        'gamma': [0.5, 1, 1.5, 2, 5],\n",
    "        'subsample': [0.6, 0.8, 1.0],\n",
    "        'colsample_bytree': [0.6, 0.8, 1.0],\n",
    "        'max_depth': [3, 4, 5]\n",
    "        }\n",
    "\n",
    "scorer = {'ftwo_scorer':make_scorer(fbeta_score, beta=1000, average='weighted'), 'prec':'precision', 'rec':'recall', 'f1':'f1'}\n",
    "\n",
    "grid_xgb = GridSearchCV(xgb, parameters, scorer, refit='f1')\n",
    "\n",
    "grid_xgb.fit(X_smote,y_smote) \n",
    "best_xgb = grid_xgb.best_estimator_ \n",
    "y_pred = best_xgb.predict(X_smote)\n",
    "\n",
    "\n",
    "print('Best score:\\n{:.2f}'.format(grid_xgb.best_score_))\n",
    "print(\"Best parameters:\\n{}\".format(grid_xgb.best_params_))\n",
    "df_xgb = pd.DataFrame(grid_xgb.cv_results_ )\n",
    "print(classification_report(y_smote, y_pred))"
   ]
  },
  {
   "cell_type": "markdown",
   "metadata": {},
   "source": [
    "### GridSearch RandomForest"
   ]
  },
  {
   "cell_type": "code",
   "execution_count": 43,
   "metadata": {},
   "outputs": [
    {
     "name": "stdout",
     "output_type": "stream",
     "text": [
      "Best score:\n",
      "0.73\n",
      "Best parameters:\n",
      "{'criterion': 'entropy', 'max_depth': 4, 'max_features': 'sqrt', 'n_estimators': 200}\n",
      "              precision    recall  f1-score   support\n",
      "\n",
      "           0       0.75      0.75      0.75       686\n",
      "           1       0.75      0.76      0.75       686\n",
      "\n",
      "    accuracy                           0.75      1372\n",
      "   macro avg       0.75      0.75      0.75      1372\n",
      "weighted avg       0.75      0.75      0.75      1372\n",
      "\n",
      "[[512 174]\n",
      " [167 519]]\n"
     ]
    }
   ],
   "source": [
    "from sklearn.model_selection import RandomizedSearchCV\n",
    "\n",
    "rnc = RandomForestClassifier()\n",
    "\n",
    "parameters = { \n",
    "    'n_estimators': [100, 200, 500],\n",
    "    'max_features': ['auto', 'sqrt', 'log2'],\n",
    "    'max_depth' : [2,4,5],\n",
    "    'criterion' :['gini', 'entropy']\n",
    "}\n",
    "\n",
    "\n",
    "scorer = {'ftwo_scorer':make_scorer(fbeta_score, beta=1000, average='weighted'), 'prec':'precision', 'rec':'recall', 'f1':'f1'}\n",
    "\n",
    "grid_rnc = GridSearchCV(rnc, parameters, scoring =scorer, refit='f1') \n",
    "\n",
    "\n",
    "grid_rnc.fit(X_smote,y_smote) \n",
    "best_rnc = grid_rnc.best_estimator_ \n",
    "y_pred = best_rnc.predict(X_smote)\n",
    "\n",
    "print('Best score:\\n{:.2f}'.format(grid_rnc.best_score_))\n",
    "print(\"Best parameters:\\n{}\".format(grid_rnc.best_params_))\n",
    "df_rnc = pd.DataFrame(grid_rnc.cv_results_ )\n",
    "\n",
    "\n",
    "cm = confusion_matrix(y_smote, y_pred)\n",
    "print(classification_report(y_smote, y_pred))\n",
    "print(cm)"
   ]
  },
  {
   "cell_type": "markdown",
   "metadata": {},
   "source": [
    "### GridSearch SVM"
   ]
  },
  {
   "cell_type": "code",
   "execution_count": 50,
   "metadata": {},
   "outputs": [
    {
     "name": "stdout",
     "output_type": "stream",
     "text": [
      "Best score:\n",
      "0.71\n",
      "Best parameters:\n",
      "{'C': 10, 'gamma': 0.0001, 'kernel': 'rbf'}\n",
      "              precision    recall  f1-score   support\n",
      "\n",
      "           0       0.71      0.74      0.72       686\n",
      "           1       0.73      0.70      0.71       686\n",
      "\n",
      "    accuracy                           0.72      1372\n",
      "   macro avg       0.72      0.72      0.72      1372\n",
      "weighted avg       0.72      0.72      0.72      1372\n",
      "\n"
     ]
    }
   ],
   "source": [
    "from sklearn.svm import SVC\n",
    "\n",
    "svc = SVC(class_weight='balanced')\n",
    "\n",
    "parameters = [{'kernel': ['rbf'], 'gamma': [1e-3, 1e-4],\n",
    "                     'C': [1, 10, 100, 1000]},\n",
    "                    {'kernel': ['linear'], 'C': [1, 10, 100, 1000],\n",
    "                    }]\n",
    "\n",
    "scorer = {'ftwo_scorer':make_scorer(fbeta_score, beta=1000, average='weighted'), 'prec':'precision', 'rec':'recall', 'f1':'f1'}\n",
    "\n",
    "grid_svc = GridSearchCV(svc, parameters, scoring =scorer, refit='f1') \n",
    "\n",
    "grid_svc.fit(X_smote,y_smote) \n",
    "best_svc = grid_svc.best_estimator_ \n",
    "y_pred = best_svc.predict(X_smote)\n",
    "\n",
    "\n",
    "print('Best score:\\n{:.2f}'.format(grid_svc.best_score_))\n",
    "print(\"Best parameters:\\n{}\".format(grid_svc.best_params_))\n",
    "print\n",
    "df_ada = pd.DataFrame(grid_svc.cv_results_ )\n",
    "print(classification_report(y_smote, y_pred))"
   ]
  },
  {
   "cell_type": "markdown",
   "metadata": {},
   "source": [
    "# Model evaluation\n",
    "* Evaluation of the best Models with the Test Data\n",
    "* Evaluation of feature importance: <br>\n",
    "    The features considers the most important <br>\n",
    "    The values are computed by summing the reduction in Gini Impurity over all of the nodes of the tree in which the feature is used. "
   ]
  },
  {
   "cell_type": "code",
   "execution_count": 45,
   "metadata": {},
   "outputs": [],
   "source": [
    "X_test = df_test.iloc[:,:12]\n",
    "y_test = df_test['illegal_drugs_2']"
   ]
  },
  {
   "cell_type": "markdown",
   "metadata": {},
   "source": [
    "### Evaluate Random Forest"
   ]
  },
  {
   "cell_type": "code",
   "execution_count": 46,
   "metadata": {},
   "outputs": [
    {
     "name": "stdout",
     "output_type": "stream",
     "text": [
      "              precision    recall  f1-score   support\n",
      "\n",
      "           0       0.75      0.73      0.74       339\n",
      "           1       0.69      0.70      0.69       281\n",
      "\n",
      "    accuracy                           0.72       620\n",
      "   macro avg       0.72      0.72      0.72       620\n",
      "weighted avg       0.72      0.72      0.72       620\n",
      "\n"
     ]
    },
    {
     "data": {
      "text/plain": [
       "Text(0.5, 1.0, 'Random Forest')"
      ]
     },
     "execution_count": 46,
     "metadata": {},
     "output_type": "execute_result"
    },
    {
     "data": {
      "image/png": "[encoded data removed]",
      "text/plain": [
       "<Figure size 432x288 with 2 Axes>"
      ]
     },
     "metadata": {
      "needs_background": "light"
     },
     "output_type": "display_data"
    }
   ],
   "source": [
    "y_test_pred = best_rnc.predict(X_test)\n",
    "\n",
    "cm = confusion_matrix(y_test, y_test_pred)\n",
    "print(classification_report(y_test, y_test_pred))\n",
    "\n",
    "sns.heatmap(cm, annot=True, \n",
    "            cmap='Blues', fmt='.0f');\n",
    "plt.ylabel('True label')\n",
    "plt.xlabel('Predicted label')\n",
    "plt.title('Random Forest')"
   ]
  },
  {
   "cell_type": "markdown",
   "metadata": {},
   "source": [
    "### Evaluate XGboost"
   ]
  },
  {
   "cell_type": "code",
   "execution_count": 47,
   "metadata": {},
   "outputs": [
    {
     "name": "stdout",
     "output_type": "stream",
     "text": [
      "              precision    recall  f1-score   support\n",
      "\n",
      "           0       0.74      0.73      0.74       339\n",
      "           1       0.68      0.68      0.68       281\n",
      "\n",
      "    accuracy                           0.71       620\n",
      "   macro avg       0.71      0.71      0.71       620\n",
      "weighted avg       0.71      0.71      0.71       620\n",
      "\n"
     ]
    },
    {
     "data": {
      "text/plain": [
       "Text(0.5, 1.0, 'XGboost')"
      ]
     },
     "execution_count": 47,
     "metadata": {},
     "output_type": "execute_result"
    },
    {
     "data": {
      "image/png": "[encoded data removed]",
      "text/plain": [
       "<Figure size 432x288 with 2 Axes>"
      ]
     },
     "metadata": {
      "needs_background": "light"
     },
     "output_type": "display_data"
    }
   ],
   "source": [
    "y_test_pred = best_xgb.predict(X_test)\n",
    "\n",
    "cm = confusion_matrix(y_test, y_test_pred)\n",
    "print(classification_report(y_test, y_test_pred))\n",
    "\n",
    "sns.heatmap(cm, annot=True, \n",
    "            cmap='Blues', fmt='.0f');\n",
    "plt.ylabel('True label')\n",
    "plt.xlabel('Predicted label')\n",
    "plt.title('XGboost')"
   ]
  },
  {
   "cell_type": "markdown",
   "metadata": {},
   "source": [
    "### Evaluate Adaboost"
   ]
  },
  {
   "cell_type": "code",
   "execution_count": 52,
   "metadata": {},
   "outputs": [
    {
     "name": "stdout",
     "output_type": "stream",
     "text": [
      "              precision    recall  f1-score   support\n",
      "\n",
      "           0       0.75      0.78      0.76       339\n",
      "           1       0.72      0.68      0.70       281\n",
      "\n",
      "    accuracy                           0.74       620\n",
      "   macro avg       0.73      0.73      0.73       620\n",
      "weighted avg       0.73      0.74      0.73       620\n",
      "\n"
     ]
    },
    {
     "data": {
      "text/html": [
       "<div>\n",
       "<style scoped>\n",
       "    .dataframe tbody tr th:only-of-type {\n",
       "        vertical-align: middle;\n",
       "    }\n",
       "\n",
       "    .dataframe tbody tr th {\n",
       "        vertical-align: top;\n",
       "    }\n",
       "\n",
       "    .dataframe thead th {\n",
       "        text-align: right;\n",
       "    }\n",
       "</style>\n",
       "<table border=\"1\" class=\"dataframe\">\n",
       "  <thead>\n",
       "    <tr style=\"text-align: right;\">\n",
       "      <th></th>\n",
       "      <th>feature</th>\n",
       "      <th>importance</th>\n",
       "    </tr>\n",
       "  </thead>\n",
       "  <tbody>\n",
       "    <tr>\n",
       "      <th>5</th>\n",
       "      <td>Nscore</td>\n",
       "      <td>0.191667</td>\n",
       "    </tr>\n",
       "    <tr>\n",
       "      <th>3</th>\n",
       "      <td>Country</td>\n",
       "      <td>0.150000</td>\n",
       "    </tr>\n",
       "    <tr>\n",
       "      <th>2</th>\n",
       "      <td>Education</td>\n",
       "      <td>0.116667</td>\n",
       "    </tr>\n",
       "    <tr>\n",
       "      <th>7</th>\n",
       "      <td>Oscore</td>\n",
       "      <td>0.108333</td>\n",
       "    </tr>\n",
       "    <tr>\n",
       "      <th>10</th>\n",
       "      <td>Impulsive</td>\n",
       "      <td>0.083333</td>\n",
       "    </tr>\n",
       "  </tbody>\n",
       "</table>\n",
       "</div>"
      ],
      "text/plain": [
       "      feature  importance\n",
       "5      Nscore    0.191667\n",
       "3     Country    0.150000\n",
       "2   Education    0.116667\n",
       "7      Oscore    0.108333\n",
       "10  Impulsive    0.083333"
      ]
     },
     "execution_count": 52,
     "metadata": {},
     "output_type": "execute_result"
    },
    {
     "data": {
      "image/png": "[encoded data removed]",
      "text/plain": [
       "<Figure size 432x288 with 2 Axes>"
      ]
     },
     "metadata": {
      "needs_background": "light"
     },
     "output_type": "display_data"
    }
   ],
   "source": [
    "y_test_pred = best_ada.predict(X_test)\n",
    "\n",
    "cm = confusion_matrix(y_test, y_test_pred)\n",
    "print(classification_report(y_test, y_test_pred))\n",
    "\n",
    "sns.heatmap(cm, annot=True, \n",
    "            cmap='Blues', fmt='.0f');\n",
    "plt.ylabel('True label')\n",
    "plt.xlabel('Predicted label')\n",
    "plt.title('Adaboost')\n",
    "\n",
    "fi_ada_grid = pd.DataFrame({'feature': features,\n",
    "                   'importance': best_ada.feature_importances_}).\\\n",
    "                    sort_values('importance', ascending = False)\n",
    "fi_ada_grid.head(5)"
   ]
  },
  {
   "cell_type": "markdown",
   "metadata": {},
   "source": [
    "### Evaluate SVM"
   ]
  },
  {
   "cell_type": "code",
   "execution_count": 51,
   "metadata": {},
   "outputs": [
    {
     "name": "stdout",
     "output_type": "stream",
     "text": [
      "              precision    recall  f1-score   support\n",
      "\n",
      "           0       0.72      0.74      0.73       339\n",
      "           1       0.68      0.66      0.67       281\n",
      "\n",
      "    accuracy                           0.70       620\n",
      "   macro avg       0.70      0.70      0.70       620\n",
      "weighted avg       0.70      0.70      0.70       620\n",
      "\n"
     ]
    },
    {
     "data": {
      "text/plain": [
       "Text(0.5, 1.0, 'SVC')"
      ]
     },
     "execution_count": 51,
     "metadata": {},
     "output_type": "execute_result"
    },
    {
     "data": {
      "image/png": "[encoded data removed]",
      "text/plain": [
       "<Figure size 432x288 with 2 Axes>"
      ]
     },
     "metadata": {
      "needs_background": "light"
     },
     "output_type": "display_data"
    }
   ],
   "source": [
    "y_test_pred = best_svc.predict(X_test)\n",
    "\n",
    "cm = confusion_matrix(y_test, y_test_pred)\n",
    "print(classification_report(y_test, y_test_pred))\n",
    "\n",
    "sns.heatmap(cm, annot=True, \n",
    "            cmap='Blues', fmt='.0f');\n",
    "plt.ylabel('True label')\n",
    "plt.xlabel('Predicted label')\n",
    "plt.title('SVC')"
   ]
  },
  {
   "cell_type": "code",
   "execution_count": null,
   "metadata": {},
   "outputs": [],
   "source": []
  }
 ],
 "metadata": {
  "kernelspec": {
   "display_name": "Python [conda env:nf] *",
   "language": "python",
   "name": "conda-env-nf-py"
  },
  "language_info": {
   "codemirror_mode": {
    "name": "ipython",
    "version": 3
   },
   "file_extension": ".py",
   "mimetype": "text/x-python",
   "name": "python",
   "nbconvert_exporter": "python",
   "pygments_lexer": "ipython3",
   "version": "3.6.10"
  }
 },
 "nbformat": 4,
 "nbformat_minor": 4
}
