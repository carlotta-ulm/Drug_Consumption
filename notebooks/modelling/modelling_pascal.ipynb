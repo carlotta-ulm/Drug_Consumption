{
 "cells": [
  {
   "cell_type": "code",
   "execution_count": 247,
   "metadata": {},
   "outputs": [],
   "source": [
    "import numpy as np\n",
    "import pandas as pd\n",
    "\n",
    "import seaborn as sns\n",
    "\n",
    "from collections import Counter\n",
    "\n",
    "from sklearn.tree import DecisionTreeClassifier\n",
    "from sklearn.svm import SVC\n",
    "from sklearn.ensemble import AdaBoostClassifier\n",
    "from sklearn.ensemble import RandomForestClassifier\n",
    "from sklearn.linear_model import LogisticRegression\n",
    "from sklearn.naive_bayes import GaussianNB\n",
    "from sklearn.neighbors import KNeighborsClassifier\n",
    "from sklearn import svm\n",
    "\n",
    "from sklearn.model_selection import cross_val_predict, cross_val_score\n",
    "from sklearn.model_selection import GridSearchCV\n",
    "\n",
    "from sklearn.metrics import classification_report, confusion_matrix\n",
    "\n",
    "from imblearn.over_sampling import SMOTE"
   ]
  },
  {
   "cell_type": "code",
   "execution_count": 233,
   "metadata": {},
   "outputs": [],
   "source": [
    "pd.set_option(\"display.max_columns\", None)"
   ]
  },
  {
   "cell_type": "code",
   "execution_count": 234,
   "metadata": {},
   "outputs": [],
   "source": [
    "df = pd.read_csv(\"../../data/processed/data_train_model.csv\")"
   ]
  },
  {
   "cell_type": "code",
   "execution_count": 235,
   "metadata": {},
   "outputs": [],
   "source": [
    "alcohol = ['Alcohol']\n",
    "\n",
    "nicotine = ['Nicotine']\n",
    "\n",
    "illegal_drugs1 = ['Cannabis', 'Legalh', 'LSD', 'Shrooms', \n",
    "                  'Amphet', 'Amyl', 'Ecstasy', 'Ketamine', \n",
    "                  'Coke']\n",
    "\n",
    "illegal_drugs2 = ['Meth', 'Benzos', 'Heroin', 'Crack']"
   ]
  },
  {
   "cell_type": "code",
   "execution_count": 277,
   "metadata": {},
   "outputs": [
    {
     "data": {
      "text/plain": [
       "<AxesSubplot:>"
      ]
     },
     "execution_count": 277,
     "metadata": {},
     "output_type": "execute_result"
    },
    {
     "data": {
      "image/png": "[encoded data removed]",
      "text/plain": [
       "<Figure size 432x288 with 1 Axes>"
      ]
     },
     "metadata": {
      "needs_background": "light"
     },
     "output_type": "display_data"
    }
   ],
   "source": [
    "df.Legalh.value_counts().sort_index().plot()"
   ]
  },
  {
   "cell_type": "code",
   "execution_count": 236,
   "metadata": {},
   "outputs": [],
   "source": [
    "df['Alcohol_bin'] = [1 if alc >= 5 else 0 for alc in df.Alcohol.values]"
   ]
  },
  {
   "cell_type": "code",
   "execution_count": 298,
   "metadata": {},
   "outputs": [
    {
     "data": {
      "text/plain": [
       "[(5, 'Cannabis'),\n",
       " (4, 'Legalh'),\n",
       " (4, 'LSD'),\n",
       " (4, 'Shrooms'),\n",
       " (4, 'Amphet'),\n",
       " (4, 'Amyl'),\n",
       " (4, 'Ecstasy'),\n",
       " (3, 'Ketamine'),\n",
       " (4, 'Coke')]"
      ]
     },
     "execution_count": 298,
     "metadata": {},
     "output_type": "execute_result"
    }
   ],
   "source": [
    "borders = [5, 4, 4, 4, 4, 4, 4, 3, 4]\n",
    "drug_zip = list(zip(borders, illegal_drugs1))\n",
    "drug_zip"
   ]
  },
  {
   "cell_type": "code",
   "execution_count": 299,
   "metadata": {},
   "outputs": [],
   "source": [
    "for b, drug in zip(borders, illegal_drugs1):\n",
    "    df[drug+'_bin'] = [1 if d > b else 0 for d in df[drug].values]"
   ]
  },
  {
   "cell_type": "code",
   "execution_count": 300,
   "metadata": {},
   "outputs": [
    {
     "data": {
      "text/plain": [
       "Legalh_bin          90\n",
       "LSD_bin             44\n",
       "Shrooms_bin         30\n",
       "Amphet_bin         102\n",
       "Amyl_bin            11\n",
       "Ecstasy_bin         64\n",
       "Ketamine_bin        52\n",
       "Coke_bin            36\n",
       "illegal_drugs_1    457\n",
       "dtype: int64"
      ]
     },
     "execution_count": 300,
     "metadata": {},
     "output_type": "execute_result"
    }
   ],
   "source": [
    "df.iloc[:, -9:].sum(axis=0)"
   ]
  },
  {
   "cell_type": "code",
   "execution_count": 301,
   "metadata": {},
   "outputs": [],
   "source": [
    "df['illegal_drugs_1'] = df.iloc[:, -9:].sum(axis=1)"
   ]
  },
  {
   "cell_type": "code",
   "execution_count": 302,
   "metadata": {},
   "outputs": [
    {
     "data": {
      "text/plain": [
       "0    794\n",
       "1    463\n",
       "Name: illegal_drugs_1, dtype: int64"
      ]
     },
     "execution_count": 302,
     "metadata": {},
     "output_type": "execute_result"
    }
   ],
   "source": [
    "df['illegal_drugs_1'] = [1 if ill > 0 else 0 for ill in df.illegal_drugs_1.values]\n",
    "df.illegal_drugs_1.value_counts()"
   ]
  },
  {
   "cell_type": "code",
   "execution_count": 237,
   "metadata": {},
   "outputs": [],
   "source": [
    "X = df.iloc[:, :12]"
   ]
  },
  {
   "cell_type": "code",
   "execution_count": 238,
   "metadata": {},
   "outputs": [],
   "source": [
    "y = df.Alcohol_bin"
   ]
  },
  {
   "cell_type": "markdown",
   "metadata": {},
   "source": [
    "# Models\n",
    "- Naive Bayes\n",
    "- Decision Tree\n",
    "- Random Forests\n",
    "- KNN\n",
    "- Logreg\n",
    "- SVM\n",
    "- Assemble Methods (AdaBoost, XGBoost)"
   ]
  },
  {
   "cell_type": "markdown",
   "metadata": {},
   "source": [
    "# Naive Bayes - Baseline"
   ]
  },
  {
   "cell_type": "code",
   "execution_count": 239,
   "metadata": {},
   "outputs": [],
   "source": [
    "clf = GaussianNB()\n",
    "#clf.fit(X, y)"
   ]
  },
  {
   "cell_type": "code",
   "execution_count": 243,
   "metadata": {},
   "outputs": [
    {
     "name": "stdout",
     "output_type": "stream",
     "text": [
      "[0.76530612 0.76092545 0.75590551 0.79800499 0.78696742]\n"
     ]
    }
   ],
   "source": [
    "f1_score = cross_val_score(clf, X, y, scoring='f1')\n",
    "print(f1_score)"
   ]
  },
  {
   "cell_type": "code",
   "execution_count": 218,
   "metadata": {},
   "outputs": [],
   "source": [
    "y_pred_NB_alc = cross_val_predict(clf,X, y, cv=5)"
   ]
  },
  {
   "cell_type": "code",
   "execution_count": 219,
   "metadata": {},
   "outputs": [
    {
     "name": "stdout",
     "output_type": "stream",
     "text": [
      "              precision    recall  f1-score   support\n",
      "\n",
      "           0       0.39      0.13      0.20       415\n",
      "           1       0.68      0.90      0.77       842\n",
      "\n",
      "    accuracy                           0.65      1257\n",
      "   macro avg       0.54      0.52      0.48      1257\n",
      "weighted avg       0.58      0.65      0.58      1257\n",
      "\n",
      "[[ 54 361]\n",
      " [ 83 759]]\n"
     ]
    }
   ],
   "source": [
    "print(classification_report(y, y_pred_NB_alc))\n",
    "print(confusion_matrix(y, y_pred_NB_alc))"
   ]
  },
  {
   "cell_type": "markdown",
   "metadata": {},
   "source": [
    "## SMOTE Naive Bayes"
   ]
  },
  {
   "cell_type": "code",
   "execution_count": 221,
   "metadata": {},
   "outputs": [
    {
     "data": {
      "text/plain": [
       "1    0.669849\n",
       "0    0.330151\n",
       "Name: Alcohol_bin, dtype: float64"
      ]
     },
     "execution_count": 221,
     "metadata": {},
     "output_type": "execute_result"
    }
   ],
   "source": [
    "df.Alcohol_bin.value_counts()/df.shape[0]"
   ]
  },
  {
   "cell_type": "code",
   "execution_count": 222,
   "metadata": {},
   "outputs": [
    {
     "data": {
      "text/plain": [
       "Counter({0: 415, 1: 842})"
      ]
     },
     "execution_count": 222,
     "metadata": {},
     "output_type": "execute_result"
    }
   ],
   "source": [
    "Counter(y)"
   ]
  },
  {
   "cell_type": "code",
   "execution_count": 224,
   "metadata": {},
   "outputs": [],
   "source": [
    "oversample = SMOTE()\n",
    "X_smote, y_smote = oversample.fit_resample(X, y)"
   ]
  },
  {
   "cell_type": "code",
   "execution_count": 225,
   "metadata": {},
   "outputs": [],
   "source": [
    "clf = GaussianNB()"
   ]
  },
  {
   "cell_type": "code",
   "execution_count": 226,
   "metadata": {},
   "outputs": [],
   "source": [
    "y_pred_NB_alc_smote = cross_val_predict(clf,X_smote, y_smote, cv=5)"
   ]
  },
  {
   "cell_type": "code",
   "execution_count": 227,
   "metadata": {},
   "outputs": [
    {
     "name": "stdout",
     "output_type": "stream",
     "text": [
      "              precision    recall  f1-score   support\n",
      "\n",
      "           0       0.56      0.60      0.58       842\n",
      "           1       0.57      0.53      0.55       842\n",
      "\n",
      "    accuracy                           0.56      1684\n",
      "   macro avg       0.56      0.56      0.56      1684\n",
      "weighted avg       0.56      0.56      0.56      1684\n",
      "\n",
      "[[502 340]\n",
      " [399 443]]\n"
     ]
    }
   ],
   "source": [
    "print(classification_report(y_smote, y_pred_NB_alc_smote))\n",
    "print(confusion_matrix(y_smote, y_pred_NB_alc_smote))"
   ]
  },
  {
   "cell_type": "markdown",
   "metadata": {},
   "source": [
    "# Decision Tree"
   ]
  },
  {
   "cell_type": "code",
   "execution_count": 253,
   "metadata": {},
   "outputs": [
    {
     "name": "stdout",
     "output_type": "stream",
     "text": [
      "              precision    recall  f1-score   support\n",
      "\n",
      "           0       0.67      0.67      0.67       842\n",
      "           1       0.67      0.67      0.67       842\n",
      "\n",
      "    accuracy                           0.67      1684\n",
      "   macro avg       0.67      0.67      0.67      1684\n",
      "weighted avg       0.67      0.67      0.67      1684\n",
      "\n"
     ]
    },
    {
     "data": {
      "image/png": "[encoded data removed]",
      "text/plain": [
       "<Figure size 432x288 with 2 Axes>"
      ]
     },
     "metadata": {
      "needs_background": "light"
     },
     "output_type": "display_data"
    }
   ],
   "source": [
    "dtree = DecisionTreeClassifier(max_depth=10)\n",
    "y_pred = cross_val_predict(dtree, X_smote, y_smote, cv=5)\n",
    "cm = confusion_matrix(y_smote, y_pred)\n",
    "print(classification_report(y_smote, y_pred))\n",
    "sns.heatmap(cm, annot=True,\n",
    "            cmap='Blues', fmt='.0f');"
   ]
  },
  {
   "cell_type": "markdown",
   "metadata": {},
   "source": [
    "# Random Forest"
   ]
  },
  {
   "cell_type": "code",
   "execution_count": null,
   "metadata": {},
   "outputs": [],
   "source": [
    "rnc = RandomForestClassifier(n_estimators = 200, random_state=10, class_weight=\"balanced\")"
   ]
  },
  {
   "cell_type": "markdown",
   "metadata": {},
   "source": [
    "# Logistische Regression"
   ]
  },
  {
   "cell_type": "code",
   "execution_count": null,
   "metadata": {},
   "outputs": [],
   "source": [
    "logreg = LogisticRegression(max_iter=1000, solver=\"liblinear\")"
   ]
  },
  {
   "cell_type": "markdown",
   "metadata": {},
   "source": [
    "#  KNN"
   ]
  },
  {
   "cell_type": "code",
   "execution_count": null,
   "metadata": {},
   "outputs": [],
   "source": [
    "knn = KNeighborsClassifier(n_neighbors=8)"
   ]
  },
  {
   "cell_type": "markdown",
   "metadata": {},
   "source": [
    "# Support Vector Machines"
   ]
  },
  {
   "cell_type": "code",
   "execution_count": null,
   "metadata": {},
   "outputs": [],
   "source": [
    "svm = svm.SVC(kernel='rbf')"
   ]
  },
  {
   "cell_type": "code",
   "execution_count": null,
   "metadata": {},
   "outputs": [],
   "source": []
  },
  {
   "cell_type": "code",
   "execution_count": 105,
   "metadata": {},
   "outputs": [],
   "source": [
    "clf_A = DecisionTreeClassifier(random_state=101)\n",
    "clf_B = SVC(random_state = 101)\n",
    "clf_C = AdaBoostClassifier(random_state = 101)\n",
    "\n",
    "#Define Parameters\n",
    "parameters_DT = {'max_depth': np.arange(1, 101, 1),             \n",
    "             } \n",
    "\n",
    "classifieres = [clf_A]"
   ]
  },
  {
   "cell_type": "code",
   "execution_count": 106,
   "metadata": {},
   "outputs": [],
   "source": [
    "def train_predict(clf, parameters, drugs, X, y,cv=5):\n",
    "    results = {}\n",
    "    # Choose the clf and define paramters\n",
    "  \n",
    "    #Make the scorer\n",
    "    scores = [\n",
    "        'precision', \n",
    "        'recall', \n",
    "       # 'accuracy', \n",
    "        'f1', \n",
    "       # 'roc_auc'\n",
    "    ]\n",
    "    \n",
    "    # Perform GridSearch\n",
    "    best_scores = {}\n",
    "    best_param = {}\n",
    "    #best_model = {}\n",
    "    for d in drugs:\n",
    "        #X_train, X_test, y_train, y_test = train_test_split(X, df[y], test_size=0.2, random_state=1, stratify=df[y])\n",
    "        grid = GridSearchCV(estimator=clf, param_grid=parameters, \n",
    "                            cv=cv, scoring=scores, refit='recall')\n",
    "        grid_fit = grid.fit(X,y[d]) \n",
    "        best_scores[d] = {}\n",
    "        best_scores[d]['recall'] = max(grid_fit.cv_results_['mean_test_recall'])\n",
    "        best_scores[d]['precision'] = max(grid_fit.cv_results_['mean_test_precision'])\n",
    "        best_param[d] = grid_fit.best_params_\n",
    "        best_clf = grid_fit.best_estimator_ \n",
    "        \n",
    "    return best_scores, best_param"
   ]
  },
  {
   "cell_type": "code",
   "execution_count": 107,
   "metadata": {},
   "outputs": [
    {
     "name": "stderr",
     "output_type": "stream",
     "text": [
      "/opt/anaconda3/envs/nf/lib/python3.6/site-packages/sklearn/metrics/_classification.py:1221: UndefinedMetricWarning: Precision is ill-defined and being set to 0.0 due to no predicted samples. Use `zero_division` parameter to control this behavior.\n",
      "  _warn_prf(average, modifier, msg_start, len(result))\n",
      "/opt/anaconda3/envs/nf/lib/python3.6/site-packages/sklearn/metrics/_classification.py:1221: UndefinedMetricWarning: Precision is ill-defined and being set to 0.0 due to no predicted samples. Use `zero_division` parameter to control this behavior.\n",
      "  _warn_prf(average, modifier, msg_start, len(result))\n"
     ]
    }
   ],
   "source": [
    "best_scores, best_param = train_predict(clf_A, parameters_DT, \n",
    "                                        ['Alcohol_bin', 'Meth_bin'], X, y,cv=4)"
   ]
  },
  {
   "cell_type": "code",
   "execution_count": 108,
   "metadata": {},
   "outputs": [
    {
     "data": {
      "text/plain": [
       "{'Alcohol_bin': {'recall': 0.9944812362030905, 'precision': 0.965553045632532},\n",
       " 'Meth_bin': {'recall': 0.5969940253920836, 'precision': 0.5957954482515334}}"
      ]
     },
     "execution_count": 108,
     "metadata": {},
     "output_type": "execute_result"
    }
   ],
   "source": [
    "best_scores"
   ]
  },
  {
   "cell_type": "code",
   "execution_count": 104,
   "metadata": {},
   "outputs": [
    {
     "data": {
      "text/plain": [
       "{'Alcohol_bin': {'max_depth': 2}, 'Meth_bin': {'max_depth': 2}}"
      ]
     },
     "execution_count": 104,
     "metadata": {},
     "output_type": "execute_result"
    }
   ],
   "source": [
    "best_param"
   ]
  }
 ],
 "metadata": {
  "kernelspec": {
   "display_name": "Python [conda env:nf] *",
   "language": "python",
   "name": "conda-env-nf-py"
  },
  "language_info": {
   "codemirror_mode": {
    "name": "ipython",
    "version": 3
   },
   "file_extension": ".py",
   "mimetype": "text/x-python",
   "name": "python",
   "nbconvert_exporter": "python",
   "pygments_lexer": "ipython3",
   "version": "3.6.11"
  }
 },
 "nbformat": 4,
 "nbformat_minor": 4
}
