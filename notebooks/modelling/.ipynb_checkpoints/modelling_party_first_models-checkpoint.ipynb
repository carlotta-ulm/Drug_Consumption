{
 "cells": [
  {
   "cell_type": "code",
   "execution_count": 373,
   "metadata": {},
   "outputs": [],
   "source": [
    "import numpy as np\n",
    "import pandas as pd\n",
    "\n",
    "import seaborn as sns\n",
    "\n",
    "from collections import Counter\n",
    "\n",
    "from sklearn.tree import DecisionTreeClassifier\n",
    "from sklearn.svm import SVC\n",
    "from sklearn.ensemble import AdaBoostClassifier\n",
    "from sklearn.ensemble import RandomForestClassifier\n",
    "from sklearn.linear_model import LogisticRegression\n",
    "from sklearn.naive_bayes import GaussianNB\n",
    "from sklearn.neighbors import KNeighborsClassifier\n",
    "from sklearn import svm\n",
    "\n",
    "from sklearn.model_selection import cross_val_predict, cross_val_score\n",
    "from sklearn.model_selection import GridSearchCV\n",
    "\n",
    "from sklearn.metrics import classification_report, confusion_matrix\n",
    "\n",
    "from imblearn.over_sampling import SMOTE"
   ]
  },
  {
   "cell_type": "code",
   "execution_count": 307,
   "metadata": {},
   "outputs": [],
   "source": [
    "pd.set_option(\"display.max_columns\", None)"
   ]
  },
  {
   "cell_type": "code",
   "execution_count": 345,
   "metadata": {},
   "outputs": [],
   "source": [
    "df = pd.read_csv(\"../../data/processed/data_train_model.csv\")"
   ]
  },
  {
   "cell_type": "code",
   "execution_count": 346,
   "metadata": {},
   "outputs": [],
   "source": [
    "alcohol = ['Alcohol']\n",
    "\n",
    "nicotine = ['Nicotine']\n",
    "\n",
    "illegal_drugs1 = ['Cannabis', 'Legalh', 'LSD', 'Shrooms', \n",
    "                  'Amphet', 'Amyl', 'Ecstasy', 'Ketamine', \n",
    "                  'Coke']\n",
    "\n",
    "illegal_drugs2 = ['Meth', 'Benzos', 'Heroin', 'Crack']"
   ]
  },
  {
   "cell_type": "code",
   "execution_count": 420,
   "metadata": {},
   "outputs": [
    {
     "data": {
      "text/plain": [
       "[(5, 'Cannabis'),\n",
       " (2, 'Legalh'),\n",
       " (3, 'LSD'),\n",
       " (3, 'Shrooms'),\n",
       " (3, 'Amphet'),\n",
       " (3, 'Amyl'),\n",
       " (3, 'Ecstasy'),\n",
       " (2, 'Ketamine'),\n",
       " (2, 'Coke')]"
      ]
     },
     "execution_count": 420,
     "metadata": {},
     "output_type": "execute_result"
    }
   ],
   "source": [
    "borders = [5, 2, 3, 3, 3, 3, 3, 2, 2]\n",
    "drug_zip = list(zip(borders, illegal_drugs1))\n",
    "drug_zip"
   ]
  },
  {
   "cell_type": "code",
   "execution_count": 421,
   "metadata": {},
   "outputs": [],
   "source": [
    "for b, drug in zip(borders, illegal_drugs1):\n",
    "    df[drug+'_bin'] = [1 if d > b else 0 for d in df[drug].values]"
   ]
  },
  {
   "cell_type": "code",
   "execution_count": 422,
   "metadata": {},
   "outputs": [
    {
     "data": {
      "text/plain": [
       "Legalh_bin         367\n",
       "LSD_bin            111\n",
       "Shrooms_bin        102\n",
       "Amphet_bin         157\n",
       "Amyl_bin            29\n",
       "Ecstasy_bin        170\n",
       "Ketamine_bin       143\n",
       "Coke_bin           293\n",
       "illegal_drugs_1    586\n",
       "dtype: int64"
      ]
     },
     "execution_count": 422,
     "metadata": {},
     "output_type": "execute_result"
    }
   ],
   "source": [
    "df.iloc[:, -9:].sum(axis=0)"
   ]
  },
  {
   "cell_type": "code",
   "execution_count": 423,
   "metadata": {},
   "outputs": [],
   "source": [
    "df['illegal_drugs_1'] = df.iloc[:, -9:].sum(axis=1)"
   ]
  },
  {
   "cell_type": "code",
   "execution_count": 424,
   "metadata": {},
   "outputs": [
    {
     "data": {
      "text/plain": [
       "0    639\n",
       "1    618\n",
       "Name: illegal_drugs_1, dtype: int64"
      ]
     },
     "execution_count": 424,
     "metadata": {},
     "output_type": "execute_result"
    }
   ],
   "source": [
    "df['illegal_drugs_1'] = [1 if ill > 0 else 0 for ill in df.illegal_drugs_1.values]\n",
    "df.illegal_drugs_1.value_counts()"
   ]
  },
  {
   "cell_type": "code",
   "execution_count": 425,
   "metadata": {},
   "outputs": [],
   "source": [
    "X = df.iloc[:, :12]"
   ]
  },
  {
   "cell_type": "code",
   "execution_count": 426,
   "metadata": {},
   "outputs": [],
   "source": [
    "y = df.illegal_drugs_1"
   ]
  },
  {
   "cell_type": "markdown",
   "metadata": {},
   "source": [
    "# Models\n",
    "- Naive Bayes\n",
    "- Decision Tree\n",
    "- Random Forests\n",
    "- KNN\n",
    "- Logreg\n",
    "- SVM\n",
    "- Assemble Methods (AdaBoost, XGBoost)"
   ]
  },
  {
   "cell_type": "markdown",
   "metadata": {},
   "source": [
    "# Naive Bayes - Baseline"
   ]
  },
  {
   "cell_type": "code",
   "execution_count": 427,
   "metadata": {},
   "outputs": [],
   "source": [
    "clf = GaussianNB()\n",
    "#clf.fit(X, y)"
   ]
  },
  {
   "cell_type": "code",
   "execution_count": 428,
   "metadata": {},
   "outputs": [
    {
     "name": "stdout",
     "output_type": "stream",
     "text": [
      "[0.77253219 0.80161943 0.808      0.81422925 0.8       ]\n"
     ]
    }
   ],
   "source": [
    "f1_score = cross_val_score(clf, X, y, scoring='f1')\n",
    "print(f1_score)"
   ]
  },
  {
   "cell_type": "code",
   "execution_count": 429,
   "metadata": {},
   "outputs": [],
   "source": [
    "y_pred_NB_drugs1 = cross_val_predict(clf,X, y, cv=5)"
   ]
  },
  {
   "cell_type": "code",
   "execution_count": 430,
   "metadata": {},
   "outputs": [
    {
     "name": "stdout",
     "output_type": "stream",
     "text": [
      "              precision    recall  f1-score   support\n",
      "\n",
      "           0       0.80      0.82      0.81       639\n",
      "           1       0.81      0.79      0.80       618\n",
      "\n",
      "    accuracy                           0.81      1257\n",
      "   macro avg       0.81      0.80      0.80      1257\n",
      "weighted avg       0.81      0.81      0.81      1257\n",
      "\n",
      "[[523 116]\n",
      " [129 489]]\n"
     ]
    }
   ],
   "source": [
    "print(classification_report(y, y_pred_NB_drugs1))\n",
    "print(confusion_matrix(y, y_pred_NB_drugs1))"
   ]
  },
  {
   "cell_type": "markdown",
   "metadata": {},
   "source": [
    "## SMOTE Naive Bayes"
   ]
  },
  {
   "cell_type": "code",
   "execution_count": 431,
   "metadata": {},
   "outputs": [
    {
     "data": {
      "text/plain": [
       "0    0.508353\n",
       "1    0.491647\n",
       "Name: illegal_drugs_1, dtype: float64"
      ]
     },
     "execution_count": 431,
     "metadata": {},
     "output_type": "execute_result"
    }
   ],
   "source": [
    "df.illegal_drugs_1.value_counts()/df.shape[0]"
   ]
  },
  {
   "cell_type": "code",
   "execution_count": 432,
   "metadata": {},
   "outputs": [
    {
     "data": {
      "text/plain": [
       "Counter({0: 639, 1: 618})"
      ]
     },
     "execution_count": 432,
     "metadata": {},
     "output_type": "execute_result"
    }
   ],
   "source": [
    "Counter(y)"
   ]
  },
  {
   "cell_type": "code",
   "execution_count": 433,
   "metadata": {},
   "outputs": [],
   "source": [
    "oversample = SMOTE()\n",
    "X_smote, y_smote = oversample.fit_resample(X, y)"
   ]
  },
  {
   "cell_type": "code",
   "execution_count": 434,
   "metadata": {},
   "outputs": [],
   "source": [
    "clf = GaussianNB()"
   ]
  },
  {
   "cell_type": "code",
   "execution_count": 435,
   "metadata": {},
   "outputs": [],
   "source": [
    "y_pred_NB_drugs1_smote = cross_val_predict(clf,X_smote, y_smote, cv=5)"
   ]
  },
  {
   "cell_type": "code",
   "execution_count": 436,
   "metadata": {},
   "outputs": [
    {
     "name": "stdout",
     "output_type": "stream",
     "text": [
      "              precision    recall  f1-score   support\n",
      "\n",
      "           0       0.80      0.82      0.81       639\n",
      "           1       0.81      0.80      0.81       639\n",
      "\n",
      "    accuracy                           0.81      1278\n",
      "   macro avg       0.81      0.81      0.81      1278\n",
      "weighted avg       0.81      0.81      0.81      1278\n",
      "\n",
      "[[523 116]\n",
      " [129 510]]\n"
     ]
    }
   ],
   "source": [
    "print(classification_report(y_smote, y_pred_NB_drugs1_smote))\n",
    "print(confusion_matrix(y_smote, y_pred_NB_drugs1_smote))"
   ]
  },
  {
   "cell_type": "markdown",
   "metadata": {},
   "source": [
    "# Decision Tree"
   ]
  },
  {
   "cell_type": "code",
   "execution_count": 437,
   "metadata": {},
   "outputs": [
    {
     "name": "stdout",
     "output_type": "stream",
     "text": [
      "              precision    recall  f1-score   support\n",
      "\n",
      "           0       0.73      0.77      0.75       639\n",
      "           1       0.76      0.72      0.74       639\n",
      "\n",
      "    accuracy                           0.74      1278\n",
      "   macro avg       0.75      0.74      0.74      1278\n",
      "weighted avg       0.75      0.74      0.74      1278\n",
      "\n"
     ]
    },
    {
     "data": {
      "image/png": "[encoded data removed]",
      "text/plain": [
       "<Figure size 432x288 with 2 Axes>"
      ]
     },
     "metadata": {
      "needs_background": "light"
     },
     "output_type": "display_data"
    }
   ],
   "source": [
    "dtree = DecisionTreeClassifier(max_depth=10)\n",
    "y_pred_drugs1_dt = cross_val_predict(dtree, X_smote, y_smote, cv=5)\n",
    "cm = confusion_matrix(y_smote, y_pred_drugs1_dt)\n",
    "print(classification_report(y_smote, y_pred_drugs1_dt))\n",
    "sns.heatmap(cm, annot=True,\n",
    "            cmap='Blues', fmt='.0f');"
   ]
  },
  {
   "cell_type": "markdown",
   "metadata": {},
   "source": [
    "# Random Forest"
   ]
  },
  {
   "cell_type": "code",
   "execution_count": 438,
   "metadata": {},
   "outputs": [
    {
     "name": "stdout",
     "output_type": "stream",
     "text": [
      "              precision    recall  f1-score   support\n",
      "\n",
      "           0       0.83      0.83      0.83       639\n",
      "           1       0.83      0.83      0.83       639\n",
      "\n",
      "    accuracy                           0.83      1278\n",
      "   macro avg       0.83      0.83      0.83      1278\n",
      "weighted avg       0.83      0.83      0.83      1278\n",
      "\n"
     ]
    },
    {
     "data": {
      "image/png": "[encoded data removed]",
      "text/plain": [
       "<Figure size 432x288 with 2 Axes>"
      ]
     },
     "metadata": {
      "needs_background": "light"
     },
     "output_type": "display_data"
    }
   ],
   "source": [
    "rf = RandomForestClassifier(n_estimators = 200, random_state=10, class_weight=\"balanced\")\n",
    "y_pred_drugs1_rf = cross_val_predict(rf, X_smote, y_smote, cv=5)\n",
    "cm = confusion_matrix(y_smote, y_pred_drugs1_rf)\n",
    "print(classification_report(y_smote, y_pred_drugs1_rf))\n",
    "sns.heatmap(cm, annot=True,\n",
    "            cmap='Blues', fmt='.0f');"
   ]
  },
  {
   "cell_type": "markdown",
   "metadata": {},
   "source": [
    "# Logistische Regression"
   ]
  },
  {
   "cell_type": "code",
   "execution_count": 439,
   "metadata": {},
   "outputs": [
    {
     "name": "stdout",
     "output_type": "stream",
     "text": [
      "              precision    recall  f1-score   support\n",
      "\n",
      "           0       0.80      0.85      0.82       639\n",
      "           1       0.84      0.79      0.81       639\n",
      "\n",
      "    accuracy                           0.82      1278\n",
      "   macro avg       0.82      0.82      0.82      1278\n",
      "weighted avg       0.82      0.82      0.82      1278\n",
      "\n"
     ]
    },
    {
     "data": {
      "image/png": "[encoded data removed]",
      "text/plain": [
       "<Figure size 432x288 with 2 Axes>"
      ]
     },
     "metadata": {
      "needs_background": "light"
     },
     "output_type": "display_data"
    }
   ],
   "source": [
    "logreg = LogisticRegression(max_iter=1000, solver=\"liblinear\")\n",
    "y_pred_drugs1_lr = cross_val_predict(logreg, X_smote, y_smote, cv=5)\n",
    "cm = confusion_matrix(y_smote, y_pred_drugs1_lr)\n",
    "print(classification_report(y_smote, y_pred_drugs1_lr))\n",
    "sns.heatmap(cm, annot=True,\n",
    "            cmap='Blues', fmt='.0f');"
   ]
  },
  {
   "cell_type": "markdown",
   "metadata": {},
   "source": [
    "#  KNN"
   ]
  },
  {
   "cell_type": "code",
   "execution_count": 440,
   "metadata": {},
   "outputs": [
    {
     "name": "stdout",
     "output_type": "stream",
     "text": [
      "              precision    recall  f1-score   support\n",
      "\n",
      "           0       0.77      0.87      0.82       639\n",
      "           1       0.85      0.74      0.79       639\n",
      "\n",
      "    accuracy                           0.81      1278\n",
      "   macro avg       0.81      0.81      0.80      1278\n",
      "weighted avg       0.81      0.81      0.80      1278\n",
      "\n"
     ]
    },
    {
     "data": {
      "image/png": "[encoded data removed]",
      "text/plain": [
       "<Figure size 432x288 with 2 Axes>"
      ]
     },
     "metadata": {
      "needs_background": "light"
     },
     "output_type": "display_data"
    }
   ],
   "source": [
    "knn = KNeighborsClassifier(n_neighbors=8)\n",
    "y_pred_drugs1_knn = cross_val_predict(knn, X_smote, y_smote, cv=5)\n",
    "cm = confusion_matrix(y_smote, y_pred_drugs1_knn)\n",
    "print(classification_report(y_smote, y_pred_drugs1_knn))\n",
    "sns.heatmap(cm, annot=True,\n",
    "            cmap='Blues', fmt='.0f');"
   ]
  },
  {
   "cell_type": "markdown",
   "metadata": {},
   "source": [
    "# Support Vector Machines"
   ]
  },
  {
   "cell_type": "code",
   "execution_count": 441,
   "metadata": {},
   "outputs": [],
   "source": [
    "sv = svm.SVC(kernel='rbf')"
   ]
  },
  {
   "cell_type": "code",
   "execution_count": 442,
   "metadata": {},
   "outputs": [
    {
     "name": "stdout",
     "output_type": "stream",
     "text": [
      "              precision    recall  f1-score   support\n",
      "\n",
      "           0       0.80      0.83      0.81       639\n",
      "           1       0.82      0.80      0.81       639\n",
      "\n",
      "    accuracy                           0.81      1278\n",
      "   macro avg       0.81      0.81      0.81      1278\n",
      "weighted avg       0.81      0.81      0.81      1278\n",
      "\n"
     ]
    },
    {
     "data": {
      "image/png": "[encoded data removed]",
      "text/plain": [
       "<Figure size 432x288 with 2 Axes>"
      ]
     },
     "metadata": {
      "needs_background": "light"
     },
     "output_type": "display_data"
    }
   ],
   "source": [
    "y_pred_drugs1_svm = cross_val_predict(sv, X_smote, y_smote, cv=5)\n",
    "cm = confusion_matrix(y_smote, y_pred_drugs1_svm)\n",
    "print(classification_report(y_smote, y_pred_drugs1_svm))\n",
    "sns.heatmap(cm, annot=True,\n",
    "            cmap='Blues', fmt='.0f');"
   ]
  },
  {
   "cell_type": "code",
   "execution_count": null,
   "metadata": {},
   "outputs": [],
   "source": []
  },
  {
   "cell_type": "code",
   "execution_count": null,
   "metadata": {},
   "outputs": [],
   "source": []
  },
  {
   "cell_type": "markdown",
   "metadata": {},
   "source": [
    "# F1 beta score, weighting of parameters, feature selection"
   ]
  },
  {
   "cell_type": "code",
   "execution_count": null,
   "metadata": {},
   "outputs": [],
   "source": []
  },
  {
   "cell_type": "code",
   "execution_count": null,
   "metadata": {},
   "outputs": [],
   "source": []
  }
 ],
 "metadata": {
  "kernelspec": {
   "display_name": "Python [conda env:nf] *",
   "language": "python",
   "name": "conda-env-nf-py"
  },
  "language_info": {
   "codemirror_mode": {
    "name": "ipython",
    "version": 3
   },
   "file_extension": ".py",
   "mimetype": "text/x-python",
   "name": "python",
   "nbconvert_exporter": "python",
   "pygments_lexer": "ipython3",
   "version": "3.6.11"
  }
 },
 "nbformat": 4,
 "nbformat_minor": 4
}
