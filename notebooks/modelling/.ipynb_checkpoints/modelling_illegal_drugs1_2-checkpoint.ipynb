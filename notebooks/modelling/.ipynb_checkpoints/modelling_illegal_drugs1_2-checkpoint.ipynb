{
 "cells": [
  {
   "cell_type": "code",
   "execution_count": 1,
   "metadata": {},
   "outputs": [],
   "source": [
    "import numpy as np\n",
    "import pandas as pd\n",
    "\n",
    "import seaborn as sns\n",
    "\n",
    "from collections import Counter\n",
    "\n",
    "from sklearn.tree import DecisionTreeClassifier\n",
    "from sklearn.svm import SVC\n",
    "from sklearn.ensemble import AdaBoostClassifier\n",
    "from sklearn.ensemble import RandomForestClassifier\n",
    "from sklearn.linear_model import LogisticRegression\n",
    "from sklearn.naive_bayes import GaussianNB\n",
    "from sklearn.neighbors import KNeighborsClassifier\n",
    "from sklearn import svm\n",
    "\n",
    "from sklearn.model_selection import cross_val_predict, cross_val_score\n",
    "from sklearn.model_selection import GridSearchCV\n",
    "\n",
    "from sklearn.metrics import classification_report, confusion_matrix\n",
    "\n",
    "from imblearn.over_sampling import SMOTE"
   ]
  },
  {
   "cell_type": "code",
   "execution_count": 33,
   "metadata": {},
   "outputs": [],
   "source": [
    "pd.set_option(\"display.max_columns\", None)"
   ]
  },
  {
   "cell_type": "code",
   "execution_count": 34,
   "metadata": {},
   "outputs": [],
   "source": [
    "df = pd.read_csv(\"../../data/processed/data_train_model.csv\")"
   ]
  },
  {
   "cell_type": "code",
   "execution_count": 35,
   "metadata": {},
   "outputs": [],
   "source": [
    "alcohol = ['Alcohol']\n",
    "\n",
    "nicotine = ['Nicotine']\n",
    "\n",
    "illegal_drugs1 = ['Cannabis', 'Legalh', 'LSD', 'Shrooms', \n",
    "                  'Amphet', 'Amyl', 'Ecstasy', 'Ketamine', \n",
    "                  'Coke']\n",
    "\n",
    "illegal_drugs2 = ['Meth', 'Benzos', 'Heroin', 'Crack']"
   ]
  },
  {
   "cell_type": "code",
   "execution_count": 36,
   "metadata": {},
   "outputs": [],
   "source": [
    "borders = [4, 2, 3, 3, 3, 3, 3, 2, 2]\n",
    "drug_zip = list(zip(borders, illegal_drugs1))\n",
    "\n",
    "for b, drug in zip(borders, illegal_drugs1):\n",
    "    df[drug+'_bin'] = [1 if d > b else 0 for d in df[drug].values]"
   ]
  },
  {
   "cell_type": "code",
   "execution_count": 37,
   "metadata": {},
   "outputs": [
    {
     "data": {
      "text/plain": [
       "Cannabis_bin    421\n",
       "Legalh_bin      367\n",
       "LSD_bin         111\n",
       "Shrooms_bin     102\n",
       "Amphet_bin      157\n",
       "Amyl_bin         29\n",
       "Ecstasy_bin     170\n",
       "Ketamine_bin    143\n",
       "Coke_bin        293\n",
       "dtype: int64"
      ]
     },
     "execution_count": 37,
     "metadata": {},
     "output_type": "execute_result"
    }
   ],
   "source": [
    "df.iloc[:, -9:].sum(axis=0)"
   ]
  },
  {
   "cell_type": "code",
   "execution_count": 38,
   "metadata": {},
   "outputs": [
    {
     "data": {
      "text/plain": [
       "1    640\n",
       "0    617\n",
       "Name: illegal_drugs_1, dtype: int64"
      ]
     },
     "execution_count": 38,
     "metadata": {},
     "output_type": "execute_result"
    }
   ],
   "source": [
    "df['illegal_drugs_1'] = df.iloc[:, -9:].sum(axis=1)\n",
    "\n",
    "df['illegal_drugs_1'] = [1 if ill > 0 else 0 for ill in df.illegal_drugs_1.values]\n",
    "df.illegal_drugs_1.value_counts()"
   ]
  },
  {
   "cell_type": "code",
   "execution_count": 10,
   "metadata": {},
   "outputs": [],
   "source": [
    "X = df.iloc[:, :12]"
   ]
  },
  {
   "cell_type": "code",
   "execution_count": 11,
   "metadata": {},
   "outputs": [],
   "source": [
    "y = df.illegal_drugs_1"
   ]
  },
  {
   "cell_type": "markdown",
   "metadata": {},
   "source": [
    "# Models\n",
    "- Naive Bayes\n",
    "- Decision Tree\n",
    "- Random Forests\n",
    "- KNN\n",
    "- Logreg\n",
    "- SVM\n",
    "- Assemble Methods (AdaBoost, XGBoost)"
   ]
  },
  {
   "cell_type": "markdown",
   "metadata": {},
   "source": [
    "# Naive Bayes - Baseline"
   ]
  },
  {
   "cell_type": "code",
   "execution_count": 12,
   "metadata": {},
   "outputs": [],
   "source": [
    "clf = GaussianNB()\n",
    "#clf.fit(X, y)"
   ]
  },
  {
   "cell_type": "code",
   "execution_count": 13,
   "metadata": {},
   "outputs": [
    {
     "name": "stdout",
     "output_type": "stream",
     "text": [
      "[0.76987448 0.82677165 0.81395349 0.83076923 0.80161943]\n"
     ]
    }
   ],
   "source": [
    "f1_score = cross_val_score(clf, X, y, scoring='f1')\n",
    "print(f1_score)"
   ]
  },
  {
   "cell_type": "code",
   "execution_count": 14,
   "metadata": {},
   "outputs": [],
   "source": [
    "y_pred_NB_drugs1 = cross_val_predict(clf,X, y, cv=5)"
   ]
  },
  {
   "cell_type": "code",
   "execution_count": 15,
   "metadata": {},
   "outputs": [
    {
     "name": "stdout",
     "output_type": "stream",
     "text": [
      "              precision    recall  f1-score   support\n",
      "\n",
      "           0       0.79      0.82      0.81       617\n",
      "           1       0.82      0.80      0.81       640\n",
      "\n",
      "    accuracy                           0.81      1257\n",
      "   macro avg       0.81      0.81      0.81      1257\n",
      "weighted avg       0.81      0.81      0.81      1257\n",
      "\n",
      "[[508 109]\n",
      " [131 509]]\n"
     ]
    }
   ],
   "source": [
    "print(classification_report(y, y_pred_NB_drugs1))\n",
    "print(confusion_matrix(y, y_pred_NB_drugs1))"
   ]
  },
  {
   "cell_type": "markdown",
   "metadata": {},
   "source": [
    "## SMOTE Naive Bayes"
   ]
  },
  {
   "cell_type": "code",
   "execution_count": 16,
   "metadata": {},
   "outputs": [
    {
     "data": {
      "text/plain": [
       "1    0.509149\n",
       "0    0.490851\n",
       "Name: illegal_drugs_1, dtype: float64"
      ]
     },
     "execution_count": 16,
     "metadata": {},
     "output_type": "execute_result"
    }
   ],
   "source": [
    "df.illegal_drugs_1.value_counts()/df.shape[0]"
   ]
  },
  {
   "cell_type": "code",
   "execution_count": 17,
   "metadata": {},
   "outputs": [
    {
     "data": {
      "text/plain": [
       "Counter({0: 617, 1: 640})"
      ]
     },
     "execution_count": 17,
     "metadata": {},
     "output_type": "execute_result"
    }
   ],
   "source": [
    "Counter(y)"
   ]
  },
  {
   "cell_type": "code",
   "execution_count": 18,
   "metadata": {},
   "outputs": [],
   "source": [
    "oversample = SMOTE()\n",
    "X_smote, y_smote = oversample.fit_resample(X, y)"
   ]
  },
  {
   "cell_type": "code",
   "execution_count": 19,
   "metadata": {},
   "outputs": [],
   "source": [
    "clf = GaussianNB()"
   ]
  },
  {
   "cell_type": "code",
   "execution_count": 20,
   "metadata": {},
   "outputs": [],
   "source": [
    "y_pred_NB_drugs1_smote = cross_val_predict(clf,X_smote, y_smote, cv=5)"
   ]
  },
  {
   "cell_type": "code",
   "execution_count": 21,
   "metadata": {},
   "outputs": [
    {
     "name": "stdout",
     "output_type": "stream",
     "text": [
      "              precision    recall  f1-score   support\n",
      "\n",
      "           0       0.81      0.83      0.82       640\n",
      "           1       0.83      0.80      0.81       640\n",
      "\n",
      "    accuracy                           0.82      1280\n",
      "   macro avg       0.82      0.82      0.82      1280\n",
      "weighted avg       0.82      0.82      0.82      1280\n",
      "\n",
      "[[532 108]\n",
      " [126 514]]\n"
     ]
    }
   ],
   "source": [
    "print(classification_report(y_smote, y_pred_NB_drugs1_smote))\n",
    "print(confusion_matrix(y_smote, y_pred_NB_drugs1_smote))"
   ]
  },
  {
   "cell_type": "markdown",
   "metadata": {},
   "source": [
    "# Decision Tree"
   ]
  },
  {
   "cell_type": "code",
   "execution_count": 22,
   "metadata": {},
   "outputs": [
    {
     "name": "stdout",
     "output_type": "stream",
     "text": [
      "              precision    recall  f1-score   support\n",
      "\n",
      "           0       0.74      0.77      0.76       640\n",
      "           1       0.76      0.74      0.75       640\n",
      "\n",
      "    accuracy                           0.75      1280\n",
      "   macro avg       0.75      0.75      0.75      1280\n",
      "weighted avg       0.75      0.75      0.75      1280\n",
      "\n"
     ]
    },
    {
     "data": {
      "image/png": "[encoded data removed]",
      "text/plain": [
       "<Figure size 432x288 with 2 Axes>"
      ]
     },
     "metadata": {
      "needs_background": "light"
     },
     "output_type": "display_data"
    }
   ],
   "source": [
    "dtree = DecisionTreeClassifier(max_depth=10)\n",
    "y_pred_drugs1_dt = cross_val_predict(dtree, X_smote, y_smote, cv=5)\n",
    "cm = confusion_matrix(y_smote, y_pred_drugs1_dt)\n",
    "print(classification_report(y_smote, y_pred_drugs1_dt))\n",
    "sns.heatmap(cm, annot=True,\n",
    "            cmap='Blues', fmt='.0f');"
   ]
  },
  {
   "cell_type": "markdown",
   "metadata": {},
   "source": [
    "# Random Forest"
   ]
  },
  {
   "cell_type": "code",
   "execution_count": 23,
   "metadata": {},
   "outputs": [
    {
     "name": "stdout",
     "output_type": "stream",
     "text": [
      "              precision    recall  f1-score   support\n",
      "\n",
      "           0       0.83      0.83      0.83       640\n",
      "           1       0.83      0.82      0.83       640\n",
      "\n",
      "    accuracy                           0.83      1280\n",
      "   macro avg       0.83      0.83      0.83      1280\n",
      "weighted avg       0.83      0.83      0.83      1280\n",
      "\n"
     ]
    },
    {
     "data": {
      "image/png": "[encoded data removed]",
      "text/plain": [
       "<Figure size 432x288 with 2 Axes>"
      ]
     },
     "metadata": {
      "needs_background": "light"
     },
     "output_type": "display_data"
    }
   ],
   "source": [
    "rf = RandomForestClassifier(n_estimators = 200, random_state=10)#, class_weight=\"balanced\")\n",
    "y_pred_drugs1_rf = cross_val_predict(rf, X_smote, y_smote, cv=5)\n",
    "cm = confusion_matrix(y_smote, y_pred_drugs1_rf)\n",
    "print(classification_report(y_smote, y_pred_drugs1_rf))\n",
    "sns.heatmap(cm, annot=True,\n",
    "            cmap='Blues', fmt='.0f');"
   ]
  },
  {
   "cell_type": "code",
   "execution_count": 30,
   "metadata": {},
   "outputs": [],
   "source": [
    "parameters = { \n",
    "    'n_estimators': [200, 500, 2000],\n",
    "    'max_features': ['auto', 'sqrt', 'log2'],\n",
    "    'max_depth' : [1,50,1000],\n",
    "    'criterion' :['gini', 'entropy']\n",
    "}\n",
    "\n",
    "scorer = ['precision', 'recall', 'accuracy', 'f1', 'roc_auc']\n",
    "grid_rnc = GridSearchCV(rf, parameters,scoring=scorer, refit='f1') \n",
    "grid_rnc.fit(X_smote,y_smote) \n",
    "best_rnc = grid_rnc.best_estimator_ \n",
    "best_scores = grid_rnc.cv_results_\n",
    "best_param = grid_rnc.best_estimator_"
   ]
  },
  {
   "cell_type": "code",
   "execution_count": 32,
   "metadata": {},
   "outputs": [
    {
     "data": {
      "text/plain": [
       "0.829464979137617"
      ]
     },
     "execution_count": 32,
     "metadata": {},
     "output_type": "execute_result"
    }
   ],
   "source": [
    "grid_rnc.best_score_"
   ]
  },
  {
   "cell_type": "markdown",
   "metadata": {},
   "source": [
    "# Logistische Regression"
   ]
  },
  {
   "cell_type": "code",
   "execution_count": 439,
   "metadata": {},
   "outputs": [
    {
     "name": "stdout",
     "output_type": "stream",
     "text": [
      "              precision    recall  f1-score   support\n",
      "\n",
      "           0       0.80      0.85      0.82       639\n",
      "           1       0.84      0.79      0.81       639\n",
      "\n",
      "    accuracy                           0.82      1278\n",
      "   macro avg       0.82      0.82      0.82      1278\n",
      "weighted avg       0.82      0.82      0.82      1278\n",
      "\n"
     ]
    },
    {
     "data": {
      "image/png": "[encoded data removed]",
      "text/plain": [
       "<Figure size 432x288 with 2 Axes>"
      ]
     },
     "metadata": {
      "needs_background": "light"
     },
     "output_type": "display_data"
    }
   ],
   "source": [
    "logreg = LogisticRegression(max_iter=1000, solver=\"liblinear\")\n",
    "y_pred_drugs1_lr = cross_val_predict(logreg, X_smote, y_smote, cv=5)\n",
    "cm = confusion_matrix(y_smote, y_pred_drugs1_lr)\n",
    "print(classification_report(y_smote, y_pred_drugs1_lr))\n",
    "sns.heatmap(cm, annot=True,\n",
    "            cmap='Blues', fmt='.0f');"
   ]
  },
  {
   "cell_type": "markdown",
   "metadata": {},
   "source": [
    "#  KNN"
   ]
  },
  {
   "cell_type": "code",
   "execution_count": 440,
   "metadata": {},
   "outputs": [
    {
     "name": "stdout",
     "output_type": "stream",
     "text": [
      "              precision    recall  f1-score   support\n",
      "\n",
      "           0       0.77      0.87      0.82       639\n",
      "           1       0.85      0.74      0.79       639\n",
      "\n",
      "    accuracy                           0.81      1278\n",
      "   macro avg       0.81      0.81      0.80      1278\n",
      "weighted avg       0.81      0.81      0.80      1278\n",
      "\n"
     ]
    },
    {
     "data": {
      "image/png": "[encoded data removed]",
      "text/plain": [
       "<Figure size 432x288 with 2 Axes>"
      ]
     },
     "metadata": {
      "needs_background": "light"
     },
     "output_type": "display_data"
    }
   ],
   "source": [
    "knn = KNeighborsClassifier(n_neighbors=8)\n",
    "y_pred_drugs1_knn = cross_val_predict(knn, X_smote, y_smote, cv=5)\n",
    "cm = confusion_matrix(y_smote, y_pred_drugs1_knn)\n",
    "print(classification_report(y_smote, y_pred_drugs1_knn))\n",
    "sns.heatmap(cm, annot=True,\n",
    "            cmap='Blues', fmt='.0f');"
   ]
  },
  {
   "cell_type": "markdown",
   "metadata": {},
   "source": [
    "# Support Vector Machines"
   ]
  },
  {
   "cell_type": "code",
   "execution_count": 441,
   "metadata": {},
   "outputs": [],
   "source": [
    "sv = svm.SVC(kernel='rbf')"
   ]
  },
  {
   "cell_type": "code",
   "execution_count": 442,
   "metadata": {},
   "outputs": [
    {
     "name": "stdout",
     "output_type": "stream",
     "text": [
      "              precision    recall  f1-score   support\n",
      "\n",
      "           0       0.80      0.83      0.81       639\n",
      "           1       0.82      0.80      0.81       639\n",
      "\n",
      "    accuracy                           0.81      1278\n",
      "   macro avg       0.81      0.81      0.81      1278\n",
      "weighted avg       0.81      0.81      0.81      1278\n",
      "\n"
     ]
    },
    {
     "data": {
      "image/png": "[encoded data removed]",
      "text/plain": [
       "<Figure size 432x288 with 2 Axes>"
      ]
     },
     "metadata": {
      "needs_background": "light"
     },
     "output_type": "display_data"
    }
   ],
   "source": [
    "y_pred_drugs1_svm = cross_val_predict(sv, X_smote, y_smote, cv=5)\n",
    "cm = confusion_matrix(y_smote, y_pred_drugs1_svm)\n",
    "print(classification_report(y_smote, y_pred_drugs1_svm))\n",
    "sns.heatmap(cm, annot=True,\n",
    "            cmap='Blues', fmt='.0f');"
   ]
  },
  {
   "cell_type": "markdown",
   "metadata": {},
   "source": [
    "# XG Boost"
   ]
  },
  {
   "cell_type": "code",
   "execution_count": 29,
   "metadata": {},
   "outputs": [
    {
     "name": "stdout",
     "output_type": "stream",
     "text": [
      "              precision    recall  f1-score   support\n",
      "\n",
      "           0       0.80      0.81      0.80       640\n",
      "           1       0.81      0.80      0.80       640\n",
      "\n",
      "    accuracy                           0.80      1280\n",
      "   macro avg       0.80      0.80      0.80      1280\n",
      "weighted avg       0.80      0.80      0.80      1280\n",
      "\n",
      "[[518 122]\n",
      " [129 511]]\n"
     ]
    }
   ],
   "source": [
    "from xgboost import XGBClassifier\n",
    "xgb = XGBClassifier()\n",
    "y_pred_drugs1_XG = cross_val_predict(xgb, X_smote, y_smote, cv=5)\n",
    "cm = confusion_matrix(y_smote, y_pred_drugs1_XG)\n",
    "print(classification_report(y_smote, y_pred_drugs1_XG))\n",
    "print(cm)"
   ]
  },
  {
   "cell_type": "markdown",
   "metadata": {},
   "source": [
    "# AdaBoost"
   ]
  },
  {
   "cell_type": "code",
   "execution_count": 30,
   "metadata": {},
   "outputs": [
    {
     "name": "stdout",
     "output_type": "stream",
     "text": [
      "              precision    recall  f1-score   support\n",
      "\n",
      "           0       0.81      0.83      0.82       640\n",
      "           1       0.83      0.80      0.81       640\n",
      "\n",
      "    accuracy                           0.82      1280\n",
      "   macro avg       0.82      0.82      0.82      1280\n",
      "weighted avg       0.82      0.82      0.82      1280\n",
      "\n",
      "[[534 106]\n",
      " [129 511]]\n"
     ]
    }
   ],
   "source": [
    "from sklearn.ensemble import AdaBoostClassifier\n",
    "ada = AdaBoostClassifier(random_state = 101)\n",
    "y_pred_ada = cross_val_predict(ada, X_smote, y_smote, cv=5)\n",
    "cm = confusion_matrix(y_smote, y_pred_ada)\n",
    "print(classification_report(y_smote, y_pred_ada))\n",
    "print(cm)"
   ]
  },
  {
   "cell_type": "code",
   "execution_count": null,
   "metadata": {},
   "outputs": [],
   "source": []
  },
  {
   "cell_type": "markdown",
   "metadata": {},
   "source": [
    "# F1 beta score, weighting of parameters, feature selection"
   ]
  },
  {
   "cell_type": "markdown",
   "metadata": {},
   "source": [
    "# Evaluation"
   ]
  },
  {
   "cell_type": "code",
   "execution_count": null,
   "metadata": {},
   "outputs": [],
   "source": [
    "test = pd.read_csv('../../data/processed/data_test_model.csv')"
   ]
  },
  {
   "cell_type": "code",
   "execution_count": null,
   "metadata": {},
   "outputs": [],
   "source": []
  }
 ],
 "metadata": {
  "kernelspec": {
   "display_name": "Python [conda env:nf] *",
   "language": "python",
   "name": "conda-env-nf-py"
  },
  "language_info": {
   "codemirror_mode": {
    "name": "ipython",
    "version": 3
   },
   "file_extension": ".py",
   "mimetype": "text/x-python",
   "name": "python",
   "nbconvert_exporter": "python",
   "pygments_lexer": "ipython3",
   "version": "3.6.11"
  }
 },
 "nbformat": 4,
 "nbformat_minor": 4
}
