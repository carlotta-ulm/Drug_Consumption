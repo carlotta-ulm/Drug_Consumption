{
 "cells": [
  {
   "cell_type": "code",
   "execution_count": 1,
   "metadata": {},
   "outputs": [],
   "source": [
    "import numpy as np\n",
    "import pandas as pd\n",
    "\n",
    "import seaborn as sns\n",
    "\n",
    "from collections import Counter\n",
    "\n",
    "from sklearn.tree import DecisionTreeClassifier\n",
    "from sklearn.svm import SVC\n",
    "from sklearn.ensemble import AdaBoostClassifier\n",
    "from sklearn.ensemble import RandomForestClassifier\n",
    "from sklearn.linear_model import LogisticRegression\n",
    "from sklearn.naive_bayes import GaussianNB\n",
    "from sklearn.neighbors import KNeighborsClassifier\n",
    "from sklearn import svm\n",
    "\n",
    "from sklearn.model_selection import cross_val_predict, cross_val_score\n",
    "from sklearn.model_selection import GridSearchCV\n",
    "\n",
    "from sklearn.metrics import classification_report, confusion_matrix\n",
    "\n",
    "from imblearn.over_sampling import SMOTE"
   ]
  },
  {
   "cell_type": "code",
   "execution_count": 2,
   "metadata": {},
   "outputs": [],
   "source": [
    "pd.set_option(\"display.max_columns\", None)"
   ]
  },
  {
   "cell_type": "code",
   "execution_count": 44,
   "metadata": {},
   "outputs": [],
   "source": [
    "df = pd.read_csv(\"../../data/processed/data_train_model.csv\")"
   ]
  },
  {
   "cell_type": "code",
   "execution_count": 45,
   "metadata": {},
   "outputs": [],
   "source": [
    "dummy = False\n",
    "\n",
    "if dummy:\n",
    "    df = df.merge(pd.get_dummies(df.Education, drop_first=True, prefix=\"edu\"), \n",
    "                  left_index=True, right_index=True)\n",
    "    df.drop(\"Education\", axis=1, inplace=True)\n"
   ]
  },
  {
   "cell_type": "code",
   "execution_count": 46,
   "metadata": {},
   "outputs": [],
   "source": [
    "binary = True"
   ]
  },
  {
   "cell_type": "code",
   "execution_count": 47,
   "metadata": {},
   "outputs": [],
   "source": [
    "if binary:\n",
    "    df['Alcohol_bin'] = [1 if alc >= 5 else 0 for alc in df.Alcohol.values]\n",
    "else:\n",
    "    alc_bins = []\n",
    "    for alc in df.Alcohol.values:\n",
    "        if alc == 6:\n",
    "            alc_bins.append('heavy drinker')\n",
    "        elif 3 < alc < 6:\n",
    "            alc_bins.append('moderate drinker')\n",
    "        else:\n",
    "            alc_bins.append('non drinker')\n",
    "    df['Alcohol_bin'] = alc_bins"
   ]
  },
  {
   "cell_type": "code",
   "execution_count": 48,
   "metadata": {},
   "outputs": [
    {
     "data": {
      "text/plain": [
       "1    842\n",
       "0    415\n",
       "Name: Alcohol_bin, dtype: int64"
      ]
     },
     "execution_count": 48,
     "metadata": {},
     "output_type": "execute_result"
    }
   ],
   "source": [
    "df.Alcohol_bin.value_counts()"
   ]
  },
  {
   "cell_type": "code",
   "execution_count": 49,
   "metadata": {},
   "outputs": [
    {
     "data": {
      "text/html": [
       "<div>\n",
       "<style scoped>\n",
       "    .dataframe tbody tr th:only-of-type {\n",
       "        vertical-align: middle;\n",
       "    }\n",
       "\n",
       "    .dataframe tbody tr th {\n",
       "        vertical-align: top;\n",
       "    }\n",
       "\n",
       "    .dataframe thead th {\n",
       "        text-align: right;\n",
       "    }\n",
       "</style>\n",
       "<table border=\"1\" class=\"dataframe\">\n",
       "  <thead>\n",
       "    <tr style=\"text-align: right;\">\n",
       "      <th></th>\n",
       "      <th>Age</th>\n",
       "      <th>Gender</th>\n",
       "      <th>Education</th>\n",
       "      <th>Country</th>\n",
       "      <th>Ethnicity</th>\n",
       "      <th>Nscore</th>\n",
       "      <th>Escore</th>\n",
       "      <th>Oscore</th>\n",
       "      <th>Ascore</th>\n",
       "      <th>Cscore</th>\n",
       "      <th>Impulsive</th>\n",
       "      <th>SS</th>\n",
       "    </tr>\n",
       "  </thead>\n",
       "  <tbody>\n",
       "    <tr>\n",
       "      <th>0</th>\n",
       "      <td>-0.07854</td>\n",
       "      <td>0.48246</td>\n",
       "      <td>-1.22751</td>\n",
       "      <td>0.96082</td>\n",
       "      <td>-0.31685</td>\n",
       "      <td>-0.14882</td>\n",
       "      <td>-0.15487</td>\n",
       "      <td>-1.97495</td>\n",
       "      <td>0.59042</td>\n",
       "      <td>0.75830</td>\n",
       "      <td>-0.71126</td>\n",
       "      <td>-0.84637</td>\n",
       "    </tr>\n",
       "    <tr>\n",
       "      <th>1</th>\n",
       "      <td>1.09449</td>\n",
       "      <td>0.48246</td>\n",
       "      <td>0.45468</td>\n",
       "      <td>0.96082</td>\n",
       "      <td>-0.31685</td>\n",
       "      <td>-1.32828</td>\n",
       "      <td>-0.15487</td>\n",
       "      <td>-0.84732</td>\n",
       "      <td>0.13136</td>\n",
       "      <td>0.58489</td>\n",
       "      <td>-1.37983</td>\n",
       "      <td>-1.54858</td>\n",
       "    </tr>\n",
       "    <tr>\n",
       "      <th>2</th>\n",
       "      <td>-0.95197</td>\n",
       "      <td>0.48246</td>\n",
       "      <td>0.45468</td>\n",
       "      <td>-0.57009</td>\n",
       "      <td>-0.31685</td>\n",
       "      <td>-0.58016</td>\n",
       "      <td>1.45421</td>\n",
       "      <td>0.88309</td>\n",
       "      <td>-0.01729</td>\n",
       "      <td>0.12331</td>\n",
       "      <td>0.88113</td>\n",
       "      <td>0.40148</td>\n",
       "    </tr>\n",
       "    <tr>\n",
       "      <th>3</th>\n",
       "      <td>-0.95197</td>\n",
       "      <td>-0.48246</td>\n",
       "      <td>-0.61113</td>\n",
       "      <td>0.24923</td>\n",
       "      <td>-0.31685</td>\n",
       "      <td>1.98437</td>\n",
       "      <td>0.00332</td>\n",
       "      <td>2.15324</td>\n",
       "      <td>-0.45321</td>\n",
       "      <td>-0.65253</td>\n",
       "      <td>0.88113</td>\n",
       "      <td>0.76540</td>\n",
       "    </tr>\n",
       "    <tr>\n",
       "      <th>4</th>\n",
       "      <td>1.82213</td>\n",
       "      <td>-0.48246</td>\n",
       "      <td>-0.05921</td>\n",
       "      <td>0.96082</td>\n",
       "      <td>-0.31685</td>\n",
       "      <td>0.62967</td>\n",
       "      <td>-1.50796</td>\n",
       "      <td>-1.55521</td>\n",
       "      <td>0.76096</td>\n",
       "      <td>-0.40581</td>\n",
       "      <td>0.19268</td>\n",
       "      <td>-0.21575</td>\n",
       "    </tr>\n",
       "    <tr>\n",
       "      <th>...</th>\n",
       "      <td>...</td>\n",
       "      <td>...</td>\n",
       "      <td>...</td>\n",
       "      <td>...</td>\n",
       "      <td>...</td>\n",
       "      <td>...</td>\n",
       "      <td>...</td>\n",
       "      <td>...</td>\n",
       "      <td>...</td>\n",
       "      <td>...</td>\n",
       "      <td>...</td>\n",
       "      <td>...</td>\n",
       "    </tr>\n",
       "    <tr>\n",
       "      <th>1252</th>\n",
       "      <td>-0.95197</td>\n",
       "      <td>-0.48246</td>\n",
       "      <td>0.45468</td>\n",
       "      <td>-0.57009</td>\n",
       "      <td>-0.31685</td>\n",
       "      <td>0.13606</td>\n",
       "      <td>0.63779</td>\n",
       "      <td>-0.01928</td>\n",
       "      <td>-1.34289</td>\n",
       "      <td>-0.00665</td>\n",
       "      <td>0.88113</td>\n",
       "      <td>0.76540</td>\n",
       "    </tr>\n",
       "    <tr>\n",
       "      <th>1253</th>\n",
       "      <td>1.09449</td>\n",
       "      <td>-0.48246</td>\n",
       "      <td>-0.61113</td>\n",
       "      <td>-0.57009</td>\n",
       "      <td>-0.31685</td>\n",
       "      <td>2.28554</td>\n",
       "      <td>-1.23177</td>\n",
       "      <td>-0.01928</td>\n",
       "      <td>-2.53830</td>\n",
       "      <td>-2.90161</td>\n",
       "      <td>-0.21712</td>\n",
       "      <td>1.22470</td>\n",
       "    </tr>\n",
       "    <tr>\n",
       "      <th>1254</th>\n",
       "      <td>-0.95197</td>\n",
       "      <td>0.48246</td>\n",
       "      <td>1.16365</td>\n",
       "      <td>0.96082</td>\n",
       "      <td>-0.31685</td>\n",
       "      <td>-1.32828</td>\n",
       "      <td>1.28610</td>\n",
       "      <td>0.29338</td>\n",
       "      <td>0.43852</td>\n",
       "      <td>0.58489</td>\n",
       "      <td>-0.21712</td>\n",
       "      <td>0.40148</td>\n",
       "    </tr>\n",
       "    <tr>\n",
       "      <th>1255</th>\n",
       "      <td>-0.07854</td>\n",
       "      <td>0.48246</td>\n",
       "      <td>-0.05921</td>\n",
       "      <td>0.96082</td>\n",
       "      <td>-0.31685</td>\n",
       "      <td>0.04257</td>\n",
       "      <td>0.96248</td>\n",
       "      <td>-1.27553</td>\n",
       "      <td>2.23427</td>\n",
       "      <td>2.04506</td>\n",
       "      <td>-1.37983</td>\n",
       "      <td>-2.07848</td>\n",
       "    </tr>\n",
       "    <tr>\n",
       "      <th>1256</th>\n",
       "      <td>0.49788</td>\n",
       "      <td>0.48246</td>\n",
       "      <td>-1.43719</td>\n",
       "      <td>0.24923</td>\n",
       "      <td>-0.31685</td>\n",
       "      <td>1.23461</td>\n",
       "      <td>-0.69509</td>\n",
       "      <td>0.58331</td>\n",
       "      <td>0.28783</td>\n",
       "      <td>1.63088</td>\n",
       "      <td>-1.37983</td>\n",
       "      <td>-1.54858</td>\n",
       "    </tr>\n",
       "  </tbody>\n",
       "</table>\n",
       "<p>1257 rows × 12 columns</p>\n",
       "</div>"
      ],
      "text/plain": [
       "          Age   Gender  Education  Country  Ethnicity   Nscore   Escore  \\\n",
       "0    -0.07854  0.48246   -1.22751  0.96082   -0.31685 -0.14882 -0.15487   \n",
       "1     1.09449  0.48246    0.45468  0.96082   -0.31685 -1.32828 -0.15487   \n",
       "2    -0.95197  0.48246    0.45468 -0.57009   -0.31685 -0.58016  1.45421   \n",
       "3    -0.95197 -0.48246   -0.61113  0.24923   -0.31685  1.98437  0.00332   \n",
       "4     1.82213 -0.48246   -0.05921  0.96082   -0.31685  0.62967 -1.50796   \n",
       "...       ...      ...        ...      ...        ...      ...      ...   \n",
       "1252 -0.95197 -0.48246    0.45468 -0.57009   -0.31685  0.13606  0.63779   \n",
       "1253  1.09449 -0.48246   -0.61113 -0.57009   -0.31685  2.28554 -1.23177   \n",
       "1254 -0.95197  0.48246    1.16365  0.96082   -0.31685 -1.32828  1.28610   \n",
       "1255 -0.07854  0.48246   -0.05921  0.96082   -0.31685  0.04257  0.96248   \n",
       "1256  0.49788  0.48246   -1.43719  0.24923   -0.31685  1.23461 -0.69509   \n",
       "\n",
       "       Oscore   Ascore   Cscore  Impulsive       SS  \n",
       "0    -1.97495  0.59042  0.75830   -0.71126 -0.84637  \n",
       "1    -0.84732  0.13136  0.58489   -1.37983 -1.54858  \n",
       "2     0.88309 -0.01729  0.12331    0.88113  0.40148  \n",
       "3     2.15324 -0.45321 -0.65253    0.88113  0.76540  \n",
       "4    -1.55521  0.76096 -0.40581    0.19268 -0.21575  \n",
       "...       ...      ...      ...        ...      ...  \n",
       "1252 -0.01928 -1.34289 -0.00665    0.88113  0.76540  \n",
       "1253 -0.01928 -2.53830 -2.90161   -0.21712  1.22470  \n",
       "1254  0.29338  0.43852  0.58489   -0.21712  0.40148  \n",
       "1255 -1.27553  2.23427  2.04506   -1.37983 -2.07848  \n",
       "1256  0.58331  0.28783  1.63088   -1.37983 -1.54858  \n",
       "\n",
       "[1257 rows x 12 columns]"
      ]
     },
     "execution_count": 49,
     "metadata": {},
     "output_type": "execute_result"
    }
   ],
   "source": [
    "if dummy:\n",
    "    features = df.columns.tolist()[:11] + df.columns.tolist()[29:-1]\n",
    "    X = df[features]\n",
    "else:\n",
    "    X = df.iloc[:, :12]"
   ]
  },
  {
   "cell_type": "code",
   "execution_count": 50,
   "metadata": {},
   "outputs": [],
   "source": [
    "y = df.Alcohol_bin"
   ]
  },
  {
   "cell_type": "markdown",
   "metadata": {},
   "source": [
    "# Models\n",
    "- Naive Bayes\n",
    "- Decision Tree\n",
    "- Random Forests\n",
    "- KNN\n",
    "- Logreg\n",
    "- SVM\n",
    "- Assemble Methods (AdaBoost, XGBoost)"
   ]
  },
  {
   "cell_type": "markdown",
   "metadata": {},
   "source": [
    "# Naive Bayes - Baseline"
   ]
  },
  {
   "cell_type": "code",
   "execution_count": 10,
   "metadata": {},
   "outputs": [],
   "source": [
    "clf = GaussianNB()\n",
    "#clf.fit(X, y)"
   ]
  },
  {
   "cell_type": "code",
   "execution_count": 11,
   "metadata": {},
   "outputs": [
    {
     "name": "stdout",
     "output_type": "stream",
     "text": [
      "[0.65246573 0.63316509 0.64763187 0.63803663 0.64010735]\n"
     ]
    }
   ],
   "source": [
    "f1_score = cross_val_score(clf, X, y, scoring='f1_weighted')\n",
    "print(f1_score)"
   ]
  },
  {
   "cell_type": "code",
   "execution_count": 12,
   "metadata": {},
   "outputs": [],
   "source": [
    "y_pred_NB_alc = cross_val_predict(clf,X, y, cv=5)"
   ]
  },
  {
   "cell_type": "code",
   "execution_count": 13,
   "metadata": {},
   "outputs": [
    {
     "name": "stdout",
     "output_type": "stream",
     "text": [
      "              precision    recall  f1-score   support\n",
      "\n",
      "           0       0.74      0.98      0.85       932\n",
      "           1       0.38      0.03      0.06       325\n",
      "\n",
      "    accuracy                           0.74      1257\n",
      "   macro avg       0.56      0.51      0.45      1257\n",
      "weighted avg       0.65      0.74      0.64      1257\n",
      "\n",
      "[[916  16]\n",
      " [315  10]]\n"
     ]
    }
   ],
   "source": [
    "print(classification_report(y, y_pred_NB_alc))\n",
    "print(confusion_matrix(y, y_pred_NB_alc))"
   ]
  },
  {
   "cell_type": "markdown",
   "metadata": {},
   "source": [
    "# Oversampling using SMOTE"
   ]
  },
  {
   "cell_type": "code",
   "execution_count": 14,
   "metadata": {},
   "outputs": [
    {
     "data": {
      "text/plain": [
       "0    0.741448\n",
       "1    0.258552\n",
       "Name: Alcohol_bin, dtype: float64"
      ]
     },
     "execution_count": 14,
     "metadata": {},
     "output_type": "execute_result"
    }
   ],
   "source": [
    "df.Alcohol_bin.value_counts()/df.shape[0]"
   ]
  },
  {
   "cell_type": "code",
   "execution_count": 15,
   "metadata": {},
   "outputs": [
    {
     "data": {
      "text/plain": [
       "Counter({0: 932, 1: 325})"
      ]
     },
     "execution_count": 15,
     "metadata": {},
     "output_type": "execute_result"
    }
   ],
   "source": [
    "Counter(y)"
   ]
  },
  {
   "cell_type": "code",
   "execution_count": 16,
   "metadata": {},
   "outputs": [],
   "source": [
    "oversample = SMOTE()\n",
    "X_smote, y_smote = oversample.fit_resample(X, y)"
   ]
  },
  {
   "cell_type": "code",
   "execution_count": 17,
   "metadata": {},
   "outputs": [],
   "source": [
    "clf = GaussianNB()"
   ]
  },
  {
   "cell_type": "code",
   "execution_count": 18,
   "metadata": {},
   "outputs": [],
   "source": [
    "y_pred_NB_alc_smote = cross_val_predict(clf,X_smote, y_smote, cv=5)"
   ]
  },
  {
   "cell_type": "code",
   "execution_count": 19,
   "metadata": {},
   "outputs": [
    {
     "name": "stdout",
     "output_type": "stream",
     "text": [
      "              precision    recall  f1-score   support\n",
      "\n",
      "           0       0.65      0.36      0.46       932\n",
      "           1       0.56      0.80      0.66       932\n",
      "\n",
      "    accuracy                           0.58      1864\n",
      "   macro avg       0.60      0.58      0.56      1864\n",
      "weighted avg       0.60      0.58      0.56      1864\n",
      "\n",
      "[[338 594]\n",
      " [185 747]]\n"
     ]
    }
   ],
   "source": [
    "print(classification_report(y_smote, y_pred_NB_alc_smote))\n",
    "print(confusion_matrix(y_smote, y_pred_NB_alc_smote))"
   ]
  },
  {
   "cell_type": "markdown",
   "metadata": {},
   "source": [
    "# Decision Tree"
   ]
  },
  {
   "cell_type": "code",
   "execution_count": 20,
   "metadata": {},
   "outputs": [
    {
     "name": "stdout",
     "output_type": "stream",
     "text": [
      "              precision    recall  f1-score   support\n",
      "\n",
      "           0       0.74      0.71      0.72       932\n",
      "           1       0.72      0.75      0.73       932\n",
      "\n",
      "    accuracy                           0.73      1864\n",
      "   macro avg       0.73      0.73      0.73      1864\n",
      "weighted avg       0.73      0.73      0.73      1864\n",
      "\n"
     ]
    },
    {
     "data": {
      "image/png": "[encoded data removed]",
      "text/plain": [
       "<Figure size 432x288 with 2 Axes>"
      ]
     },
     "metadata": {
      "needs_background": "light"
     },
     "output_type": "display_data"
    }
   ],
   "source": [
    "dtree = DecisionTreeClassifier()\n",
    "y_pred_dt = cross_val_predict(dtree, X_smote, y_smote, cv=5)\n",
    "cm = confusion_matrix(y_smote, y_pred_dt)\n",
    "print(classification_report(y_smote, y_pred_dt))\n",
    "sns.heatmap(cm, annot=True,\n",
    "            cmap='Blues', fmt='.0f');"
   ]
  },
  {
   "cell_type": "markdown",
   "metadata": {},
   "source": [
    "# Random Forest"
   ]
  },
  {
   "cell_type": "code",
   "execution_count": 51,
   "metadata": {},
   "outputs": [
    {
     "name": "stdout",
     "output_type": "stream",
     "text": [
      "              precision    recall  f1-score   support\n",
      "\n",
      "           0       0.81      0.88      0.84       932\n",
      "           1       0.87      0.79      0.83       932\n",
      "\n",
      "    accuracy                           0.84      1864\n",
      "   macro avg       0.84      0.84      0.84      1864\n",
      "weighted avg       0.84      0.84      0.84      1864\n",
      "\n"
     ]
    },
    {
     "data": {
      "image/png": "[encoded data removed]",
      "text/plain": [
       "<Figure size 432x288 with 2 Axes>"
      ]
     },
     "metadata": {
      "needs_background": "light"
     },
     "output_type": "display_data"
    }
   ],
   "source": [
    "rnc = RandomForestClassifier(n_estimators = 200, random_state=10) #class_weight=\"balanced\")\n",
    "y_pred_rnc = cross_val_predict(rnc, X_smote, y_smote, cv=5)\n",
    "cm = confusion_matrix(y_smote, y_pred_rnc)\n",
    "print(classification_report(y_smote, y_pred_rnc))\n",
    "sns.heatmap(cm, annot=True,\n",
    "            cmap='Blues', fmt='.0f');"
   ]
  },
  {
   "cell_type": "code",
   "execution_count": 55,
   "metadata": {},
   "outputs": [],
   "source": [
    "parameters = { \n",
    "    'n_estimators': [200, 100, 500],\n",
    "    'max_features': ['auto', 'sqrt', 'log2'],\n",
    "    'max_depth' : [1,5,10,50],\n",
    "    'criterion' :['gini', 'entropy']\n",
    "}\n",
    "\n",
    "scorer = ['precision', 'recall', 'accuracy', 'f1', 'roc_auc']\n",
    "grid_rnc = GridSearchCV(rnc, parameters,scoring=scorer, refit='f1') \n",
    "grid_rnc.fit(X_smote,y_smote) \n",
    "best_rnc = grid_rnc.best_estimator_ \n",
    "best_scores = grid_rnc.cv_results_\n",
    "best_param = grid_rnc.best_estimator_"
   ]
  },
  {
   "cell_type": "markdown",
   "metadata": {},
   "source": [
    "# Logistische Regression"
   ]
  },
  {
   "cell_type": "code",
   "execution_count": 22,
   "metadata": {},
   "outputs": [
    {
     "name": "stdout",
     "output_type": "stream",
     "text": [
      "              precision    recall  f1-score   support\n",
      "\n",
      "           0       0.56      0.57      0.57       932\n",
      "           1       0.57      0.56      0.56       932\n",
      "\n",
      "    accuracy                           0.57      1864\n",
      "   macro avg       0.57      0.57      0.57      1864\n",
      "weighted avg       0.57      0.57      0.57      1864\n",
      "\n"
     ]
    },
    {
     "data": {
      "image/png": "[encoded data removed]",
      "text/plain": [
       "<Figure size 432x288 with 2 Axes>"
      ]
     },
     "metadata": {
      "needs_background": "light"
     },
     "output_type": "display_data"
    }
   ],
   "source": [
    "logreg = LogisticRegression(max_iter=1000, solver=\"liblinear\")\n",
    "y_pred_lr = cross_val_predict(logreg, X_smote, y_smote, cv=5)\n",
    "cm = confusion_matrix(y_smote, y_pred_lr)\n",
    "print(classification_report(y_smote, y_pred_lr))\n",
    "sns.heatmap(cm, annot=True,\n",
    "            cmap='Blues', fmt='.0f');"
   ]
  },
  {
   "cell_type": "markdown",
   "metadata": {},
   "source": [
    "#  KNN"
   ]
  },
  {
   "cell_type": "code",
   "execution_count": 23,
   "metadata": {},
   "outputs": [
    {
     "name": "stdout",
     "output_type": "stream",
     "text": [
      "              precision    recall  f1-score   support\n",
      "\n",
      "           0       0.86      0.76      0.81       932\n",
      "           1       0.78      0.87      0.83       932\n",
      "\n",
      "    accuracy                           0.82      1864\n",
      "   macro avg       0.82      0.82      0.82      1864\n",
      "weighted avg       0.82      0.82      0.82      1864\n",
      "\n"
     ]
    },
    {
     "data": {
      "image/png": "[encoded data removed]",
      "text/plain": [
       "<Figure size 432x288 with 2 Axes>"
      ]
     },
     "metadata": {
      "needs_background": "light"
     },
     "output_type": "display_data"
    }
   ],
   "source": [
    "knn = KNeighborsClassifier(n_neighbors=2)\n",
    "y_pred_knn = cross_val_predict(knn, X_smote, y_smote, cv=5)\n",
    "cm = confusion_matrix(y_smote, y_pred_knn)\n",
    "print(classification_report(y_smote, y_pred_knn))\n",
    "sns.heatmap(cm, annot=True,\n",
    "            cmap='Blues', fmt='.0f');"
   ]
  },
  {
   "cell_type": "markdown",
   "metadata": {},
   "source": [
    "# Support Vector Machines"
   ]
  },
  {
   "cell_type": "code",
   "execution_count": 24,
   "metadata": {},
   "outputs": [
    {
     "name": "stdout",
     "output_type": "stream",
     "text": [
      "              precision    recall  f1-score   support\n",
      "\n",
      "           0       0.74      0.61      0.67       932\n",
      "           1       0.67      0.78      0.72       932\n",
      "\n",
      "    accuracy                           0.69      1864\n",
      "   macro avg       0.70      0.69      0.69      1864\n",
      "weighted avg       0.70      0.69      0.69      1864\n",
      "\n"
     ]
    },
    {
     "data": {
      "image/png": "[encoded data removed]",
      "text/plain": [
       "<Figure size 432x288 with 2 Axes>"
      ]
     },
     "metadata": {
      "needs_background": "light"
     },
     "output_type": "display_data"
    }
   ],
   "source": [
    "sv = svm.SVC(kernel='rbf')\n",
    "y_pred_svm = cross_val_predict(sv, X_smote, y_smote, cv=5)\n",
    "cm = confusion_matrix(y_smote, y_pred_svm)\n",
    "print(classification_report(y_smote, y_pred_svm))\n",
    "sns.heatmap(cm, annot=True,\n",
    "            cmap='Blues', fmt='.0f');"
   ]
  },
  {
   "cell_type": "markdown",
   "metadata": {},
   "source": [
    "# AdaBoost, XGboost"
   ]
  },
  {
   "cell_type": "code",
   "execution_count": null,
   "metadata": {},
   "outputs": [],
   "source": [
    "parameters = {'n_estimators':[50, 120],                \n",
    "              'learning_rate':[0.1, 0.5, 1.]                            \n",
    "             } \n",
    "scorer = ['precision', 'recall', 'accuracy', 'f1', 'roc_auc']\n",
    "grid_ada = GridSearchCV(ada, parameters,scorer, refit='f1') \n",
    "grid_ada.fit(X,y) \n",
    "best_ada = grid_ada.best_estimator_ \n",
    "best_scores = grid_ada.cv_results_\n",
    "best_param = grid_ada.best_estimator_"
   ]
  },
  {
   "cell_type": "markdown",
   "metadata": {},
   "source": [
    "# Evaluation with test data"
   ]
  },
  {
   "cell_type": "code",
   "execution_count": 29,
   "metadata": {},
   "outputs": [],
   "source": [
    "test = pd.read_csv('../../data/processed/data_test_model.csv')"
   ]
  },
  {
   "cell_type": "code",
   "execution_count": 31,
   "metadata": {},
   "outputs": [],
   "source": [
    "if binary:\n",
    "    test['Alcohol_bin'] = [1 if alc >= 6 else 0 for alc in test.Alcohol.values]\n",
    "else:\n",
    "    alc_bins = []\n",
    "    for alc in test.Alcohol.values:\n",
    "        if alc == 6:\n",
    "            alc_bins.append('heavy drinker')\n",
    "        elif 3 < alc < 6:\n",
    "            alc_bins.append('moderate drinker')\n",
    "        else:\n",
    "            alc_bins.append('non drinker')\n",
    "    test['Alcohol_bin'] = alc_bins"
   ]
  },
  {
   "cell_type": "code",
   "execution_count": 60,
   "metadata": {},
   "outputs": [],
   "source": [
    "if dummy:\n",
    "    features = test.columns.tolist()[:11] + test.columns.tolist()[29:-1]\n",
    "    X_test = test[features]\n",
    "else:\n",
    "    X_test = test.iloc[:, :12]"
   ]
  },
  {
   "cell_type": "code",
   "execution_count": 34,
   "metadata": {},
   "outputs": [],
   "source": [
    "y_test = test.Alcohol_bin"
   ]
  },
  {
   "cell_type": "code",
   "execution_count": 58,
   "metadata": {},
   "outputs": [],
   "source": [
    "y_pred_rf_test = grid_rnc.best_estimator_.predict(X_test)"
   ]
  },
  {
   "cell_type": "code",
   "execution_count": 59,
   "metadata": {},
   "outputs": [
    {
     "name": "stdout",
     "output_type": "stream",
     "text": [
      "              precision    recall  f1-score   support\n",
      "\n",
      "           0       0.73      0.88      0.80       442\n",
      "           1       0.37      0.17      0.24       178\n",
      "\n",
      "    accuracy                           0.68       620\n",
      "   macro avg       0.55      0.53      0.52       620\n",
      "weighted avg       0.62      0.68      0.64       620\n",
      "\n"
     ]
    },
    {
     "data": {
      "image/png": "[encoded data removed]",
      "text/plain": [
       "<Figure size 432x288 with 2 Axes>"
      ]
     },
     "metadata": {
      "needs_background": "light"
     },
     "output_type": "display_data"
    }
   ],
   "source": [
    "cm = confusion_matrix(y_test, y_pred_rf_test)\n",
    "print(classification_report(y_test, y_pred_rf_test))\n",
    "sns.heatmap(cm, annot=True,\n",
    "            cmap='Blues', fmt='.0f');"
   ]
  },
  {
   "cell_type": "code",
   "execution_count": null,
   "metadata": {},
   "outputs": [],
   "source": []
  }
 ],
 "metadata": {
  "kernelspec": {
   "display_name": "Python [conda env:nf] *",
   "language": "python",
   "name": "conda-env-nf-py"
  },
  "language_info": {
   "codemirror_mode": {
    "name": "ipython",
    "version": 3
   },
   "file_extension": ".py",
   "mimetype": "text/x-python",
   "name": "python",
   "nbconvert_exporter": "python",
   "pygments_lexer": "ipython3",
   "version": "3.6.11"
  }
 },
 "nbformat": 4,
 "nbformat_minor": 4
}
