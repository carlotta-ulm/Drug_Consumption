{
 "cells": [
  {
   "cell_type": "code",
   "execution_count": 308,
   "metadata": {},
   "outputs": [],
   "source": [
    "import numpy as np\n",
    "import pandas as pd\n",
    "import matplotlib.pyplot as plt\n",
    "\n",
    "import seaborn as sns\n",
    "\n",
    "from collections import Counter\n",
    "\n",
    "from sklearn.tree import DecisionTreeClassifier\n",
    "from sklearn.svm import SVC\n",
    "from sklearn.ensemble import AdaBoostClassifier\n",
    "from sklearn.ensemble import RandomForestClassifier\n",
    "from sklearn.linear_model import LogisticRegression\n",
    "from sklearn.naive_bayes import GaussianNB\n",
    "from sklearn.neighbors import KNeighborsClassifier\n",
    "from sklearn import svm\n",
    "from sklearn.model_selection import train_test_split\n",
    "\n",
    "from sklearn.metrics import fbeta_score, make_scorer, precision_score, recall_score\n",
    "\n",
    "from sklearn.model_selection import cross_val_predict, cross_val_score\n",
    "from sklearn.model_selection import GridSearchCV\n",
    "\n",
    "from sklearn.model_selection import RandomizedSearchCV\n",
    "\n",
    "from sklearn.metrics import classification_report, confusion_matrix\n",
    "\n",
    "from imblearn.over_sampling import SMOTE"
   ]
  },
  {
   "cell_type": "code",
   "execution_count": 309,
   "metadata": {},
   "outputs": [],
   "source": [
    "pd.set_option(\"display.max_columns\", None)"
   ]
  },
  {
   "cell_type": "markdown",
   "metadata": {},
   "source": [
    "# Process Data and drop ID and Semer column"
   ]
  },
  {
   "cell_type": "code",
   "execution_count": 382,
   "metadata": {},
   "outputs": [],
   "source": [
    "data = pd.read_excel(\"../../data/raw/drug_consumption.xls\")"
   ]
  },
  {
   "cell_type": "code",
   "execution_count": 382,
   "metadata": {},
   "outputs": [],
   "source": [
    "drugs = data.columns[13:]\n",
    "for drug in drugs: \n",
    "    data[drug] = data[drug].str.replace('CL', '').astype('int')\n",
    "\n",
    "data.query('Semer == 0', inplace = True)\n",
    "\n",
    "data.drop('ID', axis=1, inplace=True)\n",
    "data.drop('Semer', axis=1, inplace=True)"
   ]
  },
  {
   "cell_type": "markdown",
   "metadata": {},
   "source": [
    "# Create Alcohol Labels and make the Split"
   ]
  },
  {
   "cell_type": "code",
   "execution_count": 383,
   "metadata": {},
   "outputs": [
    {
     "data": {
      "text/plain": [
       "0    1374\n",
       "1     503\n",
       "Name: Alcohol_bin, dtype: int64"
      ]
     },
     "execution_count": 383,
     "metadata": {},
     "output_type": "execute_result"
    }
   ],
   "source": [
    "binary = True\n",
    "\n",
    "if binary:\n",
    "    data['Alcohol_bin'] = [1 if alc >= 6 else 0 for alc in data.Alcohol.values]\n",
    "else:\n",
    "    alc_bins = []\n",
    "    for alc in data.Alcohol.values:\n",
    "        if alc == 6:\n",
    "            alc_bins.append('heavy drinker')\n",
    "        elif 3 < alc < 6:\n",
    "            alc_bins.append('moderate drinker')\n",
    "        else:\n",
    "            alc_bins.append('non drinker')\n",
    "    data['Alcohol_bin'] = alc_bins\n",
    "    \n",
    "data.Alcohol_bin.value_counts()"
   ]
  },
  {
   "cell_type": "code",
   "execution_count": 384,
   "metadata": {},
   "outputs": [],
   "source": [
    "dummy = False\n",
    "\n",
    "if dummy:\n",
    "    data = data.merge(pd.get_dummies(data.Education, drop_first=True, prefix=\"edu\"), \n",
    "                  left_index=True, right_index=True)\n",
    "    data.drop(\"Education\", axis=1, inplace=True)\n",
    "    \n",
    "    data = data.merge(pd.get_dummies(data.Country, drop_first=True, prefix=\"country\"), \n",
    "                  left_index=True, right_index=True)\n",
    "    data.drop(\"Country\", axis=1, inplace=True)  \n",
    "\n",
    "#df = df.merge(pd.get_dummies(df.Ethnicity, drop_first=True, prefix=\"ethn\"), \n",
    "#              left_index=True, right_index=True)\n",
    "#df.drop(\"Ethnicity\", axis=1, inplace=True)"
   ]
  },
  {
   "cell_type": "code",
   "execution_count": 385,
   "metadata": {},
   "outputs": [
    {
     "name": "stdout",
     "output_type": "stream",
     "text": [
      "0    0.731901\n",
      "1    0.268099\n",
      "Name: Alcohol_bin, dtype: float64\n",
      "0    0.732258\n",
      "1    0.267742\n",
      "Name: Alcohol_bin, dtype: float64\n"
     ]
    }
   ],
   "source": [
    "df, df_test = train_test_split(data, test_size=0.33, random_state=1, stratify=data.Alcohol_bin, shuffle=True)\n",
    "\n",
    "print(df.Alcohol_bin.value_counts()/df.shape[0])\n",
    "print(df_test.Alcohol_bin.value_counts()/df_test.shape[0])"
   ]
  },
  {
   "cell_type": "code",
   "execution_count": 386,
   "metadata": {},
   "outputs": [
    {
     "data": {
      "text/html": [
       "<div>\n",
       "<style scoped>\n",
       "    .dataframe tbody tr th:only-of-type {\n",
       "        vertical-align: middle;\n",
       "    }\n",
       "\n",
       "    .dataframe tbody tr th {\n",
       "        vertical-align: top;\n",
       "    }\n",
       "\n",
       "    .dataframe thead th {\n",
       "        text-align: right;\n",
       "    }\n",
       "</style>\n",
       "<table border=\"1\" class=\"dataframe\">\n",
       "  <thead>\n",
       "    <tr style=\"text-align: right;\">\n",
       "      <th></th>\n",
       "      <th>Age</th>\n",
       "      <th>Gender</th>\n",
       "      <th>Education</th>\n",
       "      <th>Country</th>\n",
       "      <th>Ethnicity</th>\n",
       "      <th>Nscore</th>\n",
       "      <th>Escore</th>\n",
       "      <th>Oscore</th>\n",
       "      <th>Ascore</th>\n",
       "      <th>Cscore</th>\n",
       "      <th>Impulsive</th>\n",
       "      <th>SS</th>\n",
       "    </tr>\n",
       "  </thead>\n",
       "  <tbody>\n",
       "    <tr>\n",
       "      <th>915</th>\n",
       "      <td>-0.07854</td>\n",
       "      <td>-0.48246</td>\n",
       "      <td>-1.73790</td>\n",
       "      <td>-0.57009</td>\n",
       "      <td>-0.31685</td>\n",
       "      <td>0.41667</td>\n",
       "      <td>-0.15487</td>\n",
       "      <td>-0.17779</td>\n",
       "      <td>-0.15487</td>\n",
       "      <td>-0.52745</td>\n",
       "      <td>0.19268</td>\n",
       "      <td>0.76540</td>\n",
       "    </tr>\n",
       "    <tr>\n",
       "      <th>675</th>\n",
       "      <td>-0.07854</td>\n",
       "      <td>-0.48246</td>\n",
       "      <td>0.45468</td>\n",
       "      <td>0.96082</td>\n",
       "      <td>-0.31685</td>\n",
       "      <td>0.52135</td>\n",
       "      <td>-0.30033</td>\n",
       "      <td>0.44585</td>\n",
       "      <td>-0.60633</td>\n",
       "      <td>-0.65253</td>\n",
       "      <td>-0.21712</td>\n",
       "      <td>-0.21575</td>\n",
       "    </tr>\n",
       "    <tr>\n",
       "      <th>1229</th>\n",
       "      <td>-0.95197</td>\n",
       "      <td>0.48246</td>\n",
       "      <td>-0.61113</td>\n",
       "      <td>-0.28519</td>\n",
       "      <td>-0.31685</td>\n",
       "      <td>1.60383</td>\n",
       "      <td>-0.43999</td>\n",
       "      <td>0.44585</td>\n",
       "      <td>0.59042</td>\n",
       "      <td>0.41594</td>\n",
       "      <td>0.19268</td>\n",
       "      <td>0.07987</td>\n",
       "    </tr>\n",
       "    <tr>\n",
       "      <th>1080</th>\n",
       "      <td>-0.95197</td>\n",
       "      <td>-0.48246</td>\n",
       "      <td>1.16365</td>\n",
       "      <td>0.96082</td>\n",
       "      <td>-0.31685</td>\n",
       "      <td>-0.24649</td>\n",
       "      <td>0.47617</td>\n",
       "      <td>-0.31776</td>\n",
       "      <td>0.28783</td>\n",
       "      <td>-0.52745</td>\n",
       "      <td>-0.21712</td>\n",
       "      <td>-0.21575</td>\n",
       "    </tr>\n",
       "    <tr>\n",
       "      <th>1815</th>\n",
       "      <td>-0.07854</td>\n",
       "      <td>0.48246</td>\n",
       "      <td>0.45468</td>\n",
       "      <td>-0.57009</td>\n",
       "      <td>-0.31685</td>\n",
       "      <td>0.13606</td>\n",
       "      <td>0.63779</td>\n",
       "      <td>0.58331</td>\n",
       "      <td>-0.60633</td>\n",
       "      <td>-0.14277</td>\n",
       "      <td>1.86203</td>\n",
       "      <td>0.76540</td>\n",
       "    </tr>\n",
       "    <tr>\n",
       "      <th>...</th>\n",
       "      <td>...</td>\n",
       "      <td>...</td>\n",
       "      <td>...</td>\n",
       "      <td>...</td>\n",
       "      <td>...</td>\n",
       "      <td>...</td>\n",
       "      <td>...</td>\n",
       "      <td>...</td>\n",
       "      <td>...</td>\n",
       "      <td>...</td>\n",
       "      <td>...</td>\n",
       "      <td>...</td>\n",
       "    </tr>\n",
       "    <tr>\n",
       "      <th>978</th>\n",
       "      <td>-0.95197</td>\n",
       "      <td>-0.48246</td>\n",
       "      <td>-0.61113</td>\n",
       "      <td>-0.28519</td>\n",
       "      <td>-0.31685</td>\n",
       "      <td>0.41667</td>\n",
       "      <td>-0.15487</td>\n",
       "      <td>0.14143</td>\n",
       "      <td>-0.76096</td>\n",
       "      <td>0.41594</td>\n",
       "      <td>-0.21712</td>\n",
       "      <td>0.07987</td>\n",
       "    </tr>\n",
       "    <tr>\n",
       "      <th>15</th>\n",
       "      <td>1.82213</td>\n",
       "      <td>-0.48246</td>\n",
       "      <td>0.45468</td>\n",
       "      <td>0.96082</td>\n",
       "      <td>-0.31685</td>\n",
       "      <td>-2.05048</td>\n",
       "      <td>-1.50796</td>\n",
       "      <td>-1.55521</td>\n",
       "      <td>-1.07533</td>\n",
       "      <td>1.13407</td>\n",
       "      <td>-0.71126</td>\n",
       "      <td>-0.52593</td>\n",
       "    </tr>\n",
       "    <tr>\n",
       "      <th>1036</th>\n",
       "      <td>-0.95197</td>\n",
       "      <td>0.48246</td>\n",
       "      <td>-0.61113</td>\n",
       "      <td>-0.57009</td>\n",
       "      <td>-0.31685</td>\n",
       "      <td>0.22393</td>\n",
       "      <td>-0.80615</td>\n",
       "      <td>0.72330</td>\n",
       "      <td>2.23427</td>\n",
       "      <td>1.13407</td>\n",
       "      <td>0.52975</td>\n",
       "      <td>1.22470</td>\n",
       "    </tr>\n",
       "    <tr>\n",
       "      <th>1</th>\n",
       "      <td>-0.07854</td>\n",
       "      <td>-0.48246</td>\n",
       "      <td>1.98437</td>\n",
       "      <td>0.96082</td>\n",
       "      <td>-0.31685</td>\n",
       "      <td>-0.67825</td>\n",
       "      <td>1.93886</td>\n",
       "      <td>1.43533</td>\n",
       "      <td>0.76096</td>\n",
       "      <td>-0.14277</td>\n",
       "      <td>-0.71126</td>\n",
       "      <td>-0.21575</td>\n",
       "    </tr>\n",
       "    <tr>\n",
       "      <th>1627</th>\n",
       "      <td>0.49788</td>\n",
       "      <td>0.48246</td>\n",
       "      <td>0.45468</td>\n",
       "      <td>0.96082</td>\n",
       "      <td>-0.31685</td>\n",
       "      <td>-0.14882</td>\n",
       "      <td>0.47617</td>\n",
       "      <td>0.88309</td>\n",
       "      <td>-1.07533</td>\n",
       "      <td>-1.01450</td>\n",
       "      <td>0.19268</td>\n",
       "      <td>0.40148</td>\n",
       "    </tr>\n",
       "  </tbody>\n",
       "</table>\n",
       "<p>1257 rows × 12 columns</p>\n",
       "</div>"
      ],
      "text/plain": [
       "          Age   Gender  Education  Country  Ethnicity   Nscore   Escore  \\\n",
       "915  -0.07854 -0.48246   -1.73790 -0.57009   -0.31685  0.41667 -0.15487   \n",
       "675  -0.07854 -0.48246    0.45468  0.96082   -0.31685  0.52135 -0.30033   \n",
       "1229 -0.95197  0.48246   -0.61113 -0.28519   -0.31685  1.60383 -0.43999   \n",
       "1080 -0.95197 -0.48246    1.16365  0.96082   -0.31685 -0.24649  0.47617   \n",
       "1815 -0.07854  0.48246    0.45468 -0.57009   -0.31685  0.13606  0.63779   \n",
       "...       ...      ...        ...      ...        ...      ...      ...   \n",
       "978  -0.95197 -0.48246   -0.61113 -0.28519   -0.31685  0.41667 -0.15487   \n",
       "15    1.82213 -0.48246    0.45468  0.96082   -0.31685 -2.05048 -1.50796   \n",
       "1036 -0.95197  0.48246   -0.61113 -0.57009   -0.31685  0.22393 -0.80615   \n",
       "1    -0.07854 -0.48246    1.98437  0.96082   -0.31685 -0.67825  1.93886   \n",
       "1627  0.49788  0.48246    0.45468  0.96082   -0.31685 -0.14882  0.47617   \n",
       "\n",
       "       Oscore   Ascore   Cscore  Impulsive       SS  \n",
       "915  -0.17779 -0.15487 -0.52745    0.19268  0.76540  \n",
       "675   0.44585 -0.60633 -0.65253   -0.21712 -0.21575  \n",
       "1229  0.44585  0.59042  0.41594    0.19268  0.07987  \n",
       "1080 -0.31776  0.28783 -0.52745   -0.21712 -0.21575  \n",
       "1815  0.58331 -0.60633 -0.14277    1.86203  0.76540  \n",
       "...       ...      ...      ...        ...      ...  \n",
       "978   0.14143 -0.76096  0.41594   -0.21712  0.07987  \n",
       "15   -1.55521 -1.07533  1.13407   -0.71126 -0.52593  \n",
       "1036  0.72330  2.23427  1.13407    0.52975  1.22470  \n",
       "1     1.43533  0.76096 -0.14277   -0.71126 -0.21575  \n",
       "1627  0.88309 -1.07533 -1.01450    0.19268  0.40148  \n",
       "\n",
       "[1257 rows x 12 columns]"
      ]
     },
     "execution_count": 386,
     "metadata": {},
     "output_type": "execute_result"
    }
   ],
   "source": [
    "if dummy:\n",
    "    features = df.columns.tolist()[:10] + df.columns.tolist()[29:]\n",
    "    X = df[features]\n",
    "else:\n",
    "    X = df.iloc[:, :12]"
   ]
  },
  {
   "cell_type": "code",
   "execution_count": 387,
   "metadata": {},
   "outputs": [],
   "source": [
    "y = df.Alcohol_bin"
   ]
  },
  {
   "cell_type": "code",
   "execution_count": 388,
   "metadata": {},
   "outputs": [
    {
     "data": {
      "text/html": [
       "<div>\n",
       "<style scoped>\n",
       "    .dataframe tbody tr th:only-of-type {\n",
       "        vertical-align: middle;\n",
       "    }\n",
       "\n",
       "    .dataframe tbody tr th {\n",
       "        vertical-align: top;\n",
       "    }\n",
       "\n",
       "    .dataframe thead th {\n",
       "        text-align: right;\n",
       "    }\n",
       "</style>\n",
       "<table border=\"1\" class=\"dataframe\">\n",
       "  <thead>\n",
       "    <tr style=\"text-align: right;\">\n",
       "      <th></th>\n",
       "      <th>Age</th>\n",
       "      <th>Gender</th>\n",
       "      <th>Education</th>\n",
       "      <th>Country</th>\n",
       "      <th>Ethnicity</th>\n",
       "      <th>Nscore</th>\n",
       "      <th>Escore</th>\n",
       "      <th>Oscore</th>\n",
       "      <th>Ascore</th>\n",
       "      <th>Cscore</th>\n",
       "      <th>Impulsive</th>\n",
       "      <th>SS</th>\n",
       "    </tr>\n",
       "  </thead>\n",
       "  <tbody>\n",
       "    <tr>\n",
       "      <th>0</th>\n",
       "      <td>-0.078540</td>\n",
       "      <td>-0.48246</td>\n",
       "      <td>-1.737900</td>\n",
       "      <td>-0.57009</td>\n",
       "      <td>-0.316850</td>\n",
       "      <td>0.416670</td>\n",
       "      <td>-0.154870</td>\n",
       "      <td>-0.177790</td>\n",
       "      <td>-0.154870</td>\n",
       "      <td>-0.527450</td>\n",
       "      <td>0.192680</td>\n",
       "      <td>0.765400</td>\n",
       "    </tr>\n",
       "    <tr>\n",
       "      <th>1</th>\n",
       "      <td>-0.078540</td>\n",
       "      <td>-0.48246</td>\n",
       "      <td>0.454680</td>\n",
       "      <td>0.96082</td>\n",
       "      <td>-0.316850</td>\n",
       "      <td>0.521350</td>\n",
       "      <td>-0.300330</td>\n",
       "      <td>0.445850</td>\n",
       "      <td>-0.606330</td>\n",
       "      <td>-0.652530</td>\n",
       "      <td>-0.217120</td>\n",
       "      <td>-0.215750</td>\n",
       "    </tr>\n",
       "    <tr>\n",
       "      <th>2</th>\n",
       "      <td>-0.951970</td>\n",
       "      <td>0.48246</td>\n",
       "      <td>-0.611130</td>\n",
       "      <td>-0.28519</td>\n",
       "      <td>-0.316850</td>\n",
       "      <td>1.603830</td>\n",
       "      <td>-0.439990</td>\n",
       "      <td>0.445850</td>\n",
       "      <td>0.590420</td>\n",
       "      <td>0.415940</td>\n",
       "      <td>0.192680</td>\n",
       "      <td>0.079870</td>\n",
       "    </tr>\n",
       "    <tr>\n",
       "      <th>3</th>\n",
       "      <td>-0.951970</td>\n",
       "      <td>-0.48246</td>\n",
       "      <td>1.163650</td>\n",
       "      <td>0.96082</td>\n",
       "      <td>-0.316850</td>\n",
       "      <td>-0.246490</td>\n",
       "      <td>0.476170</td>\n",
       "      <td>-0.317760</td>\n",
       "      <td>0.287830</td>\n",
       "      <td>-0.527450</td>\n",
       "      <td>-0.217120</td>\n",
       "      <td>-0.215750</td>\n",
       "    </tr>\n",
       "    <tr>\n",
       "      <th>4</th>\n",
       "      <td>-0.078540</td>\n",
       "      <td>0.48246</td>\n",
       "      <td>0.454680</td>\n",
       "      <td>-0.57009</td>\n",
       "      <td>-0.316850</td>\n",
       "      <td>0.136060</td>\n",
       "      <td>0.637790</td>\n",
       "      <td>0.583310</td>\n",
       "      <td>-0.606330</td>\n",
       "      <td>-0.142770</td>\n",
       "      <td>1.862030</td>\n",
       "      <td>0.765400</td>\n",
       "    </tr>\n",
       "    <tr>\n",
       "      <th>...</th>\n",
       "      <td>...</td>\n",
       "      <td>...</td>\n",
       "      <td>...</td>\n",
       "      <td>...</td>\n",
       "      <td>...</td>\n",
       "      <td>...</td>\n",
       "      <td>...</td>\n",
       "      <td>...</td>\n",
       "      <td>...</td>\n",
       "      <td>...</td>\n",
       "      <td>...</td>\n",
       "      <td>...</td>\n",
       "    </tr>\n",
       "    <tr>\n",
       "      <th>1835</th>\n",
       "      <td>-0.529840</td>\n",
       "      <td>-0.48246</td>\n",
       "      <td>-0.450436</td>\n",
       "      <td>0.96082</td>\n",
       "      <td>-0.316850</td>\n",
       "      <td>0.322687</td>\n",
       "      <td>-2.005553</td>\n",
       "      <td>-1.089939</td>\n",
       "      <td>-1.569162</td>\n",
       "      <td>-0.477644</td>\n",
       "      <td>1.458115</td>\n",
       "      <td>-0.129679</td>\n",
       "    </tr>\n",
       "    <tr>\n",
       "      <th>1836</th>\n",
       "      <td>-0.078540</td>\n",
       "      <td>-0.48246</td>\n",
       "      <td>1.163650</td>\n",
       "      <td>-0.46841</td>\n",
       "      <td>-0.316850</td>\n",
       "      <td>0.728333</td>\n",
       "      <td>-0.695090</td>\n",
       "      <td>0.141430</td>\n",
       "      <td>-0.984962</td>\n",
       "      <td>-0.276070</td>\n",
       "      <td>-0.465924</td>\n",
       "      <td>-0.066903</td>\n",
       "    </tr>\n",
       "    <tr>\n",
       "      <th>1837</th>\n",
       "      <td>2.565493</td>\n",
       "      <td>-0.48246</td>\n",
       "      <td>-0.041703</td>\n",
       "      <td>0.96082</td>\n",
       "      <td>-0.316850</td>\n",
       "      <td>-1.033123</td>\n",
       "      <td>-0.317562</td>\n",
       "      <td>0.288204</td>\n",
       "      <td>0.433386</td>\n",
       "      <td>0.764473</td>\n",
       "      <td>-0.256730</td>\n",
       "      <td>-0.548241</td>\n",
       "    </tr>\n",
       "    <tr>\n",
       "      <th>1838</th>\n",
       "      <td>1.029231</td>\n",
       "      <td>-0.48246</td>\n",
       "      <td>-1.705007</td>\n",
       "      <td>0.96082</td>\n",
       "      <td>-0.269679</td>\n",
       "      <td>0.428827</td>\n",
       "      <td>-0.734911</td>\n",
       "      <td>-1.170766</td>\n",
       "      <td>-1.350716</td>\n",
       "      <td>-0.652530</td>\n",
       "      <td>-1.252649</td>\n",
       "      <td>0.079870</td>\n",
       "    </tr>\n",
       "    <tr>\n",
       "      <th>1839</th>\n",
       "      <td>0.899423</td>\n",
       "      <td>0.48246</td>\n",
       "      <td>0.454680</td>\n",
       "      <td>0.96082</td>\n",
       "      <td>-0.316850</td>\n",
       "      <td>-0.386983</td>\n",
       "      <td>0.157923</td>\n",
       "      <td>-1.049202</td>\n",
       "      <td>0.144569</td>\n",
       "      <td>1.224683</td>\n",
       "      <td>-0.217120</td>\n",
       "      <td>-0.966711</td>\n",
       "    </tr>\n",
       "  </tbody>\n",
       "</table>\n",
       "<p>1840 rows × 12 columns</p>\n",
       "</div>"
      ],
      "text/plain": [
       "           Age   Gender  Education  Country  Ethnicity    Nscore    Escore  \\\n",
       "0    -0.078540 -0.48246  -1.737900 -0.57009  -0.316850  0.416670 -0.154870   \n",
       "1    -0.078540 -0.48246   0.454680  0.96082  -0.316850  0.521350 -0.300330   \n",
       "2    -0.951970  0.48246  -0.611130 -0.28519  -0.316850  1.603830 -0.439990   \n",
       "3    -0.951970 -0.48246   1.163650  0.96082  -0.316850 -0.246490  0.476170   \n",
       "4    -0.078540  0.48246   0.454680 -0.57009  -0.316850  0.136060  0.637790   \n",
       "...        ...      ...        ...      ...        ...       ...       ...   \n",
       "1835 -0.529840 -0.48246  -0.450436  0.96082  -0.316850  0.322687 -2.005553   \n",
       "1836 -0.078540 -0.48246   1.163650 -0.46841  -0.316850  0.728333 -0.695090   \n",
       "1837  2.565493 -0.48246  -0.041703  0.96082  -0.316850 -1.033123 -0.317562   \n",
       "1838  1.029231 -0.48246  -1.705007  0.96082  -0.269679  0.428827 -0.734911   \n",
       "1839  0.899423  0.48246   0.454680  0.96082  -0.316850 -0.386983  0.157923   \n",
       "\n",
       "        Oscore    Ascore    Cscore  Impulsive        SS  \n",
       "0    -0.177790 -0.154870 -0.527450   0.192680  0.765400  \n",
       "1     0.445850 -0.606330 -0.652530  -0.217120 -0.215750  \n",
       "2     0.445850  0.590420  0.415940   0.192680  0.079870  \n",
       "3    -0.317760  0.287830 -0.527450  -0.217120 -0.215750  \n",
       "4     0.583310 -0.606330 -0.142770   1.862030  0.765400  \n",
       "...        ...       ...       ...        ...       ...  \n",
       "1835 -1.089939 -1.569162 -0.477644   1.458115 -0.129679  \n",
       "1836  0.141430 -0.984962 -0.276070  -0.465924 -0.066903  \n",
       "1837  0.288204  0.433386  0.764473  -0.256730 -0.548241  \n",
       "1838 -1.170766 -1.350716 -0.652530  -1.252649  0.079870  \n",
       "1839 -1.049202  0.144569  1.224683  -0.217120 -0.966711  \n",
       "\n",
       "[1840 rows x 12 columns]"
      ]
     },
     "execution_count": 388,
     "metadata": {},
     "output_type": "execute_result"
    }
   ],
   "source": [
    "oversample = SMOTE(sampling_strategy='not majority', k_neighbors=5, random_state=1)\n",
    "X_smote, y_smote = oversample.fit_resample(X, y)"
   ]
  },
  {
   "cell_type": "markdown",
   "metadata": {},
   "source": [
    "# Random Forest"
   ]
  },
  {
   "cell_type": "code",
   "execution_count": 337,
   "metadata": {},
   "outputs": [
    {
     "name": "stdout",
     "output_type": "stream",
     "text": [
      "              precision    recall  f1-score   support\n",
      "\n",
      "           0       0.81      0.76      0.78       844\n",
      "           1       0.77      0.82      0.79       844\n",
      "\n",
      "    accuracy                           0.79      1688\n",
      "   macro avg       0.79      0.79      0.79      1688\n",
      "weighted avg       0.79      0.79      0.79      1688\n",
      "\n"
     ]
    },
    {
     "data": {
      "image/png": "[encoded data removed]",
      "text/plain": [
       "<Figure size 432x288 with 2 Axes>"
      ]
     },
     "metadata": {
      "needs_background": "light"
     },
     "output_type": "display_data"
    }
   ],
   "source": [
    "rnc = RandomForestClassifier(n_estimators = 200, random_state=10) #class_weight=\"balanced\")\n",
    "y_pred_rnc = cross_val_predict(rnc, X_smote, y_smote, cv=5)\n",
    "cm = confusion_matrix(y_smote, y_pred_rnc)\n",
    "print(classification_report(y_smote, y_pred_rnc))\n",
    "sns.heatmap(cm, annot=True,\n",
    "            cmap='Blues', fmt='.0f');"
   ]
  },
  {
   "cell_type": "code",
   "execution_count": 399,
   "metadata": {},
   "outputs": [],
   "source": [
    "rnc = RandomForestClassifier()\n",
    "\n",
    "parameters = { \n",
    "   # 'n_estimators': [200],\n",
    "   # 'random_state': [10]\n",
    "    'n_estimators': [200],\n",
    "    'max_features': ['sqrt'],\n",
    "    'max_depth' : [100],\n",
    "    'min_samples_leaf' : [10],\n",
    "    'criterion' :['gini']\n",
    "}\n",
    "\n",
    "scorer = {\n",
    "         'prec': 'precision', \n",
    "         'recall': 'recall',\n",
    "         'f1': 'f1',\n",
    "         # 'fbeta': make_scorer(fbeta_score, beta=1000, average = \"weighted\")\n",
    "         }\n",
    "\n",
    "grid_rnc = GridSearchCV(rnc, parameters, scoring=scorer, refit='f1', cv=2) \n",
    "grid_rnc.fit(X_smote,y_smote) \n",
    "best_rnc = grid_rnc.best_estimator_ \n",
    "best_scores = grid_rnc.cv_results_\n",
    "best_param = grid_rnc.best_estimator_"
   ]
  },
  {
   "cell_type": "code",
   "execution_count": 400,
   "metadata": {},
   "outputs": [
    {
     "data": {
      "text/plain": [
       "RandomForestClassifier(max_depth=100, max_features='sqrt', min_samples_leaf=10,\n",
       "                       n_estimators=200)"
      ]
     },
     "execution_count": 400,
     "metadata": {},
     "output_type": "execute_result"
    }
   ],
   "source": [
    "best_rnc"
   ]
  },
  {
   "cell_type": "code",
   "execution_count": 401,
   "metadata": {},
   "outputs": [
    {
     "name": "stdout",
     "output_type": "stream",
     "text": [
      "              precision    recall  f1-score   support\n",
      "\n",
      "           0       0.87      0.97      0.91       920\n",
      "           1       0.96      0.85      0.90       920\n",
      "\n",
      "    accuracy                           0.91      1840\n",
      "   macro avg       0.91      0.91      0.91      1840\n",
      "weighted avg       0.91      0.91      0.91      1840\n",
      "\n"
     ]
    }
   ],
   "source": [
    "y_pred_rnc_train = best_rnc.predict(X_smote)\n",
    "print(classification_report(y_smote, y_pred_rnc_train))"
   ]
  },
  {
   "cell_type": "code",
   "execution_count": 392,
   "metadata": {},
   "outputs": [
    {
     "data": {
      "text/html": [
       "<div>\n",
       "<style scoped>\n",
       "    .dataframe tbody tr th:only-of-type {\n",
       "        vertical-align: middle;\n",
       "    }\n",
       "\n",
       "    .dataframe tbody tr th {\n",
       "        vertical-align: top;\n",
       "    }\n",
       "\n",
       "    .dataframe thead th {\n",
       "        text-align: right;\n",
       "    }\n",
       "</style>\n",
       "<table border=\"1\" class=\"dataframe\">\n",
       "  <thead>\n",
       "    <tr style=\"text-align: right;\">\n",
       "      <th></th>\n",
       "      <th>feature</th>\n",
       "      <th>importance</th>\n",
       "    </tr>\n",
       "  </thead>\n",
       "  <tbody>\n",
       "    <tr>\n",
       "      <th>2</th>\n",
       "      <td>Education</td>\n",
       "      <td>0.127207</td>\n",
       "    </tr>\n",
       "    <tr>\n",
       "      <th>11</th>\n",
       "      <td>SS</td>\n",
       "      <td>0.125068</td>\n",
       "    </tr>\n",
       "    <tr>\n",
       "      <th>0</th>\n",
       "      <td>Age</td>\n",
       "      <td>0.099768</td>\n",
       "    </tr>\n",
       "    <tr>\n",
       "      <th>10</th>\n",
       "      <td>Impulsive</td>\n",
       "      <td>0.095725</td>\n",
       "    </tr>\n",
       "    <tr>\n",
       "      <th>7</th>\n",
       "      <td>Oscore</td>\n",
       "      <td>0.089347</td>\n",
       "    </tr>\n",
       "    <tr>\n",
       "      <th>8</th>\n",
       "      <td>Ascore</td>\n",
       "      <td>0.088203</td>\n",
       "    </tr>\n",
       "    <tr>\n",
       "      <th>5</th>\n",
       "      <td>Nscore</td>\n",
       "      <td>0.087645</td>\n",
       "    </tr>\n",
       "    <tr>\n",
       "      <th>6</th>\n",
       "      <td>Escore</td>\n",
       "      <td>0.085762</td>\n",
       "    </tr>\n",
       "    <tr>\n",
       "      <th>9</th>\n",
       "      <td>Cscore</td>\n",
       "      <td>0.080670</td>\n",
       "    </tr>\n",
       "    <tr>\n",
       "      <th>1</th>\n",
       "      <td>Gender</td>\n",
       "      <td>0.071360</td>\n",
       "    </tr>\n",
       "  </tbody>\n",
       "</table>\n",
       "</div>"
      ],
      "text/plain": [
       "      feature  importance\n",
       "2   Education    0.127207\n",
       "11         SS    0.125068\n",
       "0         Age    0.099768\n",
       "10  Impulsive    0.095725\n",
       "7      Oscore    0.089347\n",
       "8      Ascore    0.088203\n",
       "5      Nscore    0.087645\n",
       "6      Escore    0.085762\n",
       "9      Cscore    0.080670\n",
       "1      Gender    0.071360"
      ]
     },
     "execution_count": 392,
     "metadata": {},
     "output_type": "execute_result"
    }
   ],
   "source": [
    "features = list(X.columns)\n",
    "\n",
    "fi_rf = pd.DataFrame({'feature': features,\n",
    "                   'importance': grid_rnc.best_estimator_.feature_importances_}).\\\n",
    "                    sort_values('importance', ascending = False)\n",
    "fi_rf.head(10)"
   ]
  },
  {
   "cell_type": "markdown",
   "metadata": {},
   "source": [
    "#  KNN"
   ]
  },
  {
   "cell_type": "code",
   "execution_count": 67,
   "metadata": {},
   "outputs": [
    {
     "name": "stdout",
     "output_type": "stream",
     "text": [
      "              precision    recall  f1-score   support\n",
      "\n",
      "           0       0.64      0.83      0.72       844\n",
      "           1       0.76      0.53      0.62       844\n",
      "\n",
      "    accuracy                           0.68      1688\n",
      "   macro avg       0.70      0.68      0.67      1688\n",
      "weighted avg       0.70      0.68      0.67      1688\n",
      "\n"
     ]
    },
    {
     "data": {
      "image/png": "[encoded data removed]",
      "text/plain": [
       "<Figure size 432x288 with 2 Axes>"
      ]
     },
     "metadata": {
      "needs_background": "light"
     },
     "output_type": "display_data"
    }
   ],
   "source": [
    "knn = KNeighborsClassifier()\n",
    "y_pred_knn = cross_val_predict(knn, X_smote, y_smote, cv=5)\n",
    "cm = confusion_matrix(y_smote, y_pred_knn)\n",
    "print(classification_report(y_smote, y_pred_knn))\n",
    "sns.heatmap(cm, annot=True,\n",
    "            cmap='Blues', fmt='.0f');"
   ]
  },
  {
   "cell_type": "code",
   "execution_count": 346,
   "metadata": {},
   "outputs": [],
   "source": [
    "parameters = {'n_neighbors': [5],     #np.arange(3,20,1), \n",
    "              'weights': ['uniform', 'distance'], \n",
    "          #    'algorithm ': 'auto', \n",
    "              'leaf_size': np.arange( 50, 100, 5), \n",
    "              'p': [2, 1],\n",
    "              'metric': ['minkowski'], \n",
    "              'n_jobs': [-1]\n",
    "}\n",
    "\n",
    "scorer = {'prec': 'precision', \n",
    "          'recall': 'recall', \n",
    "         # 'fbeta': make_scorer(fbeta_score, beta=1, average = \"weighted\")\n",
    "          'f1': 'f1'\n",
    "         }\n",
    "\n",
    "grid_knn = GridSearchCV(knn, parameters, scoring=scorer, refit='f1') \n",
    "grid_knn.fit(X_smote,y_smote) \n",
    "best_knn = grid_knn.best_estimator_ \n",
    "best_scores = grid_knn.cv_results_\n",
    "best_param = grid_knn.best_estimator_"
   ]
  },
  {
   "cell_type": "code",
   "execution_count": 347,
   "metadata": {},
   "outputs": [
    {
     "data": {
      "text/plain": [
       "KNeighborsClassifier(leaf_size=50, n_jobs=-1, p=1, weights='distance')"
      ]
     },
     "execution_count": 347,
     "metadata": {},
     "output_type": "execute_result"
    }
   ],
   "source": [
    "best_knn"
   ]
  },
  {
   "cell_type": "code",
   "execution_count": 348,
   "metadata": {},
   "outputs": [
    {
     "name": "stdout",
     "output_type": "stream",
     "text": [
      "              precision    recall  f1-score   support\n",
      "\n",
      "           0       1.00      1.00      1.00       844\n",
      "           1       1.00      1.00      1.00       844\n",
      "\n",
      "    accuracy                           1.00      1688\n",
      "   macro avg       1.00      1.00      1.00      1688\n",
      "weighted avg       1.00      1.00      1.00      1688\n",
      "\n"
     ]
    }
   ],
   "source": [
    "y_pred_knn_train = best_knn.predict(X_smote)\n",
    "print(classification_report(y_smote, y_pred_knn_train))"
   ]
  },
  {
   "cell_type": "markdown",
   "metadata": {},
   "source": [
    "# AdaBoost"
   ]
  },
  {
   "cell_type": "code",
   "execution_count": 288,
   "metadata": {},
   "outputs": [],
   "source": [
    "ada = AdaBoostClassifier()\n",
    "\n",
    "parameters = {'n_estimators': np.arange(50, 120, 5),                \n",
    "              'learning_rate': [0.1, 0.5, 1, 2, 5]                           \n",
    "             } \n",
    "scorer = {'prec': 'precision', \n",
    "          'recall': 'recall', \n",
    "          'fbeta': make_scorer(fbeta_score, beta=1000, average = \"weighted\")}\n",
    "\n",
    "grid_ada = GridSearchCV(ada, parameters,scoring='roc_auc')#, refit='fbeta') \n",
    "grid_ada.fit(X_smote,y_smote) \n",
    "best_ada = grid_ada.best_estimator_ \n",
    "best_scores = grid_ada.cv_results_\n",
    "best_param = grid_ada.best_estimator_"
   ]
  },
  {
   "cell_type": "code",
   "execution_count": 132,
   "metadata": {},
   "outputs": [
    {
     "data": {
      "text/plain": [
       "AdaBoostClassifier(learning_rate=1, n_estimators=115)"
      ]
     },
     "execution_count": 132,
     "metadata": {},
     "output_type": "execute_result"
    }
   ],
   "source": [
    "best_ada"
   ]
  },
  {
   "cell_type": "code",
   "execution_count": 133,
   "metadata": {},
   "outputs": [
    {
     "name": "stdout",
     "output_type": "stream",
     "text": [
      "              precision    recall  f1-score   support\n",
      "\n",
      "           0       0.76      0.74      0.75       844\n",
      "           1       0.75      0.77      0.76       844\n",
      "\n",
      "    accuracy                           0.75      1688\n",
      "   macro avg       0.75      0.75      0.75      1688\n",
      "weighted avg       0.75      0.75      0.75      1688\n",
      "\n"
     ]
    }
   ],
   "source": [
    "y_pred_ada_train = best_ada.predict(X_smote)\n",
    "print(classification_report(y_smote, y_pred_ada_train))"
   ]
  },
  {
   "cell_type": "markdown",
   "metadata": {},
   "source": [
    "# XG Boost"
   ]
  },
  {
   "cell_type": "markdown",
   "metadata": {},
   "source": [
    "# Evaluation"
   ]
  },
  {
   "cell_type": "code",
   "execution_count": 393,
   "metadata": {},
   "outputs": [],
   "source": [
    "#test = pd.read_csv('../../data/processed/data_test_model.csv')\n",
    "\n",
    "if dummy:\n",
    "    features = df_test.columns.tolist()[:10] + df_test.columns.tolist()[29:]\n",
    "    X_test = df_test[features]\n",
    "else:\n",
    "    X_test = df_test.iloc[:, :12]\n",
    "    \n",
    "#X_test.drop(\"SS\", axis=1, inplace=True)"
   ]
  },
  {
   "cell_type": "code",
   "execution_count": 394,
   "metadata": {},
   "outputs": [],
   "source": [
    "y_test = df_test.Alcohol_bin"
   ]
  },
  {
   "cell_type": "code",
   "execution_count": 395,
   "metadata": {},
   "outputs": [],
   "source": [
    "#oversample = SMOTE(sampling_strategy='not majority', k_neighbors=5, random_state=1)\n",
    "#X_test, y_test = oversample.fit_resample(X_test, y_test)"
   ]
  },
  {
   "cell_type": "code",
   "execution_count": 402,
   "metadata": {},
   "outputs": [],
   "source": [
    "y_pred_rf_test = grid_rnc.best_estimator_.predict(X_test)"
   ]
  },
  {
   "cell_type": "code",
   "execution_count": 403,
   "metadata": {},
   "outputs": [
    {
     "name": "stdout",
     "output_type": "stream",
     "text": [
      "              precision    recall  f1-score   support\n",
      "\n",
      "           0       0.75      0.85      0.80       454\n",
      "           1       0.35      0.21      0.26       166\n",
      "\n",
      "    accuracy                           0.68       620\n",
      "   macro avg       0.55      0.53      0.53       620\n",
      "weighted avg       0.64      0.68      0.65       620\n",
      "\n"
     ]
    },
    {
     "data": {
      "image/png": "[encoded data removed]",
      "text/plain": [
       "<Figure size 432x288 with 2 Axes>"
      ]
     },
     "metadata": {
      "needs_background": "light"
     },
     "output_type": "display_data"
    }
   ],
   "source": [
    "cm = confusion_matrix(y_test, y_pred_rf_test)\n",
    "print(classification_report(y_test, y_pred_rf_test))\n",
    "sns.heatmap(cm, annot=True,\n",
    "            cmap='Blues', fmt='.0f');"
   ]
  },
  {
   "cell_type": "code",
   "execution_count": 361,
   "metadata": {},
   "outputs": [],
   "source": [
    "from sklearn.metrics import plot_precision_recall_curve"
   ]
  },
  {
   "cell_type": "code",
   "execution_count": 371,
   "metadata": {},
   "outputs": [
    {
     "data": {
      "text/plain": [
       "<Figure size 720x720 with 0 Axes>"
      ]
     },
     "metadata": {},
     "output_type": "display_data"
    },
    {
     "data": {
      "image/png": "[encoded data removed]",
      "text/plain": [
       "<Figure size 432x288 with 1 Axes>"
      ]
     },
     "metadata": {
      "needs_background": "light"
     },
     "output_type": "display_data"
    }
   ],
   "source": [
    "fig = plt.figure(figsize=(10,10))\n",
    "disp = plot_precision_recall_curve(grid_rnc.best_estimator_, X_test, y_test)\n",
    "#plt.xlim((0.2, 1))\n",
    "plt.xticks(fontsize=13)\n",
    "plt.yticks(fontsize=13)\n",
    "plt.xlabel('Recall', fontsize=13)\n",
    "plt.ylabel('Precision', fontsize=13);"
   ]
  },
  {
   "cell_type": "code",
   "execution_count": 381,
   "metadata": {},
   "outputs": [
    {
     "data": {
      "text/html": [
       "<div>\n",
       "<style scoped>\n",
       "    .dataframe tbody tr th:only-of-type {\n",
       "        vertical-align: middle;\n",
       "    }\n",
       "\n",
       "    .dataframe tbody tr th {\n",
       "        vertical-align: top;\n",
       "    }\n",
       "\n",
       "    .dataframe thead th {\n",
       "        text-align: right;\n",
       "    }\n",
       "</style>\n",
       "<table border=\"1\" class=\"dataframe\">\n",
       "  <thead>\n",
       "    <tr style=\"text-align: right;\">\n",
       "      <th></th>\n",
       "      <th>feature</th>\n",
       "      <th>importance</th>\n",
       "    </tr>\n",
       "  </thead>\n",
       "  <tbody>\n",
       "    <tr>\n",
       "      <th>2</th>\n",
       "      <td>Education</td>\n",
       "      <td>0.170616</td>\n",
       "    </tr>\n",
       "    <tr>\n",
       "      <th>6</th>\n",
       "      <td>Escore</td>\n",
       "      <td>0.126103</td>\n",
       "    </tr>\n",
       "    <tr>\n",
       "      <th>11</th>\n",
       "      <td>SS</td>\n",
       "      <td>0.106070</td>\n",
       "    </tr>\n",
       "    <tr>\n",
       "      <th>5</th>\n",
       "      <td>Nscore</td>\n",
       "      <td>0.090500</td>\n",
       "    </tr>\n",
       "    <tr>\n",
       "      <th>9</th>\n",
       "      <td>Cscore</td>\n",
       "      <td>0.088550</td>\n",
       "    </tr>\n",
       "  </tbody>\n",
       "</table>\n",
       "</div>"
      ],
      "text/plain": [
       "      feature  importance\n",
       "2   Education    0.170616\n",
       "6      Escore    0.126103\n",
       "11         SS    0.106070\n",
       "5      Nscore    0.090500\n",
       "9      Cscore    0.088550"
      ]
     },
     "execution_count": 381,
     "metadata": {},
     "output_type": "execute_result"
    }
   ],
   "source": [
    "features = list(X.columns)\n",
    "\n",
    "fi_rf = pd.DataFrame({'feature': features,\n",
    "                   'importance': grid_rnc.best_estimator_.feature_importances_}).\\\n",
    "                    sort_values('importance', ascending = False)\n",
    "fi_rf.head(5)"
   ]
  },
  {
   "cell_type": "code",
   "execution_count": null,
   "metadata": {},
   "outputs": [],
   "source": []
  }
 ],
 "metadata": {
  "kernelspec": {
   "display_name": "Python [conda env:nf] *",
   "language": "python",
   "name": "conda-env-nf-py"
  },
  "language_info": {
   "codemirror_mode": {
    "name": "ipython",
    "version": 3
   },
   "file_extension": ".py",
   "mimetype": "text/x-python",
   "name": "python",
   "nbconvert_exporter": "python",
   "pygments_lexer": "ipython3",
   "version": "3.6.11"
  }
 },
 "nbformat": 4,
 "nbformat_minor": 4
}
