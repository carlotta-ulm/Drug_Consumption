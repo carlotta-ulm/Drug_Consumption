{
 "cells": [
  {
   "cell_type": "markdown",
   "metadata": {},
   "source": [
    "# Modelling Nicotine"
   ]
  },
  {
   "cell_type": "code",
   "execution_count": 12,
   "metadata": {},
   "outputs": [],
   "source": [
    "import numpy as np\n",
    "import pandas as pd\n",
    "\n",
    "import seaborn as sns\n",
    "import matplotlib.pyplot as plt\n",
    "\n",
    "from sklearn.metrics import f1_score\n",
    "from sklearn.metrics import precision_score\n",
    "from sklearn.metrics import recall_score\n",
    "\n",
    "from sklearn.model_selection import cross_val_predict, cross_val_score, cross_validate\n",
    "from sklearn.metrics import classification_report \n",
    "from sklearn.metrics import confusion_matrix\n",
    "\n",
    "from sklearn.model_selection import GridSearchCV\n",
    "\n",
    "pd.set_option(\"display.max_columns\", None)"
   ]
  },
  {
   "cell_type": "code",
   "execution_count": 13,
   "metadata": {},
   "outputs": [],
   "source": [
    "data = pd.read_excel(\"../../data/raw/drug_consumption.xls\")"
   ]
  },
  {
   "cell_type": "markdown",
   "metadata": {},
   "source": [
    "## Process Data\n",
    "* Change the prefix in the values of the Drug columns and convert them into interger\n",
    "* Drop the rows that contain the fictiuos drug (Semer)\n",
    "* Drop unnecessary columns (ID and Semer)"
   ]
  },
  {
   "cell_type": "code",
   "execution_count": 14,
   "metadata": {},
   "outputs": [],
   "source": [
    "drugs = data.columns[13:]\n",
    "for drug in drugs: \n",
    "    data[drug] = data[drug].str.replace('CL', '').astype('int')\n",
    "    \n",
    "data.query('Semer == 0', inplace = True)\n",
    "\n",
    "data.drop('ID', axis=1, inplace=True)\n",
    "data.drop('Semer', axis=1, inplace=True)"
   ]
  },
  {
   "cell_type": "markdown",
   "metadata": {},
   "source": [
    "## Categorize Nicotine\n",
    "* In this case the threshold, as of when somebody is classified as a Nicotine 'user' is if the individual used Nicotine in the last year or more recently\n",
    "* A new colums is created which contains Nicotine as user and non user"
   ]
  },
  {
   "cell_type": "code",
   "execution_count": 25,
   "metadata": {},
   "outputs": [
    {
     "data": {
      "text/plain": [
       "1    1053\n",
       "0     824\n",
       "Name: Nicotine_bin, dtype: int64"
      ]
     },
     "execution_count": 25,
     "metadata": {},
     "output_type": "execute_result"
    }
   ],
   "source": [
    "data['Nicotine_bin'] = [1 if nic > 2 else 0 for nic in data.Nicotine.values]\n",
    "data.Nicotine_bin.value_counts()"
   ]
  },
  {
   "cell_type": "markdown",
   "metadata": {},
   "source": [
    "## Train Test Split"
   ]
  },
  {
   "cell_type": "code",
   "execution_count": 26,
   "metadata": {},
   "outputs": [],
   "source": [
    "from sklearn.model_selection import train_test_split\n",
    "\n",
    "df, df_test = train_test_split(data, test_size=0.33, random_state=1, stratify=data['Nicotine_bin'])"
   ]
  },
  {
   "cell_type": "markdown",
   "metadata": {},
   "source": [
    "## Define X and Y"
   ]
  },
  {
   "cell_type": "code",
   "execution_count": 27,
   "metadata": {},
   "outputs": [],
   "source": [
    "X = df.iloc[:,:12]\n",
    "y = df['Nicotine_bin']\n",
    "features = list(X.columns)"
   ]
  },
  {
   "cell_type": "markdown",
   "metadata": {},
   "source": [
    "Ratio of user and non-user:"
   ]
  },
  {
   "cell_type": "code",
   "execution_count": 28,
   "metadata": {},
   "outputs": [
    {
     "data": {
      "text/plain": [
       "1    0.560859\n",
       "0    0.439141\n",
       "Name: Nicotine_bin, dtype: float64"
      ]
     },
     "execution_count": 28,
     "metadata": {},
     "output_type": "execute_result"
    }
   ],
   "source": [
    "df.Nicotine_bin.value_counts()/df.shape[0]"
   ]
  },
  {
   "cell_type": "markdown",
   "metadata": {},
   "source": [
    "## Create Baseline Model - Bayes\n",
    "To be able to compare the progress of other models. <br>\n",
    "Here a simple Naive Bayes Model was choosen as the baseline model"
   ]
  },
  {
   "cell_type": "code",
   "execution_count": 29,
   "metadata": {},
   "outputs": [
    {
     "name": "stdout",
     "output_type": "stream",
     "text": [
      "              precision    recall  f1-score   support\n",
      "\n",
      "           0       0.65      0.70      0.67       552\n",
      "           1       0.75      0.70      0.73       705\n",
      "\n",
      "    accuracy                           0.70      1257\n",
      "   macro avg       0.70      0.70      0.70      1257\n",
      "weighted avg       0.71      0.70      0.70      1257\n",
      "\n"
     ]
    },
    {
     "data": {
      "image/png": "[encoded data removed]",
      "text/plain": [
       "<Figure size 432x288 with 2 Axes>"
      ]
     },
     "metadata": {
      "needs_background": "light"
     },
     "output_type": "display_data"
    }
   ],
   "source": [
    "from sklearn.naive_bayes import GaussianNB\n",
    "\n",
    "gnb = GaussianNB()\n",
    "y_pred = cross_val_predict(gnb, X, y, cv=5)\n",
    "cm = confusion_matrix(y, y_pred)\n",
    "print(classification_report(y, y_pred))\n",
    "sns.heatmap(cm, annot=True, \n",
    "            cmap='Blues', fmt='.0f');"
   ]
  },
  {
   "cell_type": "markdown",
   "metadata": {},
   "source": [
    "## SMOTE\n",
    "To be able to handel imbalanced data the data was oversampled with SMOTE."
   ]
  },
  {
   "cell_type": "code",
   "execution_count": 30,
   "metadata": {},
   "outputs": [],
   "source": [
    "from imblearn.over_sampling import SMOTE\n",
    "oversample = SMOTE()\n",
    "X_smote, y_smote = oversample.fit_resample(X, y)"
   ]
  },
  {
   "cell_type": "markdown",
   "metadata": {},
   "source": [
    "# Models\n",
    "First some 'simpler' models were trained. \n",
    "* Decision Tree\n",
    "* Random Forest\n",
    "* SVM"
   ]
  },
  {
   "cell_type": "markdown",
   "metadata": {},
   "source": [
    "### Decision Tree"
   ]
  },
  {
   "cell_type": "code",
   "execution_count": 31,
   "metadata": {},
   "outputs": [
    {
     "name": "stdout",
     "output_type": "stream",
     "text": [
      "              precision    recall  f1-score   support\n",
      "\n",
      "           0       0.70      0.64      0.67       705\n",
      "           1       0.67      0.72      0.69       705\n",
      "\n",
      "    accuracy                           0.68      1410\n",
      "   macro avg       0.68      0.68      0.68      1410\n",
      "weighted avg       0.68      0.68      0.68      1410\n",
      "\n"
     ]
    },
    {
     "data": {
      "image/png": "[encoded data removed]",
      "text/plain": [
       "<Figure size 432x288 with 2 Axes>"
      ]
     },
     "metadata": {
      "needs_background": "light"
     },
     "output_type": "display_data"
    }
   ],
   "source": [
    "from sklearn.tree import DecisionTreeClassifier\n",
    "\n",
    "dtree = DecisionTreeClassifier(max_depth=5)\n",
    "\n",
    "y_pred = cross_val_predict(dtree, X_smote, y_smote, cv=5)\n",
    "cm = confusion_matrix(y_smote, y_pred)\n",
    "print(classification_report(y_smote, y_pred))\n",
    "sns.heatmap(cm, annot=True, \n",
    "            cmap='Blues', fmt='.0f');"
   ]
  },
  {
   "cell_type": "markdown",
   "metadata": {},
   "source": [
    "### Random Forest"
   ]
  },
  {
   "cell_type": "code",
   "execution_count": 32,
   "metadata": {},
   "outputs": [
    {
     "name": "stdout",
     "output_type": "stream",
     "text": [
      "              precision    recall  f1-score   support\n",
      "\n",
      "           0       0.75      0.74      0.75       705\n",
      "           1       0.74      0.75      0.75       705\n",
      "\n",
      "    accuracy                           0.75      1410\n",
      "   macro avg       0.75      0.75      0.75      1410\n",
      "weighted avg       0.75      0.75      0.75      1410\n",
      "\n",
      "[[522 183]\n",
      " [173 532]]\n"
     ]
    }
   ],
   "source": [
    "from sklearn.ensemble import RandomForestClassifier\n",
    "\n",
    "rnc = RandomForestClassifier(random_state=10)\n",
    "\n",
    "y_pred = cross_val_predict(rnc, X_smote, y_smote, cv=5)\n",
    "rnc.fit(X_smote,y_smote) \n",
    "cm = confusion_matrix(y_smote, y_pred)\n",
    "print(classification_report(y_smote, y_pred))\n",
    "sns.heatmap(cm, annot=True, \n",
    "            cmap='Blues', fmt='.0f');"
   ]
  },
  {
   "cell_type": "markdown",
   "metadata": {},
   "source": [
    "### SVM"
   ]
  },
  {
   "cell_type": "code",
   "execution_count": 33,
   "metadata": {},
   "outputs": [
    {
     "name": "stdout",
     "output_type": "stream",
     "text": [
      "              precision    recall  f1-score   support\n",
      "\n",
      "           0       0.72      0.72      0.72       705\n",
      "           1       0.72      0.72      0.72       705\n",
      "\n",
      "    accuracy                           0.72      1410\n",
      "   macro avg       0.72      0.72      0.72      1410\n",
      "weighted avg       0.72      0.72      0.72      1410\n",
      "\n",
      "[[511 194]\n",
      " [196 509]]\n"
     ]
    }
   ],
   "source": [
    "from sklearn import svm\n",
    "\n",
    "svm = svm.SVC(kernel='rbf')\n",
    "\n",
    "y_pred = cross_val_predict(svm, X_smote, y_smote, cv=5)\n",
    "cm = confusion_matrix(y_smote, y_pred)\n",
    "print(classification_report(y_smote, y_pred))\n",
    "sns.heatmap(cm, annot=True, \n",
    "            cmap='Blues', fmt='.0f');"
   ]
  },
  {
   "cell_type": "markdown",
   "metadata": {},
   "source": [
    "# Ensemble Methods\n",
    "* Adaboost\n",
    "* XGboost"
   ]
  },
  {
   "cell_type": "markdown",
   "metadata": {},
   "source": [
    "### Adaboost"
   ]
  },
  {
   "cell_type": "code",
   "execution_count": 34,
   "metadata": {},
   "outputs": [
    {
     "name": "stdout",
     "output_type": "stream",
     "text": [
      "              precision    recall  f1-score   support\n",
      "\n",
      "           0       0.70      0.71      0.70       705\n",
      "           1       0.70      0.70      0.70       705\n",
      "\n",
      "    accuracy                           0.70      1410\n",
      "   macro avg       0.70      0.70      0.70      1410\n",
      "weighted avg       0.70      0.70      0.70      1410\n",
      "\n",
      "[[498 207]\n",
      " [213 492]]\n"
     ]
    }
   ],
   "source": [
    "from sklearn.ensemble import AdaBoostClassifier\n",
    "\n",
    "ada = AdaBoostClassifier(random_state = 101)\n",
    "\n",
    "y_pred = cross_val_predict(ada, X_smote, y_smote, cv=5)\n",
    "ada.fit(X_smote,y_smote) \n",
    "cm = confusion_matrix(y_smote, y_pred)\n",
    "print(classification_report(y_smote, y_pred))\n",
    "print(cm)"
   ]
  },
  {
   "cell_type": "markdown",
   "metadata": {},
   "source": [
    "### XGboost"
   ]
  },
  {
   "cell_type": "code",
   "execution_count": 35,
   "metadata": {},
   "outputs": [
    {
     "name": "stdout",
     "output_type": "stream",
     "text": [
      "              precision    recall  f1-score   support\n",
      "\n",
      "           0       0.71      0.70      0.70       705\n",
      "           1       0.70      0.72      0.71       705\n",
      "\n",
      "    accuracy                           0.71      1410\n",
      "   macro avg       0.71      0.71      0.71      1410\n",
      "weighted avg       0.71      0.71      0.71      1410\n",
      "\n",
      "[[491 214]\n",
      " [199 506]]\n"
     ]
    }
   ],
   "source": [
    "from xgboost import XGBClassifier\n",
    "\n",
    "xgb = XGBClassifier()\n",
    "\n",
    "y_pred = cross_val_predict(xgb, X_smote, y_smote, cv=5)\n",
    "xgb.fit(X_smote,y_smote) \n",
    "cm = confusion_matrix(y_smote, y_pred)\n",
    "print(classification_report(y_smote, y_pred))\n",
    "print(cm)"
   ]
  },
  {
   "cell_type": "markdown",
   "metadata": {},
   "source": [
    "# Hyperparemeter tuning\n",
    "--> GridSearch \n",
    "* Random Forest\n",
    "* ensemble Methods\n",
    "* SVM"
   ]
  },
  {
   "cell_type": "markdown",
   "metadata": {},
   "source": [
    "### GridSearch Adaboost"
   ]
  },
  {
   "cell_type": "code",
   "execution_count": 36,
   "metadata": {},
   "outputs": [
    {
     "name": "stdout",
     "output_type": "stream",
     "text": [
      "Best score:\n",
      "0.72\n",
      "Best parameters:\n",
      "{'learning_rate': 0.1, 'n_estimators': 120}\n",
      "              precision    recall  f1-score   support\n",
      "\n",
      "           0       0.73      0.77      0.75       705\n",
      "           1       0.75      0.71      0.73       705\n",
      "\n",
      "    accuracy                           0.74      1410\n",
      "   macro avg       0.74      0.74      0.74      1410\n",
      "weighted avg       0.74      0.74      0.74      1410\n",
      "\n"
     ]
    }
   ],
   "source": [
    "from sklearn.metrics import fbeta_score, make_scorer\n",
    "\n",
    "ada = AdaBoostClassifier()\n",
    "\n",
    "parameters = {'n_estimators':[50, 120],                \n",
    "              'learning_rate':[0.1, 0.5, 1.]                            \n",
    "             } \n",
    "\n",
    "\n",
    "scorer = {'ftwo_scorer':make_scorer(fbeta_score, beta=1000, average='weighted'), 'prec':'precision', 'rec':'recall', 'f1':'f1'}\n",
    "\n",
    "grid_ada = GridSearchCV(ada, parameters, scoring =scorer, refit='f1') \n",
    "\n",
    "grid_ada.fit(X_smote,y_smote) \n",
    "best_ada = grid_ada.best_estimator_ \n",
    "y_pred = best_ada.predict(X_smote)\n",
    "\n",
    "\n",
    "print('Best score:\\n{:.2f}'.format(grid_ada.best_score_))\n",
    "print(\"Best parameters:\\n{}\".format(grid_ada.best_params_))\n",
    "\n",
    "df_ada = pd.DataFrame(grid_ada.cv_results_ )\n",
    "print(classification_report(y_smote, y_pred))"
   ]
  },
  {
   "cell_type": "markdown",
   "metadata": {},
   "source": [
    "### GridSearch XGboost"
   ]
  },
  {
   "cell_type": "code",
   "execution_count": 40,
   "metadata": {},
   "outputs": [
    {
     "name": "stderr",
     "output_type": "stream",
     "text": [
      "/Users/carlottaulm/opt/anaconda3/envs/nf/lib/python3.6/site-packages/sklearn/utils/validation.py:70: FutureWarning: Pass scoring={'ftwo_scorer': make_scorer(fbeta_score, beta=1000, average=weighted), 'prec': 'precision', 'rec': 'recall', 'f1': 'f1'} as keyword args. From version 0.25 passing these as positional arguments will result in an error\n",
      "  FutureWarning)\n"
     ]
    },
    {
     "name": "stdout",
     "output_type": "stream",
     "text": [
      "Best score:\n",
      "0.73\n",
      "Best parameters:\n",
      "{'colsample_bytree': 1.0, 'gamma': 1.5, 'max_depth': 5, 'min_child_weight': 10, 'subsample': 0.8}\n",
      "              precision    recall  f1-score   support\n",
      "\n",
      "           0       0.86      0.86      0.86       705\n",
      "           1       0.86      0.86      0.86       705\n",
      "\n",
      "    accuracy                           0.86      1410\n",
      "   macro avg       0.86      0.86      0.86      1410\n",
      "weighted avg       0.86      0.86      0.86      1410\n",
      "\n"
     ]
    }
   ],
   "source": [
    "xgb = XGBClassifier()\n",
    "\n",
    "parameters = {\n",
    "        'min_child_weight': [1, 5, 10],\n",
    "        'gamma': [0.5, 1, 1.5, 2, 5],\n",
    "        'subsample': [0.6, 0.8, 1.0],\n",
    "        'colsample_bytree': [0.6, 0.8, 1.0],\n",
    "        'max_depth': [3, 4, 5]\n",
    "        }\n",
    "\n",
    "scorer = {'ftwo_scorer':make_scorer(fbeta_score, beta=1000, average='weighted'), 'prec':'precision', 'rec':'recall', 'f1':'f1'}\n",
    "\n",
    "grid_xgb = GridSearchCV(xgb, parameters, scorer, refit='f1')\n",
    "\n",
    "grid_xgb.fit(X_smote,y_smote) \n",
    "best_xgb = grid_xgb.best_estimator_ \n",
    "y_pred = best_xgb.predict(X_smote)\n",
    "\n",
    "\n",
    "print('Best score:\\n{:.2f}'.format(grid_xgb.best_score_))\n",
    "print(\"Best parameters:\\n{}\".format(grid_xgb.best_params_))\n",
    "df_xgb = pd.DataFrame(grid_xgb.cv_results_ )\n",
    "print(classification_report(y_smote, y_pred))"
   ]
  },
  {
   "cell_type": "markdown",
   "metadata": {},
   "source": [
    "### GridSearch RandomForest"
   ]
  },
  {
   "cell_type": "code",
   "execution_count": 41,
   "metadata": {},
   "outputs": [
    {
     "name": "stdout",
     "output_type": "stream",
     "text": [
      "Best score:\n",
      "0.72\n",
      "Best parameters:\n",
      "{'criterion': 'entropy', 'max_depth': 5, 'max_features': 'sqrt', 'n_estimators': 500}\n",
      "              precision    recall  f1-score   support\n",
      "\n",
      "           0       0.78      0.78      0.78       705\n",
      "           1       0.78      0.78      0.78       705\n",
      "\n",
      "    accuracy                           0.78      1410\n",
      "   macro avg       0.78      0.78      0.78      1410\n",
      "weighted avg       0.78      0.78      0.78      1410\n",
      "\n",
      "[[553 152]\n",
      " [153 552]]\n"
     ]
    }
   ],
   "source": [
    "from sklearn.model_selection import RandomizedSearchCV\n",
    "\n",
    "rnc = RandomForestClassifier()\n",
    "\n",
    "parameters = { \n",
    "    'n_estimators': [100, 200, 500],\n",
    "    'max_features': ['auto', 'sqrt', 'log2'],\n",
    "    'max_depth' : [2,4,5],\n",
    "    'criterion' :['gini', 'entropy']\n",
    "}\n",
    "\n",
    "\n",
    "scorer = {'ftwo_scorer':make_scorer(fbeta_score, beta=1000, average='weighted'), 'prec':'precision', 'rec':'recall', 'f1':'f1'}\n",
    "\n",
    "grid_rnc = GridSearchCV(rnc, parameters, scoring =scorer, refit='f1') \n",
    "\n",
    "\n",
    "grid_rnc.fit(X_smote,y_smote) \n",
    "best_rnc = grid_rnc.best_estimator_ \n",
    "y_pred = best_rnc.predict(X_smote)\n",
    "\n",
    "print('Best score:\\n{:.2f}'.format(grid_rnc.best_score_))\n",
    "print(\"Best parameters:\\n{}\".format(grid_rnc.best_params_))\n",
    "df_rnc = pd.DataFrame(grid_rnc.cv_results_ )\n",
    "\n",
    "\n",
    "cm = confusion_matrix(y_smote, y_pred)\n",
    "print(classification_report(y_smote, y_pred))\n",
    "print(cm)"
   ]
  },
  {
   "cell_type": "markdown",
   "metadata": {},
   "source": [
    "### GridSearch SVM"
   ]
  },
  {
   "cell_type": "code",
   "execution_count": 42,
   "metadata": {},
   "outputs": [
    {
     "name": "stdout",
     "output_type": "stream",
     "text": [
      "Best score:\n",
      "0.71\n",
      "Best parameters:\n",
      "{'C': 1000, 'gamma': 0.001, 'kernel': 'rbf'}\n",
      "              precision    recall  f1-score   support\n",
      "\n",
      "           0       0.73      0.75      0.74       705\n",
      "           1       0.74      0.72      0.73       705\n",
      "\n",
      "    accuracy                           0.74      1410\n",
      "   macro avg       0.74      0.74      0.74      1410\n",
      "weighted avg       0.74      0.74      0.74      1410\n",
      "\n"
     ]
    }
   ],
   "source": [
    "from sklearn.svm import SVC\n",
    "\n",
    "svc = SVC(class_weight='balanced')\n",
    "\n",
    "parameters = [{'kernel': ['rbf'], 'gamma': [1e-3, 1e-4],\n",
    "                     'C': [1, 10, 100, 1000]},\n",
    "                    {'kernel': ['linear'], 'C': [1, 10, 100, 1000],\n",
    "                    }]\n",
    "\n",
    "scorer = {'ftwo_scorer':make_scorer(fbeta_score, beta=1000, average='weighted'), 'prec':'precision', 'rec':'recall', 'f1':'f1'}\n",
    "\n",
    "grid_svc = GridSearchCV(svc, parameters, scoring =scorer, refit='f1') \n",
    "\n",
    "grid_svc.fit(X_smote,y_smote) \n",
    "best_svc = grid_svc.best_estimator_ \n",
    "y_pred = best_svc.predict(X_smote)\n",
    "\n",
    "\n",
    "print('Best score:\\n{:.2f}'.format(grid_svc.best_score_))\n",
    "print(\"Best parameters:\\n{}\".format(grid_svc.best_params_))\n",
    "print\n",
    "df_ada = pd.DataFrame(grid_svc.cv_results_ )\n",
    "print(classification_report(y_smote, y_pred))"
   ]
  },
  {
   "cell_type": "markdown",
   "metadata": {},
   "source": [
    "# Model evaluation\n",
    "* Evaluation of the best Models with the Test Data\n",
    "* Evaluation of feature importance: <br>\n",
    "    The features considers the most important <br>\n",
    "    The values are computed by summing the reduction in Gini Impurity over all of the nodes of the tree in which the feature is used. "
   ]
  },
  {
   "cell_type": "code",
   "execution_count": 43,
   "metadata": {},
   "outputs": [],
   "source": [
    "X_test = df_test.iloc[:,:12]\n",
    "y_test = df_test['Nicotine_bin']"
   ]
  },
  {
   "cell_type": "markdown",
   "metadata": {},
   "source": [
    "### Evaluate Random Forest"
   ]
  },
  {
   "cell_type": "code",
   "execution_count": 44,
   "metadata": {},
   "outputs": [
    {
     "name": "stdout",
     "output_type": "stream",
     "text": [
      "              precision    recall  f1-score   support\n",
      "\n",
      "           0       0.66      0.71      0.68       272\n",
      "           1       0.76      0.71      0.73       348\n",
      "\n",
      "    accuracy                           0.71       620\n",
      "   macro avg       0.71      0.71      0.71       620\n",
      "weighted avg       0.71      0.71      0.71       620\n",
      "\n"
     ]
    },
    {
     "data": {
      "text/plain": [
       "Text(0.5, 1.0, 'Random Forest')"
      ]
     },
     "execution_count": 44,
     "metadata": {},
     "output_type": "execute_result"
    },
    {
     "data": {
      "image/png": "[encoded data removed]",
      "text/plain": [
       "<Figure size 432x288 with 2 Axes>"
      ]
     },
     "metadata": {
      "needs_background": "light"
     },
     "output_type": "display_data"
    }
   ],
   "source": [
    "y_test_pred = best_rnc.predict(X_test)\n",
    "\n",
    "cm = confusion_matrix(y_test, y_test_pred)\n",
    "print(classification_report(y_test, y_test_pred))\n",
    "\n",
    "sns.heatmap(cm, annot=True, \n",
    "            cmap='Blues', fmt='.0f');\n",
    "plt.ylabel('True label')\n",
    "plt.xlabel('Predicted label')\n",
    "plt.title('Random Forest')"
   ]
  },
  {
   "cell_type": "markdown",
   "metadata": {},
   "source": [
    "### Evaluate XGboost"
   ]
  },
  {
   "cell_type": "code",
   "execution_count": 47,
   "metadata": {},
   "outputs": [
    {
     "name": "stdout",
     "output_type": "stream",
     "text": [
      "              precision    recall  f1-score   support\n",
      "\n",
      "           0       0.66      0.68      0.67       272\n",
      "           1       0.74      0.73      0.74       348\n",
      "\n",
      "    accuracy                           0.71       620\n",
      "   macro avg       0.70      0.70      0.70       620\n",
      "weighted avg       0.71      0.71      0.71       620\n",
      "\n"
     ]
    },
    {
     "data": {
      "text/html": [
       "<div>\n",
       "<style scoped>\n",
       "    .dataframe tbody tr th:only-of-type {\n",
       "        vertical-align: middle;\n",
       "    }\n",
       "\n",
       "    .dataframe tbody tr th {\n",
       "        vertical-align: top;\n",
       "    }\n",
       "\n",
       "    .dataframe thead th {\n",
       "        text-align: right;\n",
       "    }\n",
       "</style>\n",
       "<table border=\"1\" class=\"dataframe\">\n",
       "  <thead>\n",
       "    <tr style=\"text-align: right;\">\n",
       "      <th></th>\n",
       "      <th>feature</th>\n",
       "      <th>importance</th>\n",
       "    </tr>\n",
       "  </thead>\n",
       "  <tbody>\n",
       "    <tr>\n",
       "      <th>3</th>\n",
       "      <td>Country</td>\n",
       "      <td>0.189594</td>\n",
       "    </tr>\n",
       "    <tr>\n",
       "      <th>0</th>\n",
       "      <td>Age</td>\n",
       "      <td>0.165033</td>\n",
       "    </tr>\n",
       "    <tr>\n",
       "      <th>11</th>\n",
       "      <td>SS</td>\n",
       "      <td>0.109168</td>\n",
       "    </tr>\n",
       "    <tr>\n",
       "      <th>2</th>\n",
       "      <td>Education</td>\n",
       "      <td>0.082662</td>\n",
       "    </tr>\n",
       "    <tr>\n",
       "      <th>9</th>\n",
       "      <td>Cscore</td>\n",
       "      <td>0.078560</td>\n",
       "    </tr>\n",
       "  </tbody>\n",
       "</table>\n",
       "</div>"
      ],
      "text/plain": [
       "      feature  importance\n",
       "3     Country    0.189594\n",
       "0         Age    0.165033\n",
       "11         SS    0.109168\n",
       "2   Education    0.082662\n",
       "9      Cscore    0.078560"
      ]
     },
     "execution_count": 47,
     "metadata": {},
     "output_type": "execute_result"
    },
    {
     "data": {
      "image/png": "[encoded data removed]",
      "text/plain": [
       "<Figure size 432x288 with 2 Axes>"
      ]
     },
     "metadata": {
      "needs_background": "light"
     },
     "output_type": "display_data"
    }
   ],
   "source": [
    "y_test_pred = best_xgb.predict(X_test)\n",
    "\n",
    "cm = confusion_matrix(y_test, y_test_pred)\n",
    "print(classification_report(y_test, y_test_pred))\n",
    "\n",
    "sns.heatmap(cm, annot=True, \n",
    "            cmap='Blues', fmt='.0f');\n",
    "plt.ylabel('True label')\n",
    "plt.xlabel('Predicted label')\n",
    "plt.title('XGboost')\n",
    "\n",
    "fi_xgb_grid = pd.DataFrame({'feature': features,\n",
    "                   'importance': best_xgb.feature_importances_}).\\\n",
    "                    sort_values('importance', ascending = False)\n",
    "fi_xgb_grid.head(5)"
   ]
  },
  {
   "cell_type": "markdown",
   "metadata": {},
   "source": [
    "### Evaluate Adaboost"
   ]
  },
  {
   "cell_type": "code",
   "execution_count": 39,
   "metadata": {},
   "outputs": [
    {
     "name": "stdout",
     "output_type": "stream",
     "text": [
      "              precision    recall  f1-score   support\n",
      "\n",
      "           0       0.65      0.72      0.68       272\n",
      "           1       0.76      0.69      0.72       348\n",
      "\n",
      "    accuracy                           0.70       620\n",
      "   macro avg       0.70      0.71      0.70       620\n",
      "weighted avg       0.71      0.70      0.71       620\n",
      "\n"
     ]
    },
    {
     "data": {
      "text/plain": [
       "Text(0.5, 1.0, 'Adaboost')"
      ]
     },
     "execution_count": 39,
     "metadata": {},
     "output_type": "execute_result"
    },
    {
     "data": {
      "image/png": "[encoded data removed]",
      "text/plain": [
       "<Figure size 432x288 with 2 Axes>"
      ]
     },
     "metadata": {
      "needs_background": "light"
     },
     "output_type": "display_data"
    }
   ],
   "source": [
    "y_test_pred = best_ada.predict(X_test)\n",
    "\n",
    "cm = confusion_matrix(y_test, y_test_pred)\n",
    "print(classification_report(y_test, y_test_pred))\n",
    "\n",
    "sns.heatmap(cm, annot=True, \n",
    "            cmap='Blues', fmt='.0f');\n",
    "plt.ylabel('True label')\n",
    "plt.xlabel('Predicted label')\n",
    "plt.title('Adaboost')"
   ]
  },
  {
   "cell_type": "markdown",
   "metadata": {},
   "source": [
    "### Evaluate SVM"
   ]
  },
  {
   "cell_type": "code",
   "execution_count": 46,
   "metadata": {},
   "outputs": [
    {
     "name": "stdout",
     "output_type": "stream",
     "text": [
      "              precision    recall  f1-score   support\n",
      "\n",
      "           0       0.65      0.75      0.70       272\n",
      "           1       0.78      0.69      0.73       348\n",
      "\n",
      "    accuracy                           0.71       620\n",
      "   macro avg       0.71      0.72      0.71       620\n",
      "weighted avg       0.72      0.71      0.71       620\n",
      "\n"
     ]
    },
    {
     "data": {
      "text/plain": [
       "Text(0.5, 1.0, 'SVC')"
      ]
     },
     "execution_count": 46,
     "metadata": {},
     "output_type": "execute_result"
    },
    {
     "data": {
      "image/png": "[encoded data removed]",
      "text/plain": [
       "<Figure size 432x288 with 2 Axes>"
      ]
     },
     "metadata": {
      "needs_background": "light"
     },
     "output_type": "display_data"
    }
   ],
   "source": [
    "y_test_pred = best_svc.predict(X_test)\n",
    "\n",
    "cm = confusion_matrix(y_test, y_test_pred)\n",
    "print(classification_report(y_test, y_test_pred))\n",
    "\n",
    "sns.heatmap(cm, annot=True, \n",
    "            cmap='Blues', fmt='.0f');\n",
    "plt.ylabel('True label')\n",
    "plt.xlabel('Predicted label')\n",
    "plt.title('SVC')"
   ]
  },
  {
   "cell_type": "code",
   "execution_count": null,
   "metadata": {},
   "outputs": [],
   "source": []
  }
 ],
 "metadata": {
  "kernelspec": {
   "display_name": "Python [conda env:nf] *",
   "language": "python",
   "name": "conda-env-nf-py"
  },
  "language_info": {
   "codemirror_mode": {
    "name": "ipython",
    "version": 3
   },
   "file_extension": ".py",
   "mimetype": "text/x-python",
   "name": "python",
   "nbconvert_exporter": "python",
   "pygments_lexer": "ipython3",
   "version": "3.6.10"
  }
 },
 "nbformat": 4,
 "nbformat_minor": 4
}
