{
 "cells": [
  {
   "cell_type": "code",
   "execution_count": 63,
   "metadata": {},
   "outputs": [],
   "source": [
    "import numpy as np\n",
    "import pandas as pd\n",
    "\n",
    "import seaborn as sns\n",
    "\n",
    "from collections import Counter\n",
    "\n",
    "from sklearn.tree import DecisionTreeClassifier\n",
    "from sklearn.svm import SVC\n",
    "from sklearn.ensemble import AdaBoostClassifier\n",
    "from sklearn.ensemble import RandomForestClassifier\n",
    "from sklearn.linear_model import LogisticRegression\n",
    "from sklearn.naive_bayes import GaussianNB\n",
    "from sklearn.neighbors import KNeighborsClassifier\n",
    "from sklearn import svm\n",
    "from sklearn.model_selection import train_test_split\n",
    "\n",
    "from sklearn.model_selection import cross_val_predict, cross_val_score\n",
    "from sklearn.model_selection import GridSearchCV\n",
    "from sklearn.model_selection import RandomizedSearchCV\n",
    "\n",
    "from sklearn.metrics import classification_report, confusion_matrix\n",
    "\n",
    "from imblearn.over_sampling import SMOTE"
   ]
  },
  {
   "cell_type": "code",
   "execution_count": 64,
   "metadata": {},
   "outputs": [],
   "source": [
    "pd.set_option(\"display.max_columns\", None)"
   ]
  },
  {
   "cell_type": "markdown",
   "metadata": {},
   "source": [
    "# Process data and drop ID and Semer"
   ]
  },
  {
   "cell_type": "code",
   "execution_count": 89,
   "metadata": {},
   "outputs": [],
   "source": [
    "data = pd.read_excel(\"../../data/raw/drug_consumption.xls\")\n",
    "\n",
    "drugs = data.columns[13:]\n",
    "for drug in drugs: \n",
    "    data[drug] = data[drug].str.replace('CL', '').astype('int')\n",
    "\n",
    "data.query('Semer == 0', inplace = True)\n",
    "\n",
    "data.drop('ID', axis=1, inplace=True)\n",
    "data.drop('Semer', axis=1, inplace=True)"
   ]
  },
  {
   "cell_type": "markdown",
   "metadata": {},
   "source": [
    "# Create bin for illegal drus 1"
   ]
  },
  {
   "cell_type": "code",
   "execution_count": 90,
   "metadata": {},
   "outputs": [],
   "source": [
    "alcohol = ['Alcohol']\n",
    "\n",
    "nicotine = ['Nicotine']\n",
    "\n",
    "illegal_drugs1 = ['Cannabis', 'Legalh', 'LSD', 'Shrooms', \n",
    "                  'Amphet', 'Amyl', 'Ecstasy', 'Ketamine', \n",
    "                  'Coke']\n",
    "\n",
    "illegal_drugs2 = ['Meth', 'Benzos', 'Heroin', 'Crack']"
   ]
  },
  {
   "cell_type": "code",
   "execution_count": 91,
   "metadata": {},
   "outputs": [],
   "source": [
    "borders = [5, 3, 3, 3, 3, 3, 3, 3, 3]\n",
    "drug_zip = list(zip(borders, illegal_drugs1))\n",
    "\n",
    "for b, drug in zip(borders, illegal_drugs1):\n",
    "    data[drug+'_bin'] = [1 if d > b else 0 for d in data[drug].values]"
   ]
  },
  {
   "cell_type": "code",
   "execution_count": 92,
   "metadata": {},
   "outputs": [
    {
     "data": {
      "text/plain": [
       "Cannabis_bin    458\n",
       "Legalh_bin      240\n",
       "LSD_bin         163\n",
       "Shrooms_bin     156\n",
       "Amphet_bin      237\n",
       "Amyl_bin         41\n",
       "Ecstasy_bin     238\n",
       "Ketamine_bin     77\n",
       "Coke_bin        157\n",
       "dtype: int64"
      ]
     },
     "execution_count": 92,
     "metadata": {},
     "output_type": "execute_result"
    }
   ],
   "source": [
    "data.iloc[:, -9:].sum(axis=0)"
   ]
  },
  {
   "cell_type": "code",
   "execution_count": 93,
   "metadata": {},
   "outputs": [
    {
     "data": {
      "text/plain": [
       "0    1078\n",
       "1     799\n",
       "Name: illegal_drugs_1, dtype: int64"
      ]
     },
     "execution_count": 93,
     "metadata": {},
     "output_type": "execute_result"
    }
   ],
   "source": [
    "data['illegal_drugs_1'] = data.iloc[:, -9:].sum(axis=1)\n",
    "\n",
    "data['illegal_drugs_1'] = [1 if ill > 0 else 0 for ill in data.illegal_drugs_1.values]\n",
    "data.illegal_drugs_1.value_counts()"
   ]
  },
  {
   "cell_type": "code",
   "execution_count": 94,
   "metadata": {},
   "outputs": [
    {
     "name": "stdout",
     "output_type": "stream",
     "text": [
      "0    0.574383\n",
      "1    0.425617\n",
      "Name: illegal_drugs_1, dtype: float64\n",
      "0    0.574194\n",
      "1    0.425806\n",
      "Name: illegal_drugs_1, dtype: float64\n"
     ]
    }
   ],
   "source": [
    "df, df_test = train_test_split(data, test_size=0.33, random_state=1, stratify=data.illegal_drugs_1, shuffle=True)\n",
    "\n",
    "print(df.illegal_drugs_1.value_counts()/df.shape[0])\n",
    "print(df_test.illegal_drugs_1.value_counts()/df_test.shape[0])"
   ]
  },
  {
   "cell_type": "code",
   "execution_count": 95,
   "metadata": {},
   "outputs": [],
   "source": [
    "X = df.iloc[:, :12]"
   ]
  },
  {
   "cell_type": "code",
   "execution_count": 96,
   "metadata": {},
   "outputs": [],
   "source": [
    "y = df.illegal_drugs_1"
   ]
  },
  {
   "cell_type": "markdown",
   "metadata": {},
   "source": [
    "# Models\n",
    "- Naive Bayes\n",
    "- Decision Tree\n",
    "- Random Forests\n",
    "- KNN\n",
    "- Logreg\n",
    "- SVM\n",
    "- Assemble Methods (AdaBoost, XGBoost)"
   ]
  },
  {
   "cell_type": "markdown",
   "metadata": {},
   "source": [
    "# Naive Bayes - Baseline"
   ]
  },
  {
   "cell_type": "code",
   "execution_count": 73,
   "metadata": {},
   "outputs": [],
   "source": [
    "clf = GaussianNB()\n",
    "#clf.fit(X, y)"
   ]
  },
  {
   "cell_type": "code",
   "execution_count": 74,
   "metadata": {},
   "outputs": [
    {
     "name": "stdout",
     "output_type": "stream",
     "text": [
      "[0.84716157 0.82142857 0.82969432 0.77922078 0.80686695]\n"
     ]
    }
   ],
   "source": [
    "f1_score = cross_val_score(clf, X, y, scoring='f1')\n",
    "print(f1_score)"
   ]
  },
  {
   "cell_type": "code",
   "execution_count": 75,
   "metadata": {},
   "outputs": [],
   "source": [
    "y_pred_NB_drugs1 = cross_val_predict(clf,X, y, cv=5)"
   ]
  },
  {
   "cell_type": "code",
   "execution_count": 76,
   "metadata": {},
   "outputs": [
    {
     "name": "stdout",
     "output_type": "stream",
     "text": [
      "              precision    recall  f1-score   support\n",
      "\n",
      "           0       0.80      0.82      0.81       549\n",
      "           1       0.82      0.81      0.82       577\n",
      "\n",
      "    accuracy                           0.81      1126\n",
      "   macro avg       0.81      0.81      0.81      1126\n",
      "weighted avg       0.81      0.81      0.81      1126\n",
      "\n",
      "[[448 101]\n",
      " [109 468]]\n"
     ]
    }
   ],
   "source": [
    "print(classification_report(y, y_pred_NB_drugs1))\n",
    "print(confusion_matrix(y, y_pred_NB_drugs1))"
   ]
  },
  {
   "cell_type": "markdown",
   "metadata": {},
   "source": [
    "## SMOTE Naive Bayes"
   ]
  },
  {
   "cell_type": "code",
   "execution_count": 77,
   "metadata": {},
   "outputs": [
    {
     "data": {
      "text/plain": [
       "1    0.512433\n",
       "0    0.487567\n",
       "Name: illegal_drugs_1, dtype: float64"
      ]
     },
     "execution_count": 77,
     "metadata": {},
     "output_type": "execute_result"
    }
   ],
   "source": [
    "df.illegal_drugs_1.value_counts()/df.shape[0]"
   ]
  },
  {
   "cell_type": "code",
   "execution_count": 78,
   "metadata": {},
   "outputs": [
    {
     "data": {
      "text/plain": [
       "Counter({0: 549, 1: 577})"
      ]
     },
     "execution_count": 78,
     "metadata": {},
     "output_type": "execute_result"
    }
   ],
   "source": [
    "Counter(y)"
   ]
  },
  {
   "cell_type": "code",
   "execution_count": 79,
   "metadata": {},
   "outputs": [],
   "source": [
    "oversample = SMOTE()\n",
    "X_smote, y_smote = oversample.fit_resample(X, y)"
   ]
  },
  {
   "cell_type": "code",
   "execution_count": 80,
   "metadata": {},
   "outputs": [],
   "source": [
    "clf = GaussianNB()"
   ]
  },
  {
   "cell_type": "code",
   "execution_count": 81,
   "metadata": {},
   "outputs": [],
   "source": [
    "y_pred_NB_drugs1_smote = cross_val_predict(clf,X_smote, y_smote, cv=5)"
   ]
  },
  {
   "cell_type": "code",
   "execution_count": 82,
   "metadata": {},
   "outputs": [
    {
     "name": "stdout",
     "output_type": "stream",
     "text": [
      "              precision    recall  f1-score   support\n",
      "\n",
      "           0       0.81      0.82      0.82       577\n",
      "           1       0.82      0.81      0.82       577\n",
      "\n",
      "    accuracy                           0.82      1154\n",
      "   macro avg       0.82      0.82      0.82      1154\n",
      "weighted avg       0.82      0.82      0.82      1154\n",
      "\n",
      "[[474 103]\n",
      " [109 468]]\n"
     ]
    }
   ],
   "source": [
    "print(classification_report(y_smote, y_pred_NB_drugs1_smote))\n",
    "print(confusion_matrix(y_smote, y_pred_NB_drugs1_smote))"
   ]
  },
  {
   "cell_type": "markdown",
   "metadata": {},
   "source": [
    "# Decision Tree"
   ]
  },
  {
   "cell_type": "code",
   "execution_count": 83,
   "metadata": {},
   "outputs": [
    {
     "name": "stdout",
     "output_type": "stream",
     "text": [
      "              precision    recall  f1-score   support\n",
      "\n",
      "           0       0.76      0.80      0.78       577\n",
      "           1       0.79      0.75      0.77       577\n",
      "\n",
      "    accuracy                           0.78      1154\n",
      "   macro avg       0.78      0.78      0.78      1154\n",
      "weighted avg       0.78      0.78      0.78      1154\n",
      "\n"
     ]
    },
    {
     "data": {
      "image/png": "[encoded data removed]",
      "text/plain": [
       "<Figure size 432x288 with 2 Axes>"
      ]
     },
     "metadata": {
      "needs_background": "light"
     },
     "output_type": "display_data"
    }
   ],
   "source": [
    "dtree = DecisionTreeClassifier(max_depth=10)\n",
    "y_pred_drugs1_dt = cross_val_predict(dtree, X_smote, y_smote, cv=5)\n",
    "cm = confusion_matrix(y_smote, y_pred_drugs1_dt)\n",
    "print(classification_report(y_smote, y_pred_drugs1_dt))\n",
    "sns.heatmap(cm, annot=True,\n",
    "            cmap='Blues', fmt='.0f');"
   ]
  },
  {
   "cell_type": "markdown",
   "metadata": {},
   "source": [
    "# Random Forest"
   ]
  },
  {
   "cell_type": "code",
   "execution_count": 84,
   "metadata": {},
   "outputs": [
    {
     "name": "stdout",
     "output_type": "stream",
     "text": [
      "              precision    recall  f1-score   support\n",
      "\n",
      "           0       0.84      0.83      0.84       577\n",
      "           1       0.83      0.84      0.84       577\n",
      "\n",
      "    accuracy                           0.84      1154\n",
      "   macro avg       0.84      0.84      0.84      1154\n",
      "weighted avg       0.84      0.84      0.84      1154\n",
      "\n"
     ]
    },
    {
     "data": {
      "image/png": "[encoded data removed]",
      "text/plain": [
       "<Figure size 432x288 with 2 Axes>"
      ]
     },
     "metadata": {
      "needs_background": "light"
     },
     "output_type": "display_data"
    }
   ],
   "source": [
    "rf = RandomForestClassifier(n_estimators = 200, random_state=10)#, class_weight=\"balanced\")\n",
    "y_pred_drugs1_rf = cross_val_predict(rf, X_smote, y_smote, cv=5)\n",
    "cm = confusion_matrix(y_smote, y_pred_drugs1_rf)\n",
    "print(classification_report(y_smote, y_pred_drugs1_rf))\n",
    "sns.heatmap(cm, annot=True,\n",
    "            cmap='Blues', fmt='.0f');"
   ]
  },
  {
   "cell_type": "code",
   "execution_count": 98,
   "metadata": {},
   "outputs": [],
   "source": [
    "rnc = RandomForestClassifier()\n",
    "\n",
    "parameters = { \n",
    "    'n_estimators': np.arange(20, 3000, 10),\n",
    "    'max_features': ['auto', 'sqrt', 'log2'],\n",
    "    'max_depth' : np.arange(1, 20, 1),\n",
    "    'min_samples_leaf' : np.arange(2, 20, 2),\n",
    "    'min_samples_split' : np.arange(2, 20, 2),\n",
    "    'criterion' :['gini', 'entropy']\n",
    "}\n",
    "\n",
    "scorer = {\n",
    "          'prec': 'precision', \n",
    "          'recall': 'recall',\n",
    "          'f1': 'f1',\n",
    "        #  'fbeta': make_scorer(fbeta_score, beta=5, average = \"weighted\")\n",
    "         }\n",
    "\n",
    "grid_rnc = RandomizedSearchCV(rnc, parameters, scoring=scorer, refit='f1') \n",
    "grid_rnc.fit(X_smote,y_smote) \n",
    "best_rnc = grid_rnc.best_estimator_ \n",
    "best_scores = grid_rnc.cv_results_\n",
    "best_param = grid_rnc.best_estimator_"
   ]
  },
  {
   "cell_type": "code",
   "execution_count": 99,
   "metadata": {},
   "outputs": [
    {
     "data": {
      "text/plain": [
       "RandomForestClassifier(max_depth=16, max_features='log2', min_samples_leaf=4,\n",
       "                       min_samples_split=10, n_estimators=2940)"
      ]
     },
     "execution_count": 99,
     "metadata": {},
     "output_type": "execute_result"
    }
   ],
   "source": [
    "best_rnc"
   ]
  },
  {
   "cell_type": "code",
   "execution_count": 100,
   "metadata": {},
   "outputs": [
    {
     "name": "stdout",
     "output_type": "stream",
     "text": [
      "              precision    recall  f1-score   support\n",
      "\n",
      "           0       0.91      0.79      0.84       722\n",
      "           1       0.76      0.89      0.82       535\n",
      "\n",
      "    accuracy                           0.83      1257\n",
      "   macro avg       0.83      0.84      0.83      1257\n",
      "weighted avg       0.84      0.83      0.83      1257\n",
      "\n"
     ]
    }
   ],
   "source": [
    "y_pred_rnc_train = best_rnc.predict(X)\n",
    "print(classification_report(y, y_pred_rnc_train))"
   ]
  },
  {
   "cell_type": "markdown",
   "metadata": {},
   "source": [
    "# Logistische Regression"
   ]
  },
  {
   "cell_type": "code",
   "execution_count": 87,
   "metadata": {},
   "outputs": [
    {
     "name": "stdout",
     "output_type": "stream",
     "text": [
      "              precision    recall  f1-score   support\n",
      "\n",
      "           0       0.81      0.86      0.84       577\n",
      "           1       0.85      0.80      0.83       577\n",
      "\n",
      "    accuracy                           0.83      1154\n",
      "   macro avg       0.83      0.83      0.83      1154\n",
      "weighted avg       0.83      0.83      0.83      1154\n",
      "\n"
     ]
    },
    {
     "data": {
      "image/png": "[encoded data removed]",
      "text/plain": [
       "<Figure size 432x288 with 2 Axes>"
      ]
     },
     "metadata": {
      "needs_background": "light"
     },
     "output_type": "display_data"
    }
   ],
   "source": [
    "logreg = LogisticRegression(max_iter=1000, solver=\"liblinear\")\n",
    "y_pred_drugs1_lr = cross_val_predict(logreg, X_smote, y_smote, cv=5)\n",
    "cm = confusion_matrix(y_smote, y_pred_drugs1_lr)\n",
    "print(classification_report(y_smote, y_pred_drugs1_lr))\n",
    "sns.heatmap(cm, annot=True,\n",
    "            cmap='Blues', fmt='.0f');"
   ]
  },
  {
   "cell_type": "markdown",
   "metadata": {},
   "source": [
    "#  KNN"
   ]
  },
  {
   "cell_type": "code",
   "execution_count": 440,
   "metadata": {},
   "outputs": [
    {
     "name": "stdout",
     "output_type": "stream",
     "text": [
      "              precision    recall  f1-score   support\n",
      "\n",
      "           0       0.77      0.87      0.82       639\n",
      "           1       0.85      0.74      0.79       639\n",
      "\n",
      "    accuracy                           0.81      1278\n",
      "   macro avg       0.81      0.81      0.80      1278\n",
      "weighted avg       0.81      0.81      0.80      1278\n",
      "\n"
     ]
    },
    {
     "data": {
      "image/png": "[encoded data removed]",
      "text/plain": [
       "<Figure size 432x288 with 2 Axes>"
      ]
     },
     "metadata": {
      "needs_background": "light"
     },
     "output_type": "display_data"
    }
   ],
   "source": [
    "knn = KNeighborsClassifier(n_neighbors=8)\n",
    "y_pred_drugs1_knn = cross_val_predict(knn, X_smote, y_smote, cv=5)\n",
    "cm = confusion_matrix(y_smote, y_pred_drugs1_knn)\n",
    "print(classification_report(y_smote, y_pred_drugs1_knn))\n",
    "sns.heatmap(cm, annot=True,\n",
    "            cmap='Blues', fmt='.0f');"
   ]
  },
  {
   "cell_type": "markdown",
   "metadata": {},
   "source": [
    "# Support Vector Machines"
   ]
  },
  {
   "cell_type": "code",
   "execution_count": 441,
   "metadata": {},
   "outputs": [],
   "source": [
    "sv = svm.SVC(kernel='rbf')"
   ]
  },
  {
   "cell_type": "code",
   "execution_count": 442,
   "metadata": {},
   "outputs": [
    {
     "name": "stdout",
     "output_type": "stream",
     "text": [
      "              precision    recall  f1-score   support\n",
      "\n",
      "           0       0.80      0.83      0.81       639\n",
      "           1       0.82      0.80      0.81       639\n",
      "\n",
      "    accuracy                           0.81      1278\n",
      "   macro avg       0.81      0.81      0.81      1278\n",
      "weighted avg       0.81      0.81      0.81      1278\n",
      "\n"
     ]
    },
    {
     "data": {
      "image/png": "[encoded data removed]",
      "text/plain": [
       "<Figure size 432x288 with 2 Axes>"
      ]
     },
     "metadata": {
      "needs_background": "light"
     },
     "output_type": "display_data"
    }
   ],
   "source": [
    "y_pred_drugs1_svm = cross_val_predict(sv, X_smote, y_smote, cv=5)\n",
    "cm = confusion_matrix(y_smote, y_pred_drugs1_svm)\n",
    "print(classification_report(y_smote, y_pred_drugs1_svm))\n",
    "sns.heatmap(cm, annot=True,\n",
    "            cmap='Blues', fmt='.0f');"
   ]
  },
  {
   "cell_type": "markdown",
   "metadata": {},
   "source": [
    "# XG Boost"
   ]
  },
  {
   "cell_type": "code",
   "execution_count": 86,
   "metadata": {},
   "outputs": [
    {
     "name": "stdout",
     "output_type": "stream",
     "text": [
      "              precision    recall  f1-score   support\n",
      "\n",
      "           0       0.82      0.81      0.82       577\n",
      "           1       0.81      0.82      0.82       577\n",
      "\n",
      "    accuracy                           0.82      1154\n",
      "   macro avg       0.82      0.82      0.82      1154\n",
      "weighted avg       0.82      0.82      0.82      1154\n",
      "\n",
      "[[470 107]\n",
      " [106 471]]\n"
     ]
    }
   ],
   "source": [
    "from xgboost import XGBClassifier\n",
    "xgb = XGBClassifier()\n",
    "y_pred_drugs1_XG = cross_val_predict(xgb, X_smote, y_smote, cv=5)\n",
    "cm = confusion_matrix(y_smote, y_pred_drugs1_XG)\n",
    "print(classification_report(y_smote, y_pred_drugs1_XG))\n",
    "print(cm)"
   ]
  },
  {
   "cell_type": "markdown",
   "metadata": {},
   "source": [
    "# AdaBoost"
   ]
  },
  {
   "cell_type": "code",
   "execution_count": 30,
   "metadata": {},
   "outputs": [
    {
     "name": "stdout",
     "output_type": "stream",
     "text": [
      "              precision    recall  f1-score   support\n",
      "\n",
      "           0       0.81      0.83      0.82       640\n",
      "           1       0.83      0.80      0.81       640\n",
      "\n",
      "    accuracy                           0.82      1280\n",
      "   macro avg       0.82      0.82      0.82      1280\n",
      "weighted avg       0.82      0.82      0.82      1280\n",
      "\n",
      "[[534 106]\n",
      " [129 511]]\n"
     ]
    }
   ],
   "source": [
    "from sklearn.ensemble import AdaBoostClassifier\n",
    "ada = AdaBoostClassifier(random_state = 101)\n",
    "y_pred_ada = cross_val_predict(ada, X_smote, y_smote, cv=5)\n",
    "cm = confusion_matrix(y_smote, y_pred_ada)\n",
    "print(classification_report(y_smote, y_pred_ada))\n",
    "print(cm)"
   ]
  },
  {
   "cell_type": "code",
   "execution_count": null,
   "metadata": {},
   "outputs": [],
   "source": []
  },
  {
   "cell_type": "markdown",
   "metadata": {},
   "source": [
    "# F1 beta score, weighting of parameters, feature selection"
   ]
  },
  {
   "cell_type": "markdown",
   "metadata": {},
   "source": [
    "# Evaluation"
   ]
  },
  {
   "cell_type": "code",
   "execution_count": 101,
   "metadata": {},
   "outputs": [],
   "source": [
    "X_test = df_test.iloc[:, :12]\n",
    "y_test = df_test.illegal_drugs_1"
   ]
  },
  {
   "cell_type": "code",
   "execution_count": 102,
   "metadata": {},
   "outputs": [],
   "source": [
    "y_pred_rf_test = grid_rnc.best_estimator_.predict(X_test)"
   ]
  },
  {
   "cell_type": "code",
   "execution_count": 103,
   "metadata": {},
   "outputs": [
    {
     "name": "stdout",
     "output_type": "stream",
     "text": [
      "              precision    recall  f1-score   support\n",
      "\n",
      "           0       0.93      0.74      0.82       356\n",
      "           1       0.72      0.92      0.81       264\n",
      "\n",
      "    accuracy                           0.82       620\n",
      "   macro avg       0.83      0.83      0.82       620\n",
      "weighted avg       0.84      0.82      0.82       620\n",
      "\n"
     ]
    },
    {
     "data": {
      "image/png": "[encoded data removed]",
      "text/plain": [
       "<Figure size 432x288 with 2 Axes>"
      ]
     },
     "metadata": {
      "needs_background": "light"
     },
     "output_type": "display_data"
    }
   ],
   "source": [
    "cm = confusion_matrix(y_test, y_pred_rf_test)\n",
    "print(classification_report(y_test, y_pred_rf_test))\n",
    "sns.heatmap(cm, annot=True,\n",
    "            cmap='Blues', fmt='.0f');"
   ]
  },
  {
   "cell_type": "code",
   "execution_count": 106,
   "metadata": {},
   "outputs": [],
   "source": [
    "from sklearn.metrics import plot_precision_recall_curve\n",
    "import matplotlib.pyplot as plt"
   ]
  },
  {
   "cell_type": "code",
   "execution_count": 111,
   "metadata": {},
   "outputs": [
    {
     "data": {
      "text/plain": [
       "Text(0, 0.5, 'Precision')"
      ]
     },
     "execution_count": 111,
     "metadata": {},
     "output_type": "execute_result"
    },
    {
     "data": {
      "text/plain": [
       "<Figure size 720x720 with 0 Axes>"
      ]
     },
     "metadata": {},
     "output_type": "display_data"
    },
    {
     "data": {
      "image/png": "[encoded data removed]",
      "text/plain": [
       "<Figure size 432x288 with 1 Axes>"
      ]
     },
     "metadata": {
      "needs_background": "light"
     },
     "output_type": "display_data"
    }
   ],
   "source": [
    "fig = plt.figure(figsize=(10,10))\n",
    "disp = plot_precision_recall_curve(grid_rnc.best_estimator_, X_test, y_test)\n",
    "plt.xlim((0.5,1))\n",
    "plt.xticks(fontsize=13)\n",
    "plt.yticks(fontsize=13)\n",
    "plt.xlabel('Recall', fontsize=13)\n",
    "plt.ylabel('Precision', fontsize=13)"
   ]
  },
  {
   "cell_type": "code",
   "execution_count": 113,
   "metadata": {},
   "outputs": [
    {
     "data": {
      "text/html": [
       "<div>\n",
       "<style scoped>\n",
       "    .dataframe tbody tr th:only-of-type {\n",
       "        vertical-align: middle;\n",
       "    }\n",
       "\n",
       "    .dataframe tbody tr th {\n",
       "        vertical-align: top;\n",
       "    }\n",
       "\n",
       "    .dataframe thead th {\n",
       "        text-align: right;\n",
       "    }\n",
       "</style>\n",
       "<table border=\"1\" class=\"dataframe\">\n",
       "  <thead>\n",
       "    <tr style=\"text-align: right;\">\n",
       "      <th></th>\n",
       "      <th>feature</th>\n",
       "      <th>importance</th>\n",
       "    </tr>\n",
       "  </thead>\n",
       "  <tbody>\n",
       "    <tr>\n",
       "      <th>3</th>\n",
       "      <td>Country</td>\n",
       "      <td>0.295830</td>\n",
       "    </tr>\n",
       "    <tr>\n",
       "      <th>11</th>\n",
       "      <td>SS</td>\n",
       "      <td>0.147318</td>\n",
       "    </tr>\n",
       "    <tr>\n",
       "      <th>0</th>\n",
       "      <td>Age</td>\n",
       "      <td>0.137096</td>\n",
       "    </tr>\n",
       "    <tr>\n",
       "      <th>7</th>\n",
       "      <td>Oscore</td>\n",
       "      <td>0.093260</td>\n",
       "    </tr>\n",
       "    <tr>\n",
       "      <th>9</th>\n",
       "      <td>Cscore</td>\n",
       "      <td>0.066403</td>\n",
       "    </tr>\n",
       "  </tbody>\n",
       "</table>\n",
       "</div>"
      ],
      "text/plain": [
       "    feature  importance\n",
       "3   Country    0.295830\n",
       "11       SS    0.147318\n",
       "0       Age    0.137096\n",
       "7    Oscore    0.093260\n",
       "9    Cscore    0.066403"
      ]
     },
     "execution_count": 113,
     "metadata": {},
     "output_type": "execute_result"
    }
   ],
   "source": [
    "features = list(X.columns)\n",
    "\n",
    "fi_rf = pd.DataFrame({'feature': features,\n",
    "                   'importance': grid_rnc.best_estimator_.feature_importances_}).\\\n",
    "                    sort_values('importance', ascending = False)\n",
    "fi_rf.head(5)"
   ]
  },
  {
   "cell_type": "code",
   "execution_count": null,
   "metadata": {},
   "outputs": [],
   "source": []
  }
 ],
 "metadata": {
  "kernelspec": {
   "display_name": "Python [conda env:nf] *",
   "language": "python",
   "name": "conda-env-nf-py"
  },
  "language_info": {
   "codemirror_mode": {
    "name": "ipython",
    "version": 3
   },
   "file_extension": ".py",
   "mimetype": "text/x-python",
   "name": "python",
   "nbconvert_exporter": "python",
   "pygments_lexer": "ipython3",
   "version": "3.6.11"
  }
 },
 "nbformat": 4,
 "nbformat_minor": 4
}
